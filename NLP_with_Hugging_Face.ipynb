{
  "nbformat": 4,
  "nbformat_minor": 0,
  "metadata": {
    "colab": {
      "provenance": []
    },
    "kernelspec": {
      "name": "python3",
      "display_name": "Python 3"
    },
    "language_info": {
      "name": "python"
    },
    "widgets": {
      "application/vnd.jupyter.widget-state+json": {
        "ce6d2068f95e430399255c6e9ce22ea2": {
          "model_module": "@jupyter-widgets/controls",
          "model_name": "HBoxModel",
          "model_module_version": "1.5.0",
          "state": {
            "_dom_classes": [],
            "_model_module": "@jupyter-widgets/controls",
            "_model_module_version": "1.5.0",
            "_model_name": "HBoxModel",
            "_view_count": null,
            "_view_module": "@jupyter-widgets/controls",
            "_view_module_version": "1.5.0",
            "_view_name": "HBoxView",
            "box_style": "",
            "children": [
              "IPY_MODEL_ffcf9e90b2934e5b8c94c69647c7da59",
              "IPY_MODEL_9ba22de495e34458806fa1e83a48a80f",
              "IPY_MODEL_c7199a9f5bcb4a8f9d0208906906f2c5"
            ],
            "layout": "IPY_MODEL_cb9636f106724af1b70050506bbf80d3"
          }
        },
        "ffcf9e90b2934e5b8c94c69647c7da59": {
          "model_module": "@jupyter-widgets/controls",
          "model_name": "HTMLModel",
          "model_module_version": "1.5.0",
          "state": {
            "_dom_classes": [],
            "_model_module": "@jupyter-widgets/controls",
            "_model_module_version": "1.5.0",
            "_model_name": "HTMLModel",
            "_view_count": null,
            "_view_module": "@jupyter-widgets/controls",
            "_view_module_version": "1.5.0",
            "_view_name": "HTMLView",
            "description": "",
            "description_tooltip": null,
            "layout": "IPY_MODEL_ed14113b8db44a9b85d2fd27d7a9ebc0",
            "placeholder": "​",
            "style": "IPY_MODEL_33cf8e2a140c4c50b9a98a46ab9e8840",
            "value": "config.json: 100%"
          }
        },
        "9ba22de495e34458806fa1e83a48a80f": {
          "model_module": "@jupyter-widgets/controls",
          "model_name": "FloatProgressModel",
          "model_module_version": "1.5.0",
          "state": {
            "_dom_classes": [],
            "_model_module": "@jupyter-widgets/controls",
            "_model_module_version": "1.5.0",
            "_model_name": "FloatProgressModel",
            "_view_count": null,
            "_view_module": "@jupyter-widgets/controls",
            "_view_module_version": "1.5.0",
            "_view_name": "ProgressView",
            "bar_style": "success",
            "description": "",
            "description_tooltip": null,
            "layout": "IPY_MODEL_4240e53ee54b4cb28a5d693994bc1d97",
            "max": 465,
            "min": 0,
            "orientation": "horizontal",
            "style": "IPY_MODEL_ca9145c221224c45b43ab59ff17d7d9d",
            "value": 465
          }
        },
        "c7199a9f5bcb4a8f9d0208906906f2c5": {
          "model_module": "@jupyter-widgets/controls",
          "model_name": "HTMLModel",
          "model_module_version": "1.5.0",
          "state": {
            "_dom_classes": [],
            "_model_module": "@jupyter-widgets/controls",
            "_model_module_version": "1.5.0",
            "_model_name": "HTMLModel",
            "_view_count": null,
            "_view_module": "@jupyter-widgets/controls",
            "_view_module_version": "1.5.0",
            "_view_name": "HTMLView",
            "description": "",
            "description_tooltip": null,
            "layout": "IPY_MODEL_67521050a6b940e5a353fce1ab6b43ac",
            "placeholder": "​",
            "style": "IPY_MODEL_8fa52d21ad3e466e9569dff730f4c498",
            "value": " 465/465 [00:00&lt;00:00, 6.72kB/s]"
          }
        },
        "cb9636f106724af1b70050506bbf80d3": {
          "model_module": "@jupyter-widgets/base",
          "model_name": "LayoutModel",
          "model_module_version": "1.2.0",
          "state": {
            "_model_module": "@jupyter-widgets/base",
            "_model_module_version": "1.2.0",
            "_model_name": "LayoutModel",
            "_view_count": null,
            "_view_module": "@jupyter-widgets/base",
            "_view_module_version": "1.2.0",
            "_view_name": "LayoutView",
            "align_content": null,
            "align_items": null,
            "align_self": null,
            "border": null,
            "bottom": null,
            "display": null,
            "flex": null,
            "flex_flow": null,
            "grid_area": null,
            "grid_auto_columns": null,
            "grid_auto_flow": null,
            "grid_auto_rows": null,
            "grid_column": null,
            "grid_gap": null,
            "grid_row": null,
            "grid_template_areas": null,
            "grid_template_columns": null,
            "grid_template_rows": null,
            "height": null,
            "justify_content": null,
            "justify_items": null,
            "left": null,
            "margin": null,
            "max_height": null,
            "max_width": null,
            "min_height": null,
            "min_width": null,
            "object_fit": null,
            "object_position": null,
            "order": null,
            "overflow": null,
            "overflow_x": null,
            "overflow_y": null,
            "padding": null,
            "right": null,
            "top": null,
            "visibility": null,
            "width": null
          }
        },
        "ed14113b8db44a9b85d2fd27d7a9ebc0": {
          "model_module": "@jupyter-widgets/base",
          "model_name": "LayoutModel",
          "model_module_version": "1.2.0",
          "state": {
            "_model_module": "@jupyter-widgets/base",
            "_model_module_version": "1.2.0",
            "_model_name": "LayoutModel",
            "_view_count": null,
            "_view_module": "@jupyter-widgets/base",
            "_view_module_version": "1.2.0",
            "_view_name": "LayoutView",
            "align_content": null,
            "align_items": null,
            "align_self": null,
            "border": null,
            "bottom": null,
            "display": null,
            "flex": null,
            "flex_flow": null,
            "grid_area": null,
            "grid_auto_columns": null,
            "grid_auto_flow": null,
            "grid_auto_rows": null,
            "grid_column": null,
            "grid_gap": null,
            "grid_row": null,
            "grid_template_areas": null,
            "grid_template_columns": null,
            "grid_template_rows": null,
            "height": null,
            "justify_content": null,
            "justify_items": null,
            "left": null,
            "margin": null,
            "max_height": null,
            "max_width": null,
            "min_height": null,
            "min_width": null,
            "object_fit": null,
            "object_position": null,
            "order": null,
            "overflow": null,
            "overflow_x": null,
            "overflow_y": null,
            "padding": null,
            "right": null,
            "top": null,
            "visibility": null,
            "width": null
          }
        },
        "33cf8e2a140c4c50b9a98a46ab9e8840": {
          "model_module": "@jupyter-widgets/controls",
          "model_name": "DescriptionStyleModel",
          "model_module_version": "1.5.0",
          "state": {
            "_model_module": "@jupyter-widgets/controls",
            "_model_module_version": "1.5.0",
            "_model_name": "DescriptionStyleModel",
            "_view_count": null,
            "_view_module": "@jupyter-widgets/base",
            "_view_module_version": "1.2.0",
            "_view_name": "StyleView",
            "description_width": ""
          }
        },
        "4240e53ee54b4cb28a5d693994bc1d97": {
          "model_module": "@jupyter-widgets/base",
          "model_name": "LayoutModel",
          "model_module_version": "1.2.0",
          "state": {
            "_model_module": "@jupyter-widgets/base",
            "_model_module_version": "1.2.0",
            "_model_name": "LayoutModel",
            "_view_count": null,
            "_view_module": "@jupyter-widgets/base",
            "_view_module_version": "1.2.0",
            "_view_name": "LayoutView",
            "align_content": null,
            "align_items": null,
            "align_self": null,
            "border": null,
            "bottom": null,
            "display": null,
            "flex": null,
            "flex_flow": null,
            "grid_area": null,
            "grid_auto_columns": null,
            "grid_auto_flow": null,
            "grid_auto_rows": null,
            "grid_column": null,
            "grid_gap": null,
            "grid_row": null,
            "grid_template_areas": null,
            "grid_template_columns": null,
            "grid_template_rows": null,
            "height": null,
            "justify_content": null,
            "justify_items": null,
            "left": null,
            "margin": null,
            "max_height": null,
            "max_width": null,
            "min_height": null,
            "min_width": null,
            "object_fit": null,
            "object_position": null,
            "order": null,
            "overflow": null,
            "overflow_x": null,
            "overflow_y": null,
            "padding": null,
            "right": null,
            "top": null,
            "visibility": null,
            "width": null
          }
        },
        "ca9145c221224c45b43ab59ff17d7d9d": {
          "model_module": "@jupyter-widgets/controls",
          "model_name": "ProgressStyleModel",
          "model_module_version": "1.5.0",
          "state": {
            "_model_module": "@jupyter-widgets/controls",
            "_model_module_version": "1.5.0",
            "_model_name": "ProgressStyleModel",
            "_view_count": null,
            "_view_module": "@jupyter-widgets/base",
            "_view_module_version": "1.2.0",
            "_view_name": "StyleView",
            "bar_color": null,
            "description_width": ""
          }
        },
        "67521050a6b940e5a353fce1ab6b43ac": {
          "model_module": "@jupyter-widgets/base",
          "model_name": "LayoutModel",
          "model_module_version": "1.2.0",
          "state": {
            "_model_module": "@jupyter-widgets/base",
            "_model_module_version": "1.2.0",
            "_model_name": "LayoutModel",
            "_view_count": null,
            "_view_module": "@jupyter-widgets/base",
            "_view_module_version": "1.2.0",
            "_view_name": "LayoutView",
            "align_content": null,
            "align_items": null,
            "align_self": null,
            "border": null,
            "bottom": null,
            "display": null,
            "flex": null,
            "flex_flow": null,
            "grid_area": null,
            "grid_auto_columns": null,
            "grid_auto_flow": null,
            "grid_auto_rows": null,
            "grid_column": null,
            "grid_gap": null,
            "grid_row": null,
            "grid_template_areas": null,
            "grid_template_columns": null,
            "grid_template_rows": null,
            "height": null,
            "justify_content": null,
            "justify_items": null,
            "left": null,
            "margin": null,
            "max_height": null,
            "max_width": null,
            "min_height": null,
            "min_width": null,
            "object_fit": null,
            "object_position": null,
            "order": null,
            "overflow": null,
            "overflow_x": null,
            "overflow_y": null,
            "padding": null,
            "right": null,
            "top": null,
            "visibility": null,
            "width": null
          }
        },
        "8fa52d21ad3e466e9569dff730f4c498": {
          "model_module": "@jupyter-widgets/controls",
          "model_name": "DescriptionStyleModel",
          "model_module_version": "1.5.0",
          "state": {
            "_model_module": "@jupyter-widgets/controls",
            "_model_module_version": "1.5.0",
            "_model_name": "DescriptionStyleModel",
            "_view_count": null,
            "_view_module": "@jupyter-widgets/base",
            "_view_module_version": "1.2.0",
            "_view_name": "StyleView",
            "description_width": ""
          }
        },
        "3d44fef8940c43d2b5b9ecc4a449f654": {
          "model_module": "@jupyter-widgets/controls",
          "model_name": "HBoxModel",
          "model_module_version": "1.5.0",
          "state": {
            "_dom_classes": [],
            "_model_module": "@jupyter-widgets/controls",
            "_model_module_version": "1.5.0",
            "_model_name": "HBoxModel",
            "_view_count": null,
            "_view_module": "@jupyter-widgets/controls",
            "_view_module_version": "1.5.0",
            "_view_name": "HBoxView",
            "box_style": "",
            "children": [
              "IPY_MODEL_5763e3a73c144e6fb343de9d4c524868",
              "IPY_MODEL_4b96cb1ced904093a5834c3636d8c892",
              "IPY_MODEL_4f000f105e124fd59ca7b9986606ec15"
            ],
            "layout": "IPY_MODEL_d33110ee5ccc438ca1841c66a97e7fda"
          }
        },
        "5763e3a73c144e6fb343de9d4c524868": {
          "model_module": "@jupyter-widgets/controls",
          "model_name": "HTMLModel",
          "model_module_version": "1.5.0",
          "state": {
            "_dom_classes": [],
            "_model_module": "@jupyter-widgets/controls",
            "_model_module_version": "1.5.0",
            "_model_name": "HTMLModel",
            "_view_count": null,
            "_view_module": "@jupyter-widgets/controls",
            "_view_module_version": "1.5.0",
            "_view_name": "HTMLView",
            "description": "",
            "description_tooltip": null,
            "layout": "IPY_MODEL_d33e173c36784a2cbbc1fb3dc8112a2c",
            "placeholder": "​",
            "style": "IPY_MODEL_777c47499cfc481d80378320a96b59ca",
            "value": "model.safetensors: 100%"
          }
        },
        "4b96cb1ced904093a5834c3636d8c892": {
          "model_module": "@jupyter-widgets/controls",
          "model_name": "FloatProgressModel",
          "model_module_version": "1.5.0",
          "state": {
            "_dom_classes": [],
            "_model_module": "@jupyter-widgets/controls",
            "_model_module_version": "1.5.0",
            "_model_name": "FloatProgressModel",
            "_view_count": null,
            "_view_module": "@jupyter-widgets/controls",
            "_view_module_version": "1.5.0",
            "_view_name": "ProgressView",
            "bar_style": "success",
            "description": "",
            "description_tooltip": null,
            "layout": "IPY_MODEL_caf01a3fa86a4874883bb26efb8fed78",
            "max": 263260784,
            "min": 0,
            "orientation": "horizontal",
            "style": "IPY_MODEL_859e39694ce04d1c8f1ae9ef6b8db5bc",
            "value": 263260784
          }
        },
        "4f000f105e124fd59ca7b9986606ec15": {
          "model_module": "@jupyter-widgets/controls",
          "model_name": "HTMLModel",
          "model_module_version": "1.5.0",
          "state": {
            "_dom_classes": [],
            "_model_module": "@jupyter-widgets/controls",
            "_model_module_version": "1.5.0",
            "_model_name": "HTMLModel",
            "_view_count": null,
            "_view_module": "@jupyter-widgets/controls",
            "_view_module_version": "1.5.0",
            "_view_name": "HTMLView",
            "description": "",
            "description_tooltip": null,
            "layout": "IPY_MODEL_7e779293d6f244b5bdfde3bb4f915df8",
            "placeholder": "​",
            "style": "IPY_MODEL_c13524a997764b62953ea3fe9f3401b3",
            "value": " 263M/263M [00:02&lt;00:00, 127MB/s]"
          }
        },
        "d33110ee5ccc438ca1841c66a97e7fda": {
          "model_module": "@jupyter-widgets/base",
          "model_name": "LayoutModel",
          "model_module_version": "1.2.0",
          "state": {
            "_model_module": "@jupyter-widgets/base",
            "_model_module_version": "1.2.0",
            "_model_name": "LayoutModel",
            "_view_count": null,
            "_view_module": "@jupyter-widgets/base",
            "_view_module_version": "1.2.0",
            "_view_name": "LayoutView",
            "align_content": null,
            "align_items": null,
            "align_self": null,
            "border": null,
            "bottom": null,
            "display": null,
            "flex": null,
            "flex_flow": null,
            "grid_area": null,
            "grid_auto_columns": null,
            "grid_auto_flow": null,
            "grid_auto_rows": null,
            "grid_column": null,
            "grid_gap": null,
            "grid_row": null,
            "grid_template_areas": null,
            "grid_template_columns": null,
            "grid_template_rows": null,
            "height": null,
            "justify_content": null,
            "justify_items": null,
            "left": null,
            "margin": null,
            "max_height": null,
            "max_width": null,
            "min_height": null,
            "min_width": null,
            "object_fit": null,
            "object_position": null,
            "order": null,
            "overflow": null,
            "overflow_x": null,
            "overflow_y": null,
            "padding": null,
            "right": null,
            "top": null,
            "visibility": null,
            "width": null
          }
        },
        "d33e173c36784a2cbbc1fb3dc8112a2c": {
          "model_module": "@jupyter-widgets/base",
          "model_name": "LayoutModel",
          "model_module_version": "1.2.0",
          "state": {
            "_model_module": "@jupyter-widgets/base",
            "_model_module_version": "1.2.0",
            "_model_name": "LayoutModel",
            "_view_count": null,
            "_view_module": "@jupyter-widgets/base",
            "_view_module_version": "1.2.0",
            "_view_name": "LayoutView",
            "align_content": null,
            "align_items": null,
            "align_self": null,
            "border": null,
            "bottom": null,
            "display": null,
            "flex": null,
            "flex_flow": null,
            "grid_area": null,
            "grid_auto_columns": null,
            "grid_auto_flow": null,
            "grid_auto_rows": null,
            "grid_column": null,
            "grid_gap": null,
            "grid_row": null,
            "grid_template_areas": null,
            "grid_template_columns": null,
            "grid_template_rows": null,
            "height": null,
            "justify_content": null,
            "justify_items": null,
            "left": null,
            "margin": null,
            "max_height": null,
            "max_width": null,
            "min_height": null,
            "min_width": null,
            "object_fit": null,
            "object_position": null,
            "order": null,
            "overflow": null,
            "overflow_x": null,
            "overflow_y": null,
            "padding": null,
            "right": null,
            "top": null,
            "visibility": null,
            "width": null
          }
        },
        "777c47499cfc481d80378320a96b59ca": {
          "model_module": "@jupyter-widgets/controls",
          "model_name": "DescriptionStyleModel",
          "model_module_version": "1.5.0",
          "state": {
            "_model_module": "@jupyter-widgets/controls",
            "_model_module_version": "1.5.0",
            "_model_name": "DescriptionStyleModel",
            "_view_count": null,
            "_view_module": "@jupyter-widgets/base",
            "_view_module_version": "1.2.0",
            "_view_name": "StyleView",
            "description_width": ""
          }
        },
        "caf01a3fa86a4874883bb26efb8fed78": {
          "model_module": "@jupyter-widgets/base",
          "model_name": "LayoutModel",
          "model_module_version": "1.2.0",
          "state": {
            "_model_module": "@jupyter-widgets/base",
            "_model_module_version": "1.2.0",
            "_model_name": "LayoutModel",
            "_view_count": null,
            "_view_module": "@jupyter-widgets/base",
            "_view_module_version": "1.2.0",
            "_view_name": "LayoutView",
            "align_content": null,
            "align_items": null,
            "align_self": null,
            "border": null,
            "bottom": null,
            "display": null,
            "flex": null,
            "flex_flow": null,
            "grid_area": null,
            "grid_auto_columns": null,
            "grid_auto_flow": null,
            "grid_auto_rows": null,
            "grid_column": null,
            "grid_gap": null,
            "grid_row": null,
            "grid_template_areas": null,
            "grid_template_columns": null,
            "grid_template_rows": null,
            "height": null,
            "justify_content": null,
            "justify_items": null,
            "left": null,
            "margin": null,
            "max_height": null,
            "max_width": null,
            "min_height": null,
            "min_width": null,
            "object_fit": null,
            "object_position": null,
            "order": null,
            "overflow": null,
            "overflow_x": null,
            "overflow_y": null,
            "padding": null,
            "right": null,
            "top": null,
            "visibility": null,
            "width": null
          }
        },
        "859e39694ce04d1c8f1ae9ef6b8db5bc": {
          "model_module": "@jupyter-widgets/controls",
          "model_name": "ProgressStyleModel",
          "model_module_version": "1.5.0",
          "state": {
            "_model_module": "@jupyter-widgets/controls",
            "_model_module_version": "1.5.0",
            "_model_name": "ProgressStyleModel",
            "_view_count": null,
            "_view_module": "@jupyter-widgets/base",
            "_view_module_version": "1.2.0",
            "_view_name": "StyleView",
            "bar_color": null,
            "description_width": ""
          }
        },
        "7e779293d6f244b5bdfde3bb4f915df8": {
          "model_module": "@jupyter-widgets/base",
          "model_name": "LayoutModel",
          "model_module_version": "1.2.0",
          "state": {
            "_model_module": "@jupyter-widgets/base",
            "_model_module_version": "1.2.0",
            "_model_name": "LayoutModel",
            "_view_count": null,
            "_view_module": "@jupyter-widgets/base",
            "_view_module_version": "1.2.0",
            "_view_name": "LayoutView",
            "align_content": null,
            "align_items": null,
            "align_self": null,
            "border": null,
            "bottom": null,
            "display": null,
            "flex": null,
            "flex_flow": null,
            "grid_area": null,
            "grid_auto_columns": null,
            "grid_auto_flow": null,
            "grid_auto_rows": null,
            "grid_column": null,
            "grid_gap": null,
            "grid_row": null,
            "grid_template_areas": null,
            "grid_template_columns": null,
            "grid_template_rows": null,
            "height": null,
            "justify_content": null,
            "justify_items": null,
            "left": null,
            "margin": null,
            "max_height": null,
            "max_width": null,
            "min_height": null,
            "min_width": null,
            "object_fit": null,
            "object_position": null,
            "order": null,
            "overflow": null,
            "overflow_x": null,
            "overflow_y": null,
            "padding": null,
            "right": null,
            "top": null,
            "visibility": null,
            "width": null
          }
        },
        "c13524a997764b62953ea3fe9f3401b3": {
          "model_module": "@jupyter-widgets/controls",
          "model_name": "DescriptionStyleModel",
          "model_module_version": "1.5.0",
          "state": {
            "_model_module": "@jupyter-widgets/controls",
            "_model_module_version": "1.5.0",
            "_model_name": "DescriptionStyleModel",
            "_view_count": null,
            "_view_module": "@jupyter-widgets/base",
            "_view_module_version": "1.2.0",
            "_view_name": "StyleView",
            "description_width": ""
          }
        },
        "5be72ac5e41b4c4d8a61fd5eddb91679": {
          "model_module": "@jupyter-widgets/controls",
          "model_name": "HBoxModel",
          "model_module_version": "1.5.0",
          "state": {
            "_dom_classes": [],
            "_model_module": "@jupyter-widgets/controls",
            "_model_module_version": "1.5.0",
            "_model_name": "HBoxModel",
            "_view_count": null,
            "_view_module": "@jupyter-widgets/controls",
            "_view_module_version": "1.5.0",
            "_view_name": "HBoxView",
            "box_style": "",
            "children": [
              "IPY_MODEL_7f32eb11f59649e18b7f015ff24d1e6e",
              "IPY_MODEL_8170c7a4f17143e694d6b71b5ffd923a",
              "IPY_MODEL_8acbdee0067c4151abb4d9b0e799198a"
            ],
            "layout": "IPY_MODEL_3e6f82dfa8bf4ddeb2c535a71be03635"
          }
        },
        "7f32eb11f59649e18b7f015ff24d1e6e": {
          "model_module": "@jupyter-widgets/controls",
          "model_name": "HTMLModel",
          "model_module_version": "1.5.0",
          "state": {
            "_dom_classes": [],
            "_model_module": "@jupyter-widgets/controls",
            "_model_module_version": "1.5.0",
            "_model_name": "HTMLModel",
            "_view_count": null,
            "_view_module": "@jupyter-widgets/controls",
            "_view_module_version": "1.5.0",
            "_view_name": "HTMLView",
            "description": "",
            "description_tooltip": null,
            "layout": "IPY_MODEL_d591f5f68947488b997df546274fbaab",
            "placeholder": "​",
            "style": "IPY_MODEL_ae0021a2a04e4af8ac353f9717e35fdc",
            "value": "tokenizer_config.json: 100%"
          }
        },
        "8170c7a4f17143e694d6b71b5ffd923a": {
          "model_module": "@jupyter-widgets/controls",
          "model_name": "FloatProgressModel",
          "model_module_version": "1.5.0",
          "state": {
            "_dom_classes": [],
            "_model_module": "@jupyter-widgets/controls",
            "_model_module_version": "1.5.0",
            "_model_name": "FloatProgressModel",
            "_view_count": null,
            "_view_module": "@jupyter-widgets/controls",
            "_view_module_version": "1.5.0",
            "_view_name": "ProgressView",
            "bar_style": "success",
            "description": "",
            "description_tooltip": null,
            "layout": "IPY_MODEL_bc362a2f335145849f01751dd0eabf6a",
            "max": 49,
            "min": 0,
            "orientation": "horizontal",
            "style": "IPY_MODEL_029de5ed08bd4984bf5b85b159c50a84",
            "value": 49
          }
        },
        "8acbdee0067c4151abb4d9b0e799198a": {
          "model_module": "@jupyter-widgets/controls",
          "model_name": "HTMLModel",
          "model_module_version": "1.5.0",
          "state": {
            "_dom_classes": [],
            "_model_module": "@jupyter-widgets/controls",
            "_model_module_version": "1.5.0",
            "_model_name": "HTMLModel",
            "_view_count": null,
            "_view_module": "@jupyter-widgets/controls",
            "_view_module_version": "1.5.0",
            "_view_name": "HTMLView",
            "description": "",
            "description_tooltip": null,
            "layout": "IPY_MODEL_443066f02978484983bb86e38a45c62a",
            "placeholder": "​",
            "style": "IPY_MODEL_f4373cf91ac0406e9400828cd665ab0a",
            "value": " 49.0/49.0 [00:00&lt;00:00, 1.43kB/s]"
          }
        },
        "3e6f82dfa8bf4ddeb2c535a71be03635": {
          "model_module": "@jupyter-widgets/base",
          "model_name": "LayoutModel",
          "model_module_version": "1.2.0",
          "state": {
            "_model_module": "@jupyter-widgets/base",
            "_model_module_version": "1.2.0",
            "_model_name": "LayoutModel",
            "_view_count": null,
            "_view_module": "@jupyter-widgets/base",
            "_view_module_version": "1.2.0",
            "_view_name": "LayoutView",
            "align_content": null,
            "align_items": null,
            "align_self": null,
            "border": null,
            "bottom": null,
            "display": null,
            "flex": null,
            "flex_flow": null,
            "grid_area": null,
            "grid_auto_columns": null,
            "grid_auto_flow": null,
            "grid_auto_rows": null,
            "grid_column": null,
            "grid_gap": null,
            "grid_row": null,
            "grid_template_areas": null,
            "grid_template_columns": null,
            "grid_template_rows": null,
            "height": null,
            "justify_content": null,
            "justify_items": null,
            "left": null,
            "margin": null,
            "max_height": null,
            "max_width": null,
            "min_height": null,
            "min_width": null,
            "object_fit": null,
            "object_position": null,
            "order": null,
            "overflow": null,
            "overflow_x": null,
            "overflow_y": null,
            "padding": null,
            "right": null,
            "top": null,
            "visibility": null,
            "width": null
          }
        },
        "d591f5f68947488b997df546274fbaab": {
          "model_module": "@jupyter-widgets/base",
          "model_name": "LayoutModel",
          "model_module_version": "1.2.0",
          "state": {
            "_model_module": "@jupyter-widgets/base",
            "_model_module_version": "1.2.0",
            "_model_name": "LayoutModel",
            "_view_count": null,
            "_view_module": "@jupyter-widgets/base",
            "_view_module_version": "1.2.0",
            "_view_name": "LayoutView",
            "align_content": null,
            "align_items": null,
            "align_self": null,
            "border": null,
            "bottom": null,
            "display": null,
            "flex": null,
            "flex_flow": null,
            "grid_area": null,
            "grid_auto_columns": null,
            "grid_auto_flow": null,
            "grid_auto_rows": null,
            "grid_column": null,
            "grid_gap": null,
            "grid_row": null,
            "grid_template_areas": null,
            "grid_template_columns": null,
            "grid_template_rows": null,
            "height": null,
            "justify_content": null,
            "justify_items": null,
            "left": null,
            "margin": null,
            "max_height": null,
            "max_width": null,
            "min_height": null,
            "min_width": null,
            "object_fit": null,
            "object_position": null,
            "order": null,
            "overflow": null,
            "overflow_x": null,
            "overflow_y": null,
            "padding": null,
            "right": null,
            "top": null,
            "visibility": null,
            "width": null
          }
        },
        "ae0021a2a04e4af8ac353f9717e35fdc": {
          "model_module": "@jupyter-widgets/controls",
          "model_name": "DescriptionStyleModel",
          "model_module_version": "1.5.0",
          "state": {
            "_model_module": "@jupyter-widgets/controls",
            "_model_module_version": "1.5.0",
            "_model_name": "DescriptionStyleModel",
            "_view_count": null,
            "_view_module": "@jupyter-widgets/base",
            "_view_module_version": "1.2.0",
            "_view_name": "StyleView",
            "description_width": ""
          }
        },
        "bc362a2f335145849f01751dd0eabf6a": {
          "model_module": "@jupyter-widgets/base",
          "model_name": "LayoutModel",
          "model_module_version": "1.2.0",
          "state": {
            "_model_module": "@jupyter-widgets/base",
            "_model_module_version": "1.2.0",
            "_model_name": "LayoutModel",
            "_view_count": null,
            "_view_module": "@jupyter-widgets/base",
            "_view_module_version": "1.2.0",
            "_view_name": "LayoutView",
            "align_content": null,
            "align_items": null,
            "align_self": null,
            "border": null,
            "bottom": null,
            "display": null,
            "flex": null,
            "flex_flow": null,
            "grid_area": null,
            "grid_auto_columns": null,
            "grid_auto_flow": null,
            "grid_auto_rows": null,
            "grid_column": null,
            "grid_gap": null,
            "grid_row": null,
            "grid_template_areas": null,
            "grid_template_columns": null,
            "grid_template_rows": null,
            "height": null,
            "justify_content": null,
            "justify_items": null,
            "left": null,
            "margin": null,
            "max_height": null,
            "max_width": null,
            "min_height": null,
            "min_width": null,
            "object_fit": null,
            "object_position": null,
            "order": null,
            "overflow": null,
            "overflow_x": null,
            "overflow_y": null,
            "padding": null,
            "right": null,
            "top": null,
            "visibility": null,
            "width": null
          }
        },
        "029de5ed08bd4984bf5b85b159c50a84": {
          "model_module": "@jupyter-widgets/controls",
          "model_name": "ProgressStyleModel",
          "model_module_version": "1.5.0",
          "state": {
            "_model_module": "@jupyter-widgets/controls",
            "_model_module_version": "1.5.0",
            "_model_name": "ProgressStyleModel",
            "_view_count": null,
            "_view_module": "@jupyter-widgets/base",
            "_view_module_version": "1.2.0",
            "_view_name": "StyleView",
            "bar_color": null,
            "description_width": ""
          }
        },
        "443066f02978484983bb86e38a45c62a": {
          "model_module": "@jupyter-widgets/base",
          "model_name": "LayoutModel",
          "model_module_version": "1.2.0",
          "state": {
            "_model_module": "@jupyter-widgets/base",
            "_model_module_version": "1.2.0",
            "_model_name": "LayoutModel",
            "_view_count": null,
            "_view_module": "@jupyter-widgets/base",
            "_view_module_version": "1.2.0",
            "_view_name": "LayoutView",
            "align_content": null,
            "align_items": null,
            "align_self": null,
            "border": null,
            "bottom": null,
            "display": null,
            "flex": null,
            "flex_flow": null,
            "grid_area": null,
            "grid_auto_columns": null,
            "grid_auto_flow": null,
            "grid_auto_rows": null,
            "grid_column": null,
            "grid_gap": null,
            "grid_row": null,
            "grid_template_areas": null,
            "grid_template_columns": null,
            "grid_template_rows": null,
            "height": null,
            "justify_content": null,
            "justify_items": null,
            "left": null,
            "margin": null,
            "max_height": null,
            "max_width": null,
            "min_height": null,
            "min_width": null,
            "object_fit": null,
            "object_position": null,
            "order": null,
            "overflow": null,
            "overflow_x": null,
            "overflow_y": null,
            "padding": null,
            "right": null,
            "top": null,
            "visibility": null,
            "width": null
          }
        },
        "f4373cf91ac0406e9400828cd665ab0a": {
          "model_module": "@jupyter-widgets/controls",
          "model_name": "DescriptionStyleModel",
          "model_module_version": "1.5.0",
          "state": {
            "_model_module": "@jupyter-widgets/controls",
            "_model_module_version": "1.5.0",
            "_model_name": "DescriptionStyleModel",
            "_view_count": null,
            "_view_module": "@jupyter-widgets/base",
            "_view_module_version": "1.2.0",
            "_view_name": "StyleView",
            "description_width": ""
          }
        },
        "28b9df5190da45188e9b039e56cd97c8": {
          "model_module": "@jupyter-widgets/controls",
          "model_name": "HBoxModel",
          "model_module_version": "1.5.0",
          "state": {
            "_dom_classes": [],
            "_model_module": "@jupyter-widgets/controls",
            "_model_module_version": "1.5.0",
            "_model_name": "HBoxModel",
            "_view_count": null,
            "_view_module": "@jupyter-widgets/controls",
            "_view_module_version": "1.5.0",
            "_view_name": "HBoxView",
            "box_style": "",
            "children": [
              "IPY_MODEL_bf7f305bbc434f029ad85a2ef8e88c7b",
              "IPY_MODEL_53d420523c634437bccd1c10b1f74e3e",
              "IPY_MODEL_85c29f0ce3dd4aaa9216b8bf9fc8fc80"
            ],
            "layout": "IPY_MODEL_55873412547a4e09870dc6ce64961afc"
          }
        },
        "bf7f305bbc434f029ad85a2ef8e88c7b": {
          "model_module": "@jupyter-widgets/controls",
          "model_name": "HTMLModel",
          "model_module_version": "1.5.0",
          "state": {
            "_dom_classes": [],
            "_model_module": "@jupyter-widgets/controls",
            "_model_module_version": "1.5.0",
            "_model_name": "HTMLModel",
            "_view_count": null,
            "_view_module": "@jupyter-widgets/controls",
            "_view_module_version": "1.5.0",
            "_view_name": "HTMLView",
            "description": "",
            "description_tooltip": null,
            "layout": "IPY_MODEL_ac17d7d4875d48c29602100b354185f7",
            "placeholder": "​",
            "style": "IPY_MODEL_5df27fe8787e4a24b685a9259f4e7170",
            "value": "vocab.txt: 100%"
          }
        },
        "53d420523c634437bccd1c10b1f74e3e": {
          "model_module": "@jupyter-widgets/controls",
          "model_name": "FloatProgressModel",
          "model_module_version": "1.5.0",
          "state": {
            "_dom_classes": [],
            "_model_module": "@jupyter-widgets/controls",
            "_model_module_version": "1.5.0",
            "_model_name": "FloatProgressModel",
            "_view_count": null,
            "_view_module": "@jupyter-widgets/controls",
            "_view_module_version": "1.5.0",
            "_view_name": "ProgressView",
            "bar_style": "success",
            "description": "",
            "description_tooltip": null,
            "layout": "IPY_MODEL_7a7632aa25094d42bdfb1400d91ea423",
            "max": 213450,
            "min": 0,
            "orientation": "horizontal",
            "style": "IPY_MODEL_7bf8e764b6e541bb84d333433a4014c7",
            "value": 213450
          }
        },
        "85c29f0ce3dd4aaa9216b8bf9fc8fc80": {
          "model_module": "@jupyter-widgets/controls",
          "model_name": "HTMLModel",
          "model_module_version": "1.5.0",
          "state": {
            "_dom_classes": [],
            "_model_module": "@jupyter-widgets/controls",
            "_model_module_version": "1.5.0",
            "_model_name": "HTMLModel",
            "_view_count": null,
            "_view_module": "@jupyter-widgets/controls",
            "_view_module_version": "1.5.0",
            "_view_name": "HTMLView",
            "description": "",
            "description_tooltip": null,
            "layout": "IPY_MODEL_22db7bbceaa247088c5407024b53f9d3",
            "placeholder": "​",
            "style": "IPY_MODEL_9ae5863ec7d94f41b75a00fb2ff4efbd",
            "value": " 213k/213k [00:00&lt;00:00, 3.00MB/s]"
          }
        },
        "55873412547a4e09870dc6ce64961afc": {
          "model_module": "@jupyter-widgets/base",
          "model_name": "LayoutModel",
          "model_module_version": "1.2.0",
          "state": {
            "_model_module": "@jupyter-widgets/base",
            "_model_module_version": "1.2.0",
            "_model_name": "LayoutModel",
            "_view_count": null,
            "_view_module": "@jupyter-widgets/base",
            "_view_module_version": "1.2.0",
            "_view_name": "LayoutView",
            "align_content": null,
            "align_items": null,
            "align_self": null,
            "border": null,
            "bottom": null,
            "display": null,
            "flex": null,
            "flex_flow": null,
            "grid_area": null,
            "grid_auto_columns": null,
            "grid_auto_flow": null,
            "grid_auto_rows": null,
            "grid_column": null,
            "grid_gap": null,
            "grid_row": null,
            "grid_template_areas": null,
            "grid_template_columns": null,
            "grid_template_rows": null,
            "height": null,
            "justify_content": null,
            "justify_items": null,
            "left": null,
            "margin": null,
            "max_height": null,
            "max_width": null,
            "min_height": null,
            "min_width": null,
            "object_fit": null,
            "object_position": null,
            "order": null,
            "overflow": null,
            "overflow_x": null,
            "overflow_y": null,
            "padding": null,
            "right": null,
            "top": null,
            "visibility": null,
            "width": null
          }
        },
        "ac17d7d4875d48c29602100b354185f7": {
          "model_module": "@jupyter-widgets/base",
          "model_name": "LayoutModel",
          "model_module_version": "1.2.0",
          "state": {
            "_model_module": "@jupyter-widgets/base",
            "_model_module_version": "1.2.0",
            "_model_name": "LayoutModel",
            "_view_count": null,
            "_view_module": "@jupyter-widgets/base",
            "_view_module_version": "1.2.0",
            "_view_name": "LayoutView",
            "align_content": null,
            "align_items": null,
            "align_self": null,
            "border": null,
            "bottom": null,
            "display": null,
            "flex": null,
            "flex_flow": null,
            "grid_area": null,
            "grid_auto_columns": null,
            "grid_auto_flow": null,
            "grid_auto_rows": null,
            "grid_column": null,
            "grid_gap": null,
            "grid_row": null,
            "grid_template_areas": null,
            "grid_template_columns": null,
            "grid_template_rows": null,
            "height": null,
            "justify_content": null,
            "justify_items": null,
            "left": null,
            "margin": null,
            "max_height": null,
            "max_width": null,
            "min_height": null,
            "min_width": null,
            "object_fit": null,
            "object_position": null,
            "order": null,
            "overflow": null,
            "overflow_x": null,
            "overflow_y": null,
            "padding": null,
            "right": null,
            "top": null,
            "visibility": null,
            "width": null
          }
        },
        "5df27fe8787e4a24b685a9259f4e7170": {
          "model_module": "@jupyter-widgets/controls",
          "model_name": "DescriptionStyleModel",
          "model_module_version": "1.5.0",
          "state": {
            "_model_module": "@jupyter-widgets/controls",
            "_model_module_version": "1.5.0",
            "_model_name": "DescriptionStyleModel",
            "_view_count": null,
            "_view_module": "@jupyter-widgets/base",
            "_view_module_version": "1.2.0",
            "_view_name": "StyleView",
            "description_width": ""
          }
        },
        "7a7632aa25094d42bdfb1400d91ea423": {
          "model_module": "@jupyter-widgets/base",
          "model_name": "LayoutModel",
          "model_module_version": "1.2.0",
          "state": {
            "_model_module": "@jupyter-widgets/base",
            "_model_module_version": "1.2.0",
            "_model_name": "LayoutModel",
            "_view_count": null,
            "_view_module": "@jupyter-widgets/base",
            "_view_module_version": "1.2.0",
            "_view_name": "LayoutView",
            "align_content": null,
            "align_items": null,
            "align_self": null,
            "border": null,
            "bottom": null,
            "display": null,
            "flex": null,
            "flex_flow": null,
            "grid_area": null,
            "grid_auto_columns": null,
            "grid_auto_flow": null,
            "grid_auto_rows": null,
            "grid_column": null,
            "grid_gap": null,
            "grid_row": null,
            "grid_template_areas": null,
            "grid_template_columns": null,
            "grid_template_rows": null,
            "height": null,
            "justify_content": null,
            "justify_items": null,
            "left": null,
            "margin": null,
            "max_height": null,
            "max_width": null,
            "min_height": null,
            "min_width": null,
            "object_fit": null,
            "object_position": null,
            "order": null,
            "overflow": null,
            "overflow_x": null,
            "overflow_y": null,
            "padding": null,
            "right": null,
            "top": null,
            "visibility": null,
            "width": null
          }
        },
        "7bf8e764b6e541bb84d333433a4014c7": {
          "model_module": "@jupyter-widgets/controls",
          "model_name": "ProgressStyleModel",
          "model_module_version": "1.5.0",
          "state": {
            "_model_module": "@jupyter-widgets/controls",
            "_model_module_version": "1.5.0",
            "_model_name": "ProgressStyleModel",
            "_view_count": null,
            "_view_module": "@jupyter-widgets/base",
            "_view_module_version": "1.2.0",
            "_view_name": "StyleView",
            "bar_color": null,
            "description_width": ""
          }
        },
        "22db7bbceaa247088c5407024b53f9d3": {
          "model_module": "@jupyter-widgets/base",
          "model_name": "LayoutModel",
          "model_module_version": "1.2.0",
          "state": {
            "_model_module": "@jupyter-widgets/base",
            "_model_module_version": "1.2.0",
            "_model_name": "LayoutModel",
            "_view_count": null,
            "_view_module": "@jupyter-widgets/base",
            "_view_module_version": "1.2.0",
            "_view_name": "LayoutView",
            "align_content": null,
            "align_items": null,
            "align_self": null,
            "border": null,
            "bottom": null,
            "display": null,
            "flex": null,
            "flex_flow": null,
            "grid_area": null,
            "grid_auto_columns": null,
            "grid_auto_flow": null,
            "grid_auto_rows": null,
            "grid_column": null,
            "grid_gap": null,
            "grid_row": null,
            "grid_template_areas": null,
            "grid_template_columns": null,
            "grid_template_rows": null,
            "height": null,
            "justify_content": null,
            "justify_items": null,
            "left": null,
            "margin": null,
            "max_height": null,
            "max_width": null,
            "min_height": null,
            "min_width": null,
            "object_fit": null,
            "object_position": null,
            "order": null,
            "overflow": null,
            "overflow_x": null,
            "overflow_y": null,
            "padding": null,
            "right": null,
            "top": null,
            "visibility": null,
            "width": null
          }
        },
        "9ae5863ec7d94f41b75a00fb2ff4efbd": {
          "model_module": "@jupyter-widgets/controls",
          "model_name": "DescriptionStyleModel",
          "model_module_version": "1.5.0",
          "state": {
            "_model_module": "@jupyter-widgets/controls",
            "_model_module_version": "1.5.0",
            "_model_name": "DescriptionStyleModel",
            "_view_count": null,
            "_view_module": "@jupyter-widgets/base",
            "_view_module_version": "1.2.0",
            "_view_name": "StyleView",
            "description_width": ""
          }
        },
        "82236f15ab4043ab82f6c62154db7a74": {
          "model_module": "@jupyter-widgets/controls",
          "model_name": "HBoxModel",
          "model_module_version": "1.5.0",
          "state": {
            "_dom_classes": [],
            "_model_module": "@jupyter-widgets/controls",
            "_model_module_version": "1.5.0",
            "_model_name": "HBoxModel",
            "_view_count": null,
            "_view_module": "@jupyter-widgets/controls",
            "_view_module_version": "1.5.0",
            "_view_name": "HBoxView",
            "box_style": "",
            "children": [
              "IPY_MODEL_d5241ea813c94afa8072c8bc06998c75",
              "IPY_MODEL_c450e94b83d84b47bf92f76fbf9f3e7d",
              "IPY_MODEL_6f4f274cdb354b179d1534456f62af80"
            ],
            "layout": "IPY_MODEL_0b76a9e994284248901d71243f8b337c"
          }
        },
        "d5241ea813c94afa8072c8bc06998c75": {
          "model_module": "@jupyter-widgets/controls",
          "model_name": "HTMLModel",
          "model_module_version": "1.5.0",
          "state": {
            "_dom_classes": [],
            "_model_module": "@jupyter-widgets/controls",
            "_model_module_version": "1.5.0",
            "_model_name": "HTMLModel",
            "_view_count": null,
            "_view_module": "@jupyter-widgets/controls",
            "_view_module_version": "1.5.0",
            "_view_name": "HTMLView",
            "description": "",
            "description_tooltip": null,
            "layout": "IPY_MODEL_b7ad083e144a4f5c97b5c0b71e291b52",
            "placeholder": "​",
            "style": "IPY_MODEL_68adfadb931046d5a693d525adf94467",
            "value": "tokenizer.json: 100%"
          }
        },
        "c450e94b83d84b47bf92f76fbf9f3e7d": {
          "model_module": "@jupyter-widgets/controls",
          "model_name": "FloatProgressModel",
          "model_module_version": "1.5.0",
          "state": {
            "_dom_classes": [],
            "_model_module": "@jupyter-widgets/controls",
            "_model_module_version": "1.5.0",
            "_model_name": "FloatProgressModel",
            "_view_count": null,
            "_view_module": "@jupyter-widgets/controls",
            "_view_module_version": "1.5.0",
            "_view_name": "ProgressView",
            "bar_style": "success",
            "description": "",
            "description_tooltip": null,
            "layout": "IPY_MODEL_3e73d7ec0c1442eeae3e6fb68167668c",
            "max": 435797,
            "min": 0,
            "orientation": "horizontal",
            "style": "IPY_MODEL_65ee5cea4edf46f58c4d0ae6abcdd76d",
            "value": 435797
          }
        },
        "6f4f274cdb354b179d1534456f62af80": {
          "model_module": "@jupyter-widgets/controls",
          "model_name": "HTMLModel",
          "model_module_version": "1.5.0",
          "state": {
            "_dom_classes": [],
            "_model_module": "@jupyter-widgets/controls",
            "_model_module_version": "1.5.0",
            "_model_name": "HTMLModel",
            "_view_count": null,
            "_view_module": "@jupyter-widgets/controls",
            "_view_module_version": "1.5.0",
            "_view_name": "HTMLView",
            "description": "",
            "description_tooltip": null,
            "layout": "IPY_MODEL_a1b2160b9ca04061bd40e8b98fa8f9c5",
            "placeholder": "​",
            "style": "IPY_MODEL_cb6db92be7b94c9a8b1a624605c25e15",
            "value": " 436k/436k [00:00&lt;00:00, 5.51MB/s]"
          }
        },
        "0b76a9e994284248901d71243f8b337c": {
          "model_module": "@jupyter-widgets/base",
          "model_name": "LayoutModel",
          "model_module_version": "1.2.0",
          "state": {
            "_model_module": "@jupyter-widgets/base",
            "_model_module_version": "1.2.0",
            "_model_name": "LayoutModel",
            "_view_count": null,
            "_view_module": "@jupyter-widgets/base",
            "_view_module_version": "1.2.0",
            "_view_name": "LayoutView",
            "align_content": null,
            "align_items": null,
            "align_self": null,
            "border": null,
            "bottom": null,
            "display": null,
            "flex": null,
            "flex_flow": null,
            "grid_area": null,
            "grid_auto_columns": null,
            "grid_auto_flow": null,
            "grid_auto_rows": null,
            "grid_column": null,
            "grid_gap": null,
            "grid_row": null,
            "grid_template_areas": null,
            "grid_template_columns": null,
            "grid_template_rows": null,
            "height": null,
            "justify_content": null,
            "justify_items": null,
            "left": null,
            "margin": null,
            "max_height": null,
            "max_width": null,
            "min_height": null,
            "min_width": null,
            "object_fit": null,
            "object_position": null,
            "order": null,
            "overflow": null,
            "overflow_x": null,
            "overflow_y": null,
            "padding": null,
            "right": null,
            "top": null,
            "visibility": null,
            "width": null
          }
        },
        "b7ad083e144a4f5c97b5c0b71e291b52": {
          "model_module": "@jupyter-widgets/base",
          "model_name": "LayoutModel",
          "model_module_version": "1.2.0",
          "state": {
            "_model_module": "@jupyter-widgets/base",
            "_model_module_version": "1.2.0",
            "_model_name": "LayoutModel",
            "_view_count": null,
            "_view_module": "@jupyter-widgets/base",
            "_view_module_version": "1.2.0",
            "_view_name": "LayoutView",
            "align_content": null,
            "align_items": null,
            "align_self": null,
            "border": null,
            "bottom": null,
            "display": null,
            "flex": null,
            "flex_flow": null,
            "grid_area": null,
            "grid_auto_columns": null,
            "grid_auto_flow": null,
            "grid_auto_rows": null,
            "grid_column": null,
            "grid_gap": null,
            "grid_row": null,
            "grid_template_areas": null,
            "grid_template_columns": null,
            "grid_template_rows": null,
            "height": null,
            "justify_content": null,
            "justify_items": null,
            "left": null,
            "margin": null,
            "max_height": null,
            "max_width": null,
            "min_height": null,
            "min_width": null,
            "object_fit": null,
            "object_position": null,
            "order": null,
            "overflow": null,
            "overflow_x": null,
            "overflow_y": null,
            "padding": null,
            "right": null,
            "top": null,
            "visibility": null,
            "width": null
          }
        },
        "68adfadb931046d5a693d525adf94467": {
          "model_module": "@jupyter-widgets/controls",
          "model_name": "DescriptionStyleModel",
          "model_module_version": "1.5.0",
          "state": {
            "_model_module": "@jupyter-widgets/controls",
            "_model_module_version": "1.5.0",
            "_model_name": "DescriptionStyleModel",
            "_view_count": null,
            "_view_module": "@jupyter-widgets/base",
            "_view_module_version": "1.2.0",
            "_view_name": "StyleView",
            "description_width": ""
          }
        },
        "3e73d7ec0c1442eeae3e6fb68167668c": {
          "model_module": "@jupyter-widgets/base",
          "model_name": "LayoutModel",
          "model_module_version": "1.2.0",
          "state": {
            "_model_module": "@jupyter-widgets/base",
            "_model_module_version": "1.2.0",
            "_model_name": "LayoutModel",
            "_view_count": null,
            "_view_module": "@jupyter-widgets/base",
            "_view_module_version": "1.2.0",
            "_view_name": "LayoutView",
            "align_content": null,
            "align_items": null,
            "align_self": null,
            "border": null,
            "bottom": null,
            "display": null,
            "flex": null,
            "flex_flow": null,
            "grid_area": null,
            "grid_auto_columns": null,
            "grid_auto_flow": null,
            "grid_auto_rows": null,
            "grid_column": null,
            "grid_gap": null,
            "grid_row": null,
            "grid_template_areas": null,
            "grid_template_columns": null,
            "grid_template_rows": null,
            "height": null,
            "justify_content": null,
            "justify_items": null,
            "left": null,
            "margin": null,
            "max_height": null,
            "max_width": null,
            "min_height": null,
            "min_width": null,
            "object_fit": null,
            "object_position": null,
            "order": null,
            "overflow": null,
            "overflow_x": null,
            "overflow_y": null,
            "padding": null,
            "right": null,
            "top": null,
            "visibility": null,
            "width": null
          }
        },
        "65ee5cea4edf46f58c4d0ae6abcdd76d": {
          "model_module": "@jupyter-widgets/controls",
          "model_name": "ProgressStyleModel",
          "model_module_version": "1.5.0",
          "state": {
            "_model_module": "@jupyter-widgets/controls",
            "_model_module_version": "1.5.0",
            "_model_name": "ProgressStyleModel",
            "_view_count": null,
            "_view_module": "@jupyter-widgets/base",
            "_view_module_version": "1.2.0",
            "_view_name": "StyleView",
            "bar_color": null,
            "description_width": ""
          }
        },
        "a1b2160b9ca04061bd40e8b98fa8f9c5": {
          "model_module": "@jupyter-widgets/base",
          "model_name": "LayoutModel",
          "model_module_version": "1.2.0",
          "state": {
            "_model_module": "@jupyter-widgets/base",
            "_model_module_version": "1.2.0",
            "_model_name": "LayoutModel",
            "_view_count": null,
            "_view_module": "@jupyter-widgets/base",
            "_view_module_version": "1.2.0",
            "_view_name": "LayoutView",
            "align_content": null,
            "align_items": null,
            "align_self": null,
            "border": null,
            "bottom": null,
            "display": null,
            "flex": null,
            "flex_flow": null,
            "grid_area": null,
            "grid_auto_columns": null,
            "grid_auto_flow": null,
            "grid_auto_rows": null,
            "grid_column": null,
            "grid_gap": null,
            "grid_row": null,
            "grid_template_areas": null,
            "grid_template_columns": null,
            "grid_template_rows": null,
            "height": null,
            "justify_content": null,
            "justify_items": null,
            "left": null,
            "margin": null,
            "max_height": null,
            "max_width": null,
            "min_height": null,
            "min_width": null,
            "object_fit": null,
            "object_position": null,
            "order": null,
            "overflow": null,
            "overflow_x": null,
            "overflow_y": null,
            "padding": null,
            "right": null,
            "top": null,
            "visibility": null,
            "width": null
          }
        },
        "cb6db92be7b94c9a8b1a624605c25e15": {
          "model_module": "@jupyter-widgets/controls",
          "model_name": "DescriptionStyleModel",
          "model_module_version": "1.5.0",
          "state": {
            "_model_module": "@jupyter-widgets/controls",
            "_model_module_version": "1.5.0",
            "_model_name": "DescriptionStyleModel",
            "_view_count": null,
            "_view_module": "@jupyter-widgets/base",
            "_view_module_version": "1.2.0",
            "_view_name": "StyleView",
            "description_width": ""
          }
        }
      }
    }
  },
  "cells": [
    {
      "cell_type": "code",
      "source": [
        "!pip install transformers"
      ],
      "metadata": {
        "id": "6dtAhiTAMmYN",
        "colab": {
          "base_uri": "https://localhost:8080/"
        },
        "outputId": "cdc2a76c-1f94-4670-bab7-88d6d705ced3"
      },
      "execution_count": null,
      "outputs": [
        {
          "output_type": "stream",
          "name": "stdout",
          "text": [
            "Requirement already satisfied: transformers in /usr/local/lib/python3.10/dist-packages (4.44.2)\n",
            "Requirement already satisfied: filelock in /usr/local/lib/python3.10/dist-packages (from transformers) (3.16.1)\n",
            "Requirement already satisfied: huggingface-hub<1.0,>=0.23.2 in /usr/local/lib/python3.10/dist-packages (from transformers) (0.24.7)\n",
            "Requirement already satisfied: numpy>=1.17 in /usr/local/lib/python3.10/dist-packages (from transformers) (1.26.4)\n",
            "Requirement already satisfied: packaging>=20.0 in /usr/local/lib/python3.10/dist-packages (from transformers) (24.1)\n",
            "Requirement already satisfied: pyyaml>=5.1 in /usr/local/lib/python3.10/dist-packages (from transformers) (6.0.2)\n",
            "Requirement already satisfied: regex!=2019.12.17 in /usr/local/lib/python3.10/dist-packages (from transformers) (2024.9.11)\n",
            "Requirement already satisfied: requests in /usr/local/lib/python3.10/dist-packages (from transformers) (2.32.3)\n",
            "Requirement already satisfied: safetensors>=0.4.1 in /usr/local/lib/python3.10/dist-packages (from transformers) (0.4.5)\n",
            "Requirement already satisfied: tokenizers<0.20,>=0.19 in /usr/local/lib/python3.10/dist-packages (from transformers) (0.19.1)\n",
            "Requirement already satisfied: tqdm>=4.27 in /usr/local/lib/python3.10/dist-packages (from transformers) (4.66.5)\n",
            "Requirement already satisfied: fsspec>=2023.5.0 in /usr/local/lib/python3.10/dist-packages (from huggingface-hub<1.0,>=0.23.2->transformers) (2024.6.1)\n",
            "Requirement already satisfied: typing-extensions>=3.7.4.3 in /usr/local/lib/python3.10/dist-packages (from huggingface-hub<1.0,>=0.23.2->transformers) (4.12.2)\n",
            "Requirement already satisfied: charset-normalizer<4,>=2 in /usr/local/lib/python3.10/dist-packages (from requests->transformers) (3.4.0)\n",
            "Requirement already satisfied: idna<4,>=2.5 in /usr/local/lib/python3.10/dist-packages (from requests->transformers) (3.10)\n",
            "Requirement already satisfied: urllib3<3,>=1.21.1 in /usr/local/lib/python3.10/dist-packages (from requests->transformers) (2.2.3)\n",
            "Requirement already satisfied: certifi>=2017.4.17 in /usr/local/lib/python3.10/dist-packages (from requests->transformers) (2024.8.30)\n"
          ]
        }
      ]
    },
    {
      "cell_type": "code",
      "source": [
        "from transformers import pipeline\n",
        "\n",
        "classifier = pipeline(\n",
        "    task=\"zero-shot-classification\",\n",
        ")\n",
        "\n",
        "text = \"Modern literature today is increasingly evolving by leveraging digital technology to reach a wider audience.\"\n",
        "candidate_labels = [\"art\", \"technology\", \"education\", \"social\", \"literature\"]\n",
        "result = classifier(\n",
        "    text,\n",
        "    candidate_labels=candidate_labels,\n",
        ")\n",
        "print(result)\n"
      ],
      "metadata": {
        "colab": {
          "base_uri": "https://localhost:8080/"
        },
        "id": "iyuxA0x0uoIB",
        "outputId": "5f5fe9fb-5a49-4f08-ca38-3c5081ce8c3f"
      },
      "execution_count": null,
      "outputs": [
        {
          "output_type": "stream",
          "name": "stderr",
          "text": [
            "No model was supplied, defaulted to facebook/bart-large-mnli and revision c626438 (https://huggingface.co/facebook/bart-large-mnli).\n",
            "Using a pipeline without specifying a model name and revision in production is not recommended.\n"
          ]
        },
        {
          "output_type": "stream",
          "name": "stdout",
          "text": [
            "{'sequence': 'Modern literature today is increasingly evolving by leveraging digital technology to reach a wider audience.', 'labels': ['technology', 'social', 'art', 'education'], 'scores': [0.9055652022361755, 0.07386068254709244, 0.01178435143083334, 0.008789741434156895]}\n"
          ]
        }
      ]
    },
    {
      "cell_type": "code",
      "source": [
        "from transformers import pipeline\n",
        "\n",
        "classifier = pipeline(\"zero-shot-classification\")\n",
        "result = classifier(\n",
        "    \"The inauguration of the new Indonesian president marks a significant moment in the nation's democratic journey.\",\n",
        "    candidate_labels=['politics', 'government', 'society', 'economy']\n",
        ")\n",
        "\n",
        "print(result)\n"
      ],
      "metadata": {
        "id": "iMxLGaXEehDl",
        "colab": {
          "base_uri": "https://localhost:8080/"
        },
        "outputId": "aacef2c6-48f7-499d-da26-977ffaac1b96"
      },
      "execution_count": null,
      "outputs": [
        {
          "output_type": "stream",
          "name": "stderr",
          "text": [
            "No model was supplied, defaulted to facebook/bart-large-mnli and revision c626438 (https://huggingface.co/facebook/bart-large-mnli).\n",
            "Using a pipeline without specifying a model name and revision in production is not recommended.\n"
          ]
        },
        {
          "output_type": "stream",
          "name": "stdout",
          "text": [
            "{'sequence': \"The inauguration of the new Indonesian president marks a significant moment in the nation's democratic journey.\", 'labels': ['government', 'politics', 'society', 'economy'], 'scores': [0.5448572039604187, 0.3654002547264099, 0.07907514274120331, 0.010667343623936176]}\n"
          ]
        }
      ]
    },
    {
      "cell_type": "code",
      "source": [
        "from transformers import pipeline\n",
        "\n",
        "classifier = pipeline(\n",
        "    task=\"zero-shot-classification\",\n",
        ")\n",
        "\n",
        "text = \"Good education will create the nation's intelligent next generation and shape students future careers.\"\n",
        "candidate_labels = [\"education\", \"students\", \"career development\", \"online learning\", \"research\"]\n",
        "result = classifier(\n",
        "    text,\n",
        "    candidate_labels=candidate_labels,\n",
        ")\n",
        "print(result)"
      ],
      "metadata": {
        "id": "jXpng5rlgVDS",
        "colab": {
          "base_uri": "https://localhost:8080/"
        },
        "outputId": "aa32a54a-a345-4a0e-f492-46ca20425ee7"
      },
      "execution_count": null,
      "outputs": [
        {
          "output_type": "stream",
          "name": "stderr",
          "text": [
            "No model was supplied, defaulted to facebook/bart-large-mnli and revision c626438 (https://huggingface.co/facebook/bart-large-mnli).\n",
            "Using a pipeline without specifying a model name and revision in production is not recommended.\n"
          ]
        },
        {
          "output_type": "stream",
          "name": "stdout",
          "text": [
            "{'sequence': \"Good education will create the nation's intelligent next generation and shape students future careers.\", 'labels': ['education', 'career development', 'students', 'research', 'online learning'], 'scores': [0.645940363407135, 0.23506373167037964, 0.11010720580816269, 0.006192266941070557, 0.002696432638913393]}\n"
          ]
        }
      ]
    },
    {
      "cell_type": "code",
      "source": [
        "\n",
        "from transformers import pipeline\n",
        "\n",
        "text_generator = pipeline(\"text-generation\")\n",
        "prompt = \"In this cooking class, you will learn how to create delicious meals using\"\n",
        "generated_text = text_generator(prompt)\n",
        "\n",
        "print(generated_text)\n"
      ],
      "metadata": {
        "id": "Qwkn1wZaNCxn",
        "colab": {
          "base_uri": "https://localhost:8080/"
        },
        "outputId": "48ddcaa5-a312-4a52-9ebb-79546ce1e8d2"
      },
      "execution_count": null,
      "outputs": [
        {
          "output_type": "stream",
          "name": "stderr",
          "text": [
            "No model was supplied, defaulted to openai-community/gpt2 and revision 6c0e608 (https://huggingface.co/openai-community/gpt2).\n",
            "Using a pipeline without specifying a model name and revision in production is not recommended.\n",
            "Setting `pad_token_id` to `eos_token_id`:50256 for open-end generation.\n"
          ]
        },
        {
          "output_type": "stream",
          "name": "stdout",
          "text": [
            "[{'generated_text': 'In this cooking class, you will learn how to create delicious meals using the ingredients in the recipes and help you get up to speed on our latest recipes. We even show you the basic recipes available in our store. It will help you get all the'}]\n"
          ]
        }
      ]
    },
    {
      "cell_type": "code",
      "source": [
        "from transformers import pipeline\n",
        "\n",
        "generator = pipeline(\"text-generation\", model=\"distilgpt2\")\n",
        "generator(\n",
        "    \"The effects of climate change are increasingly evident in\",\n",
        "    max_length=30,\n",
        "    num_return_sequences=2,\n",
        ")"
      ],
      "metadata": {
        "colab": {
          "base_uri": "https://localhost:8080/"
        },
        "id": "ND7ZqGoX4-Z8",
        "outputId": "1fa29961-1c92-497a-87da-a72be3368fc1"
      },
      "execution_count": null,
      "outputs": [
        {
          "output_type": "stream",
          "name": "stderr",
          "text": [
            "Truncation was not explicitly activated but `max_length` is provided a specific value, please use `truncation=True` to explicitly truncate examples to max length. Defaulting to 'longest_first' truncation strategy. If you encode pairs of sequences (GLUE-style) with the tokenizer you can select this strategy more precisely by providing a specific strategy to `truncation`.\n",
            "Setting `pad_token_id` to `eos_token_id`:50256 for open-end generation.\n"
          ]
        },
        {
          "output_type": "execute_result",
          "data": {
            "text/plain": [
              "[{'generated_text': 'The effects of climate change are increasingly evident in some areas, including in the tropics, and in the western Caribbean.\\n\\n\\n\\n\\nThe'},\n",
              " {'generated_text': 'The effects of climate change are increasingly evident in this age of population. A report in the Journal of Population and Public Health of the United Nations, published'}]"
            ]
          },
          "metadata": {},
          "execution_count": 17
        }
      ]
    },
    {
      "cell_type": "code",
      "source": [
        "from transformers import pipeline\n",
        "\n",
        "generator = pipeline(\"text-generation\", model=\"distilgpt2\")\n",
        "generator(\"In this daily routine guide, we'll explore how to manage your time and work effectively\")"
      ],
      "metadata": {
        "id": "pv7R-U_gmGxF",
        "colab": {
          "base_uri": "https://localhost:8080/"
        },
        "outputId": "ab28bed5-c627-4d39-f74c-5b5cbe4394e7"
      },
      "execution_count": null,
      "outputs": [
        {
          "output_type": "stream",
          "name": "stderr",
          "text": [
            "Setting `pad_token_id` to `eos_token_id`:50256 for open-end generation.\n"
          ]
        },
        {
          "output_type": "execute_result",
          "data": {
            "text/plain": [
              "[{'generated_text': 'In this daily routine guide, we will explore how to effectively manage your time and incorporatet/pivot your own time management in real time.'}]"
            ]
          },
          "metadata": {},
          "execution_count": 14
        }
      ]
    },
    {
      "cell_type": "code",
      "source": [
        "from transformers import pipeline\n",
        "\n",
        "unmasker = pipeline(\"fill-mask\")\n",
        "unmasker(\"The weather can be unpredictable, especially when it comes to <mask> models.\", top_k=2)"
      ],
      "metadata": {
        "colab": {
          "base_uri": "https://localhost:8080/"
        },
        "id": "IhoOp7QV5lRM",
        "outputId": "f636d083-7fd1-4e9e-9db3-898ce212d9e1"
      },
      "execution_count": null,
      "outputs": [
        {
          "output_type": "stream",
          "name": "stderr",
          "text": [
            "No model was supplied, defaulted to distilbert/distilroberta-base and revision ec58a5b (https://huggingface.co/distilbert/distilroberta-base).\n",
            "Using a pipeline without specifying a model name and revision in production is not recommended.\n",
            "Some weights of the model checkpoint at distilbert/distilroberta-base were not used when initializing RobertaForMaskedLM: ['roberta.pooler.dense.bias', 'roberta.pooler.dense.weight']\n",
            "- This IS expected if you are initializing RobertaForMaskedLM from the checkpoint of a model trained on another task or with another architecture (e.g. initializing a BertForSequenceClassification model from a BertForPreTraining model).\n",
            "- This IS NOT expected if you are initializing RobertaForMaskedLM from the checkpoint of a model that you expect to be exactly identical (initializing a BertForSequenceClassification model from a BertForSequenceClassification model).\n"
          ]
        },
        {
          "output_type": "execute_result",
          "data": {
            "text/plain": [
              "[{'score': 0.4660229980945587,\n",
              "  'token': 1650,\n",
              "  'token_str': ' weather',\n",
              "  'sequence': 'The weather can be unpredictable, especially when it comes to weather models.'},\n",
              " {'score': 0.2157425433397293,\n",
              "  'token': 2147,\n",
              "  'token_str': ' climate',\n",
              "  'sequence': 'The weather can be unpredictable, especially when it comes to climate models.'}]"
            ]
          },
          "metadata": {},
          "execution_count": 18
        }
      ]
    },
    {
      "cell_type": "code",
      "source": [
        "from transformers import pipeline\n",
        "\n",
        "ner_pipeline = pipeline(\"ner\", grouped_entities=True)\n",
        "\n",
        "text = \"My name is Fhauzia Fitri, I am currently studying at Putra Indonesia University YPTK Padang majoring in Information Systems.\"\n",
        "entities = ner_pipeline(text)\n",
        "\n",
        "print(entities)"
      ],
      "metadata": {
        "colab": {
          "base_uri": "https://localhost:8080/"
        },
        "id": "k8j1r2XG6t9k",
        "outputId": "e68ad60b-ef8f-451c-ef8b-49ff1a66d67a"
      },
      "execution_count": null,
      "outputs": [
        {
          "output_type": "stream",
          "name": "stderr",
          "text": [
            "No model was supplied, defaulted to dbmdz/bert-large-cased-finetuned-conll03-english and revision f2482bf (https://huggingface.co/dbmdz/bert-large-cased-finetuned-conll03-english).\n",
            "Using a pipeline without specifying a model name and revision in production is not recommended.\n",
            "Some weights of the model checkpoint at dbmdz/bert-large-cased-finetuned-conll03-english were not used when initializing BertForTokenClassification: ['bert.pooler.dense.bias', 'bert.pooler.dense.weight']\n",
            "- This IS expected if you are initializing BertForTokenClassification from the checkpoint of a model trained on another task or with another architecture (e.g. initializing a BertForSequenceClassification model from a BertForPreTraining model).\n",
            "- This IS NOT expected if you are initializing BertForTokenClassification from the checkpoint of a model that you expect to be exactly identical (initializing a BertForSequenceClassification model from a BertForSequenceClassification model).\n"
          ]
        },
        {
          "output_type": "stream",
          "name": "stdout",
          "text": [
            "[{'entity_group': 'PER', 'score': 0.99591154, 'word': 'Fhauzia Fitri', 'start': 11, 'end': 24}, {'entity_group': 'ORG', 'score': 0.9197645, 'word': 'Putra Indonesia University YPTK Pa', 'start': 53, 'end': 87}, {'entity_group': 'LOC', 'score': 0.8216285, 'word': '##dang', 'start': 87, 'end': 91}]\n"
          ]
        }
      ]
    },
    {
      "cell_type": "code",
      "source": [
        "from transformers import pipeline\n",
        "\n",
        "qa_pipeline = pipeline(\"question-answering\", model=\"distilbert-base-cased-distilled-squad\")\n",
        "\n",
        "context = \"Sistem informasi adalah kombinasi dari perangkat keras, perangkat lunak, data, prosedur, dan orang-orang yang bekerja bersama untuk mengumpulkan, memproses, menyimpan, dan mendistribusikan informasi.\"\n",
        "question = \"Apa itu sistem informasi?\"\n",
        "result = qa_pipeline(question=question, context=context)\n",
        "\n",
        "print(f\"Jawaban: {result['answer']}\")"
      ],
      "metadata": {
        "id": "1SbkDlwfDlF5",
        "colab": {
          "base_uri": "https://localhost:8080/"
        },
        "outputId": "97c2c709-40b0-4080-8054-52eec5f36fbc"
      },
      "execution_count": null,
      "outputs": [
        {
          "output_type": "stream",
          "name": "stdout",
          "text": [
            "Jawaban: adalah kombinasi dari perangkat keras\n"
          ]
        }
      ]
    },
    {
      "cell_type": "code",
      "source": [
        "from transformers import pipeline\n",
        "\n",
        "qa_pipeline = pipeline(\"question-answering\", model=\"distilbert-base-cased-distilled-squad\")\n",
        "\n",
        "context = (\"Sistem informasi manajemen adalah sistem yang digunakan untuk mengumpulkan, menyimpan, dan memproses data \"\n",
        "           \"dalam sebuah organisasi untuk membantu manajemen dalam pengambilan keputusan. \"\n",
        "           \"Sistem ini terdiri dari berbagai komponen seperti perangkat keras, perangkat lunak, data, prosedur, \"\n",
        "           \"dan orang-orang yang berfungsi untuk mengelola informasi dengan cara yang efisien. \"\n",
        "           \"Penggunaan sistem informasi manajemen memungkinkan organisasi untuk mengoptimalkan proses bisnis, \"\n",
        "           \"mengurangi biaya, dan meningkatkan kepuasan pelanggan.\")\n",
        "question = \"Mengapa penggunaan sistem informasi manajemen penting bagi organisasi dalam pengambilan keputusan?\"\n",
        "\n",
        "result = qa_pipeline(question=question, context=context)\n",
        "\n",
        "print(f\"Jawaban: {result['answer']}\")"
      ],
      "metadata": {
        "colab": {
          "base_uri": "https://localhost:8080/"
        },
        "id": "p3AZQDXL8jcC",
        "outputId": "409e41af-98ae-41a5-df67-f1d993866567"
      },
      "execution_count": null,
      "outputs": [
        {
          "output_type": "stream",
          "name": "stdout",
          "text": [
            "Jawaban: mengurangi biaya\n"
          ]
        }
      ]
    },
    {
      "cell_type": "code",
      "source": [
        "from transformers import pipeline\n",
        "\n",
        "qa_pipeline = pipeline(\"question-answering\", model=\"distilbert-base-cased-distilled-squad\")\n",
        "\n",
        "context = (\"Jeno adalah seorang penyanyi dan anggota dari boy group K-pop NCT, yang dikenal sebagai anggota NCT Dream. \"\n",
        "           \"Dia lahir pada 23 April 2001 di Seoul, Korea Selatan. Jeno dikenal karena vokalnya yang kuat dan kemampuan dance yang luar biasa. \"\n",
        "           \"Debut bersama NCT Dream pada tahun 2016, Jeno telah ikut berpartisipasi dalam berbagai album dan lagu hit, \"\n",
        "           \"seperti 'Chewing Gum' dan 'Hot Sauce'. Selain itu, Jeno juga terlibat dalam berbagai acara varietas dan penampilan di televisi.\")\n",
        "question = \"Siapa Jeno dan apa perannya dalam NCT?\"\n",
        "\n",
        "result = qa_pipeline(question=question, context=context)\n",
        "\n",
        "print(f\"Jawaban: {result['answer']}\")"
      ],
      "metadata": {
        "colab": {
          "base_uri": "https://localhost:8080/"
        },
        "id": "WHU-vKBq99IM",
        "outputId": "0fee1fca-4eaf-4039-e077-bfc57f797317"
      },
      "execution_count": null,
      "outputs": [
        {
          "output_type": "stream",
          "name": "stdout",
          "text": [
            "Jawaban: Jeno adalah seorang penyanyi\n"
          ]
        }
      ]
    },
    {
      "cell_type": "code",
      "source": [
        "from transformers import pipeline\n",
        "\n",
        "classifier = pipeline(\"sentiment-analysis\")\n",
        "text = \"I'm really excited about the new project! It has so much potential.\"\n",
        "result = classifier(text)\n",
        "\n",
        "for sentiment in result:\n",
        "    print(f\"Label: {sentiment['label']}, Skor: {sentiment['score']:.4f}\")"
      ],
      "metadata": {
        "colab": {
          "base_uri": "https://localhost:8080/"
        },
        "id": "oUZKLqmY-j8J",
        "outputId": "46ccb733-5732-4542-e1c8-e0daea8f8e60"
      },
      "execution_count": null,
      "outputs": [
        {
          "output_type": "stream",
          "name": "stderr",
          "text": [
            "No model was supplied, defaulted to distilbert/distilbert-base-uncased-finetuned-sst-2-english and revision af0f99b (https://huggingface.co/distilbert/distilbert-base-uncased-finetuned-sst-2-english).\n",
            "Using a pipeline without specifying a model name and revision in production is not recommended.\n"
          ]
        },
        {
          "output_type": "stream",
          "name": "stdout",
          "text": [
            "Label: POSITIVE, Skor: 0.9999\n"
          ]
        }
      ]
    },
    {
      "cell_type": "code",
      "source": [
        "from transformers import pipeline\n",
        "\n",
        "summarizer = pipeline(\"summarization\")\n",
        "summarizer(\n",
        "    \"\"\"\n",
        "    Where is Palestine? is the title – apparently provocative in its counterfactualobviousness, since of course we all know where Palestine is, don’t we? – of ShanneeMarks’s\n",
        "    short book published in 1984. Rather tellingly, however, the book itselfprovides no answer and indeed does not substantively address its own central point ofinterrogation.\n",
        "    Thirty years later, the question is, if anything, less easy to answer in astraightforward, conﬁdent, unqualiﬁed fashion. In moments of despondency – or, forothers no doubt,\n",
        "    mere realism – it can be tempting to answer the question “Where isPalestine?” with “Nowhere”: nowhere geographically, nowhere politically, nowheretheoretically, nowhere\n",
        "    postcolonially.\n",
        "\n",
        "The geographical “nowhere” of Palestine operates in a variety of different ways.At the slightly farcical but simultaneously profoundly indicative level, there is the“nowhere”\n",
        "which in 2004 prevented Elia Suleiman’s ﬁlm Divine Intervention frombeing entered for an Academy Award, since in order to be accepted ﬁlms have to comefrom a named country,\n",
        "and according to the Academy there is no country calledPalestine. At an altogether more disturbing level there is the “nowhere” to which theIsraeli policy of “facts on the ground”\n",
        "aims to reduce the materiality of Palestine. Muchof the time, Israeli encroachment might look small-scale: Edward Said was fond ofquoting the “one dunum, one goat” Israeli practice\n",
        "of piecemeal erosion of Palestine.Worse than this is the relentless programme of illegal settlements that fragmentPalestinian land – in and of themselves and also because of the Israeli-only\n",
        "roadnetworks, buffer zones closed to Palestinians and the like, that they spawn. This effectis magniﬁed by the continuing construction of the (also illegal) Separation Wall,fragmenting the\n",
        "West Bank into a non-viable nowhere state. All of this will, however,become irrelevant if the current plans of right-wingers in Netanyahu’s cabinet, such asthe economy minister Naftali Bennett,\n",
        "to simply annex 60 percent or more of the WestBank are realized. At that point, Palestine will indeed be nowhere.\n",
        "\"\"\"\n",
        ")"
      ],
      "metadata": {
        "id": "rXSjHIImDptH",
        "colab": {
          "base_uri": "https://localhost:8080/"
        },
        "outputId": "cd6fcd0b-be5f-4073-d4d0-c4543869c077"
      },
      "execution_count": 36,
      "outputs": [
        {
          "output_type": "stream",
          "name": "stderr",
          "text": [
            "No model was supplied, defaulted to sshleifer/distilbart-cnn-12-6 and revision a4f8f3e (https://huggingface.co/sshleifer/distilbart-cnn-12-6).\n",
            "Using a pipeline without specifying a model name and revision in production is not recommended.\n"
          ]
        },
        {
          "output_type": "execute_result",
          "data": {
            "text/plain": [
              "[{'summary_text': ' Where is Palestine? is the title of ShanneeMarks’s  short book published in 1984 . Thirty years later, the question is, if anything, less easy to answer in astraightforward, unqualiﬁed fashion . The geographical “nowhere” of Palestine operates in a variety of different ways .'}]"
            ]
          },
          "metadata": {},
          "execution_count": 36
        }
      ]
    },
    {
      "cell_type": "code",
      "source": [
        "from transformers import pipeline\n",
        "\n",
        "summarizer = pipeline(\"summarization\")\n",
        "\n",
        "text = \"\"\"\n",
        "Deep learning telah berkembang pesat di berbagai industri, termasuk kesehatan dan mobil otonom, berkat kemajuan dalam pemrosesan komputer dan algoritma pembelajaran mesin. Menggunakan deep neural networks, seperti Convolutional Neural Networks, memungkinkan klasifikasi gambar dilakukan secara otomatis tanpa pemilihan fitur manual. Dalam konteks kesehatan, deteksi melanoma melalui jaringan saraf melibatkan pengolahan data, pelatihan model, dan penerapan, meskipun pipeline ini seringkali lambat karena waktu pelatihan yang panjang.\n",
        "Dalam pelatihan deep learning, GPU lebih unggul dibandingkan CPU karena kemampuannya menangani banyak perhitungan secara paralel. Arsitektur GPU yang memiliki banyak inti memungkinkan eksekusi operasi matriks yang efisien. TensorFlow memprioritaskan GPU untuk operasi yang tersedia di kedua perangkat, dan penggunaan beberapa GPU dapat mempercepat proses pelatihan dengan pembaruan parameter model yang sinkron.\n",
        "Akselerator perangkat keras seperti GPU dari NVIDIA dan TPUs Google sangat penting untuk mempercepat pelatihan model. Meskipun GPU menawarkan performa tinggi, mereka juga memiliki batasan, seperti kapasitas memori dan biaya. Pengguna dapat memilih dari berbagai opsi untuk mendapatkan GPU, termasuk cloud dan cluster GPU, dengan IBM PowerAI sebagai platform yang meningkatkan efisiensi pelatihan melalui NVLink.\n",
        "Namun, framework deep learning open-source seperti TensorFlow dan Caffe mengalami kendala ketika dijalankan di beberapa server, mengakibatkan waktu pelatihan yang lama. Untuk mengatasi masalah ini, Distributed Deep Learning mendistribusikan pelatihan di banyak server dan GPU, mengoptimalkan pembagian tugas komputasi, sehingga mempercepat waktu pelatihan. Selain itu, PowerAI Vision memungkinkan pelatihan model deep learning tanpa coding, menyediakan analisis gambar dan video otomatis, sehingga lebih mudah diakses oleh pengguna non-teknis.\n",
        "Dengan demikian, kemajuan dalam teknologi deep learning dan perangkat keras akselerator membuka peluang baru untuk aplikasi yang lebih efisien dan dapat diakses di berbagai bidang.\n",
        "\n",
        "\"\"\"\n",
        "summary = summarizer(text)\n",
        "\n",
        "print(\"Ringkasan:\", summary[0]['summary_text'])"
      ],
      "metadata": {
        "colab": {
          "base_uri": "https://localhost:8080/"
        },
        "id": "Fdvf6MqxATqt",
        "outputId": "3ece6bfe-5bc1-4908-d2aa-2f508e166329"
      },
      "execution_count": 35,
      "outputs": [
        {
          "output_type": "stream",
          "name": "stderr",
          "text": [
            "No model was supplied, defaulted to sshleifer/distilbart-cnn-12-6 and revision a4f8f3e (https://huggingface.co/sshleifer/distilbart-cnn-12-6).\n",
            "Using a pipeline without specifying a model name and revision in production is not recommended.\n"
          ]
        },
        {
          "output_type": "stream",
          "name": "stdout",
          "text": [
            "Ringkasan:  Deep learning telah berkembang pesat di berbagai industri, termasuk kesehatan dan mobil otonom . Deep neural networks, seperti Convolutional Neural Networks, memungkinkan klasifikasi gambar dilakukukan otomatis tanpa pemilihan fitur manual .\n"
          ]
        }
      ]
    },
    {
      "cell_type": "code",
      "source": [
        "from transformers import pipeline\n",
        "\n",
        "translator = pipeline(\"translation\", model=\"Helsinki-NLP/opus-mt-id-en\")\n",
        "\n",
        "text_to_translate = \"saya suka membaca novel dan berbagai alternative universe di x\"\n",
        "\n",
        "result = translator(text_to_translate)\n",
        "\n",
        "translated_text = result[0]['translation_text']\n",
        "print(\"Hasil terjemahan:\", translated_text)\n"
      ],
      "metadata": {
        "colab": {
          "base_uri": "https://localhost:8080/"
        },
        "id": "vTLj4ofPD6fj",
        "outputId": "12dc780a-dc22-4c98-b186-56d8416e0c99"
      },
      "execution_count": 39,
      "outputs": [
        {
          "output_type": "stream",
          "name": "stdout",
          "text": [
            "Hasil terjemahan: I like to read novels and different alternative universes at x.\n"
          ]
        }
      ]
    },
    {
      "cell_type": "code",
      "source": [
        "from transformers import pipeline\n",
        "\n",
        "feature_extractor = pipeline(\"feature-extraction\")\n",
        "text = \"Deep learning has revolutionized the field of artificial intelligence.\"\n",
        "features = feature_extractor(text)\n",
        "print(\"Hasil ekstraksi fitur:\")\n",
        "for i, feature in enumerate(features[0]):\n",
        "    print(f\"Token {i+1}: {feature}\")"
      ],
      "metadata": {
        "colab": {
          "base_uri": "https://localhost:8080/",
          "height": 509,
          "referenced_widgets": [
            "ce6d2068f95e430399255c6e9ce22ea2",
            "ffcf9e90b2934e5b8c94c69647c7da59",
            "9ba22de495e34458806fa1e83a48a80f",
            "c7199a9f5bcb4a8f9d0208906906f2c5",
            "cb9636f106724af1b70050506bbf80d3",
            "ed14113b8db44a9b85d2fd27d7a9ebc0",
            "33cf8e2a140c4c50b9a98a46ab9e8840",
            "4240e53ee54b4cb28a5d693994bc1d97",
            "ca9145c221224c45b43ab59ff17d7d9d",
            "67521050a6b940e5a353fce1ab6b43ac",
            "8fa52d21ad3e466e9569dff730f4c498",
            "3d44fef8940c43d2b5b9ecc4a449f654",
            "5763e3a73c144e6fb343de9d4c524868",
            "4b96cb1ced904093a5834c3636d8c892",
            "4f000f105e124fd59ca7b9986606ec15",
            "d33110ee5ccc438ca1841c66a97e7fda",
            "d33e173c36784a2cbbc1fb3dc8112a2c",
            "777c47499cfc481d80378320a96b59ca",
            "caf01a3fa86a4874883bb26efb8fed78",
            "859e39694ce04d1c8f1ae9ef6b8db5bc",
            "7e779293d6f244b5bdfde3bb4f915df8",
            "c13524a997764b62953ea3fe9f3401b3",
            "5be72ac5e41b4c4d8a61fd5eddb91679",
            "7f32eb11f59649e18b7f015ff24d1e6e",
            "8170c7a4f17143e694d6b71b5ffd923a",
            "8acbdee0067c4151abb4d9b0e799198a",
            "3e6f82dfa8bf4ddeb2c535a71be03635",
            "d591f5f68947488b997df546274fbaab",
            "ae0021a2a04e4af8ac353f9717e35fdc",
            "bc362a2f335145849f01751dd0eabf6a",
            "029de5ed08bd4984bf5b85b159c50a84",
            "443066f02978484983bb86e38a45c62a",
            "f4373cf91ac0406e9400828cd665ab0a",
            "28b9df5190da45188e9b039e56cd97c8",
            "bf7f305bbc434f029ad85a2ef8e88c7b",
            "53d420523c634437bccd1c10b1f74e3e",
            "85c29f0ce3dd4aaa9216b8bf9fc8fc80",
            "55873412547a4e09870dc6ce64961afc",
            "ac17d7d4875d48c29602100b354185f7",
            "5df27fe8787e4a24b685a9259f4e7170",
            "7a7632aa25094d42bdfb1400d91ea423",
            "7bf8e764b6e541bb84d333433a4014c7",
            "22db7bbceaa247088c5407024b53f9d3",
            "9ae5863ec7d94f41b75a00fb2ff4efbd",
            "82236f15ab4043ab82f6c62154db7a74",
            "d5241ea813c94afa8072c8bc06998c75",
            "c450e94b83d84b47bf92f76fbf9f3e7d",
            "6f4f274cdb354b179d1534456f62af80",
            "0b76a9e994284248901d71243f8b337c",
            "b7ad083e144a4f5c97b5c0b71e291b52",
            "68adfadb931046d5a693d525adf94467",
            "3e73d7ec0c1442eeae3e6fb68167668c",
            "65ee5cea4edf46f58c4d0ae6abcdd76d",
            "a1b2160b9ca04061bd40e8b98fa8f9c5",
            "cb6db92be7b94c9a8b1a624605c25e15"
          ]
        },
        "id": "Vp0lFtsXYUJ6",
        "outputId": "c7181427-8598-4429-a169-bb8c547b0af3"
      },
      "execution_count": 40,
      "outputs": [
        {
          "output_type": "stream",
          "name": "stderr",
          "text": [
            "No model was supplied, defaulted to distilbert/distilbert-base-cased and revision 935ac13 (https://huggingface.co/distilbert/distilbert-base-cased).\n",
            "Using a pipeline without specifying a model name and revision in production is not recommended.\n"
          ]
        },
        {
          "output_type": "display_data",
          "data": {
            "text/plain": [
              "config.json:   0%|          | 0.00/465 [00:00<?, ?B/s]"
            ],
            "application/vnd.jupyter.widget-view+json": {
              "version_major": 2,
              "version_minor": 0,
              "model_id": "ce6d2068f95e430399255c6e9ce22ea2"
            }
          },
          "metadata": {}
        },
        {
          "output_type": "display_data",
          "data": {
            "text/plain": [
              "model.safetensors:   0%|          | 0.00/263M [00:00<?, ?B/s]"
            ],
            "application/vnd.jupyter.widget-view+json": {
              "version_major": 2,
              "version_minor": 0,
              "model_id": "3d44fef8940c43d2b5b9ecc4a449f654"
            }
          },
          "metadata": {}
        },
        {
          "output_type": "display_data",
          "data": {
            "text/plain": [
              "tokenizer_config.json:   0%|          | 0.00/49.0 [00:00<?, ?B/s]"
            ],
            "application/vnd.jupyter.widget-view+json": {
              "version_major": 2,
              "version_minor": 0,
              "model_id": "5be72ac5e41b4c4d8a61fd5eddb91679"
            }
          },
          "metadata": {}
        },
        {
          "output_type": "display_data",
          "data": {
            "text/plain": [
              "vocab.txt:   0%|          | 0.00/213k [00:00<?, ?B/s]"
            ],
            "application/vnd.jupyter.widget-view+json": {
              "version_major": 2,
              "version_minor": 0,
              "model_id": "28b9df5190da45188e9b039e56cd97c8"
            }
          },
          "metadata": {}
        },
        {
          "output_type": "display_data",
          "data": {
            "text/plain": [
              "tokenizer.json:   0%|          | 0.00/436k [00:00<?, ?B/s]"
            ],
            "application/vnd.jupyter.widget-view+json": {
              "version_major": 2,
              "version_minor": 0,
              "model_id": "82236f15ab4043ab82f6c62154db7a74"
            }
          },
          "metadata": {}
        },
        {
          "output_type": "stream",
          "name": "stdout",
          "text": [
            "Hasil ekstraksi fitur:\n",
            "Token 1: [0.37504974007606506, 0.010452505201101303, 0.040920041501522064, -0.21971017122268677, -0.4714348614215851, -0.19114632904529572, 0.22062116861343384, -0.05734700709581375, 0.2657853960990906, -1.1942697763442993, -0.3756505250930786, 0.035370130091905594, -0.37400034070014954, -0.06715546548366547, -0.5725763440132141, 0.04930097982287407, 0.1676388382911682, 0.19196952879428864, -0.04900779202580452, -0.32505396008491516, -0.00609709694981575, -0.3874857425689697, 0.5076847672462463, -0.29934751987457275, 0.15305934846401215, -0.07992827892303467, 0.37575778365135193, 0.11181603372097015, -0.14212629199028015, 0.31944704055786133, 0.0344616137444973, 0.23822474479675293, -0.036082323640584946, 0.025358209386467934, -0.2703966796398163, 0.15369002521038055, 0.016174528747797012, -0.23345598578453064, -0.23909451067447662, -0.01962725818157196, -0.5395303964614868, 0.2379971295595169, 0.7204928994178772, -0.2843998670578003, 0.12362364679574966, -0.5322039723396301, -0.03757748380303383, 0.11394865065813065, -0.15638704597949982, 0.2231675386428833, -0.11329882591962814, 0.1587342768907547, -0.24436187744140625, 0.03194050490856171, -0.03553757816553116, 0.14633499085903168, -0.19050168991088867, 0.05235005170106888, -0.46925967931747437, 0.05706467851996422, 0.012510834261775017, -0.16006310284137726, 0.3949371874332428, 0.1607595980167389, -0.018588686361908913, 0.00022405057097785175, -0.012996899895370007, 0.14550405740737915, -0.3935268521308899, -0.03851715475320816, -0.22229357063770294, -0.07880321890115738, 0.3725457191467285, 1.0236985683441162, 0.27023062109947205, -0.11729846894741058, 0.4449850916862488, 0.020782021805644035, -0.16379857063293457, -0.3000086843967438, 0.1946416199207306, 0.36795780062675476, -0.07453429698944092, -0.10636672377586365, 0.0018205046653747559, -0.13486284017562866, 0.13506658375263214, 0.02170955389738083, 0.07450661808252335, 0.4189242720603943, 0.03802739083766937, -0.10813585668802261, -0.20594783127307892, -0.09636971354484558, -0.012680876068770885, 0.0531400702893734, -0.09351787716150284, 0.06997137516736984, 6.7435431480407715, -0.1478913277387619, 0.036844927817583084, 0.09537509828805923, 0.026355091482400894, -0.11537131667137146, 0.40538957715034485, -0.3660619258880615, -0.12775763869285583, -0.42301806807518005, -0.008976349607110023, 0.5563486814498901, 0.5783300995826721, -0.24891717731952667, 0.2676257789134979, -0.1990734487771988, -0.08578033745288849, -0.22530634701251984, -0.09335722029209137, 0.0756118968129158, 0.12230832874774933, -0.18614733219146729, 0.002989846747368574, -0.10570546239614487, 1.073372483253479, 0.08650144934654236, -0.22649648785591125, -0.13089291751384735, -0.22660407423973083, -0.10134337097406387, 0.13028578460216522, -0.27087652683258057, -0.5205932855606079, -0.21944311261177063, -0.30247777700424194, -0.10564994066953659, 0.11292291432619095, -0.04556121304631233, -0.47290974855422974, -0.06789809465408325, -0.7210832834243774, 0.031016912311315536, 0.1766863763332367, -0.1420551836490631, 0.17285120487213135, -0.37906670570373535, -0.14544068276882172, 2.9572391510009766, 0.09324721246957779, 0.027797630056738853, -0.29342928528785706, 0.09854161739349365, 0.04256094992160797, -0.13609395921230316, -0.2378823608160019, 0.15381671488285065, 0.0025292285718023777, -0.09583830088376999, -0.11405616253614426, 0.2506280839443207, -0.1434832215309143, 0.10945048183202744, -0.786349892616272, 0.003668752731755376, -0.02510237507522106, 0.3787541091442108, -0.0698433369398117, -0.10116540640592575, 0.09247922152280807, -0.7005009055137634, 0.08648005872964859, 0.1745387315750122, -0.05871579051017761, -0.028218846768140793, -2.4127213954925537, 0.16094544529914856, 0.24349506199359894, 0.1925475001335144, 0.014124912209808826, 0.21143707633018494, 0.12858617305755615, -0.27325814962387085, -0.23626111447811127, 0.04969240352511406, 0.18438050150871277, -0.16925159096717834, -0.25802043080329895, 0.14870701730251312, -0.0660097748041153, 0.1427379697561264, -0.006466551683843136, 0.004164895508438349, 0.19772273302078247, -0.34606775641441345, 0.0186453890055418, 0.14334796369075775, 0.3099231719970703, 0.12603098154067993, -0.00861372146755457, -0.08656741678714752, -0.08162440359592438, 0.19299575686454773, 0.02525774948298931, -0.17786428332328796, -0.2621667981147766, 0.30663204193115234, 0.47927433252334595, 0.09511682391166687, -0.09813671559095383, 0.22770483791828156, 0.2136068195104599, -0.20357324182987213, -0.12830258905887604, 0.17152072489261627, 0.07467415928840637, 0.4793965816497803, 0.4057786464691162, -0.25256794691085815, -0.12072528898715973, -0.036810196936130524, 0.18508893251419067, -0.11038240045309067, -0.12232688069343567, 0.13970445096492767, -0.11347544193267822, -0.11129428446292877, -0.09329460561275482, 0.07004669308662415, 0.30121639370918274, -0.0729261189699173, 0.020769603550434113, -0.11284363269805908, 0.29871422052383423, 0.06159791722893715, 0.1412227898836136, -0.19356191158294678, -0.03538065031170845, -0.35571014881134033, -0.2110758274793625, 0.02963763289153576, 0.13356254994869232, 0.20130914449691772, -0.139452263712883, 0.00605055084452033, 0.47712552547454834, -0.0429421067237854, -0.016382725909352303, 0.05771057680249214, 0.34137091040611267, 0.2877749800682068, 0.17534419894218445, 0.08443436026573181, 0.7701876759529114, 0.04402819275856018, 0.07109221071004868, -0.23863203823566437, -0.6698312759399414, -0.14522042870521545, -0.02017166279256344, -1.4799622297286987, -0.19996768236160278, 0.2797873914241791, 0.1412663459777832, -3.186088800430298, 0.2678227126598358, 0.13930366933345795, 0.05375981330871582, -0.13904733955860138, 0.3434632420539856, -0.19466476142406464, -0.041503068059682846, -0.010878513567149639, -0.4991665184497833, -0.05254258215427399, -0.5463142991065979, 0.14113949239253998, 0.08596054464578629, 0.175177663564682, -0.15217888355255127, -0.04211384057998657, -0.08967921882867813, -0.31124064326286316, -0.2252732217311859, 0.1923859566450119, -0.38867127895355225, 0.49587541818618774, -0.38001272082328796, 0.4405544698238373, 0.28396767377853394, 0.2276378571987152, 0.021008683368563652, 4.266420841217041, 0.017547866329550743, -0.02508997544646263, 0.22073476016521454, -0.35462528467178345, -0.05416138842701912, -0.09674054384231567, -0.743435800075531, 0.08342250436544418, 0.019977174699306488, 0.24696122109889984, -0.06436114758253098, -0.12316478788852692, -0.5903900861740112, -0.018067236989736557, -0.21939818561077118, 0.07176878303289413, -0.021159276366233826, 0.11105967313051224, -0.9215163588523865, -0.10054022818803787, 0.14225630462169647, 0.13648955523967743, -0.08199344575405121, 0.1883099228143692, -0.09791572391986847, -0.298532634973526, -0.37547725439071655, 0.614503800868988, 0.14365041255950928, -1.1637369394302368, -0.15567034482955933, 0.1926201730966568, -0.278523325920105, -0.12161482870578766, 0.0881316140294075, 0.03218572959303856, 0.09404408186674118, -0.10860150307416916, -0.3109108805656433, -0.17470335960388184, -0.28738006949424744, 0.051804590970277786, -0.42428576946258545, -0.19209128618240356, 0.2094590812921524, -0.03326253965497017, 0.05186830088496208, 0.4304223656654358, 0.038896407932043076, 0.03700629994273186, -0.23266704380512238, 0.09035468101501465, -0.2954518496990204, 0.11430227011442184, 0.297521710395813, 0.08654206246137619, 0.3646484315395355, -0.12057367712259293, 0.08247065544128418, 0.11068451404571533, 0.014580902643501759, -0.0487937331199646, 0.021847443655133247, 0.24650324881076813, -0.009242510423064232, 0.08734986186027527, -0.10433994233608246, -0.3189263939857483, 0.1486893743276596, 0.0012361911358311772, -0.18228846788406372, -2.268075704574585, 0.3183816969394684, 0.04943506419658661, -0.2417183667421341, -0.02704518288373947, -0.022002585232257843, 0.06405679881572723, 0.030878420919179916, 0.4143598973751068, 0.25591856241226196, 0.3099944591522217, 0.3359677493572235, -0.010917337611317635, -0.5860280394554138, 0.07627103477716446, 0.0331660620868206, 0.7109649777412415, 0.32641518115997314, -0.24642497301101685, -0.36316218972206116, 0.30034339427948, 0.19057464599609375, 0.00021855451632291079, 0.013582885265350342, -0.06318101286888123, 0.08711064606904984, -0.26638421416282654, -0.07834910601377487, -0.028674500063061714, 0.4716280400753021, -0.2715810239315033, 0.13529685139656067, -0.2856440842151642, 0.004060691688209772, 0.07283967733383179, -0.07709237188100815, 0.10687141865491867, 0.42488738894462585, -0.31086862087249756, -0.28860989212989807, 0.13939432799816132, 0.04912181571125984, -0.2797077000141144, -0.1039370447397232, -0.06581903249025345, 0.07834991812705994, -0.09928310662508011, -1.5796386003494263, 0.061341818422079086, -0.09676342457532883, -0.016519399359822273, -0.12244880944490433, 0.033002905547618866, 0.3720065951347351, -0.030244000256061554, 0.1385825127363205, -0.20594817399978638, 0.3508906960487366, 0.40109097957611084, 0.29104161262512207, 0.1929199993610382, 0.13962404429912567, -0.38912615180015564, -0.003817517776042223, 0.3197192847728729, 0.0535418838262558, -0.22840215265750885, -0.005005460698157549, 0.11917416006326675, -0.7567387223243713, -0.1764831840991974, 0.10636907070875168, -0.1240432858467102, -0.09822050482034683, -0.26113349199295044, 0.13856522738933563, -0.06722506135702133, -0.0925683081150055, 5.507454872131348, -0.13977456092834473, 0.2722313702106476, -0.144578218460083, -0.05383751913905144, -0.13064423203468323, 0.2475583404302597, -0.004063234198838472, 0.7805606126785278, -0.049842167645692825, -0.41351476311683655, -0.5205330848693848, -0.1714901179075241, 0.18519675731658936, -0.592949390411377, 0.2305622547864914, -0.03449662774801254, 0.14005394279956818, -0.13582046329975128, -0.10503588616847992, 0.045071810483932495, -0.16809798777103424, 0.21051260828971863, -0.24047386646270752, 0.26197341084480286, 0.27303510904312134, 0.04160424321889877, -0.13762341439723969, -0.17575158178806305, -0.41371962428092957, -0.477272093296051, 0.2234387993812561, 0.12160954624414444, 0.28789862990379333, -0.041180189698934555, 0.02114572376012802, 0.04418455436825752, -0.045648593455553055, 0.29465049505233765, 0.27441516518592834, 0.20277678966522217, 0.13273149728775024, 1.1213741302490234, -0.17195752263069153, 0.4338327646255493, 0.3054600954055786, 0.09165698289871216, -0.1881709098815918, 0.3793352246284485, 0.142669677734375, -0.1053471639752388, 0.21617667376995087, 0.1877610832452774, -0.183904767036438, 0.16546550393104553, -0.04327192157506943, 0.058611415326595306, -0.16023176908493042, -0.04271681606769562, -0.03603958711028099, -0.18626342713832855, -0.10633079707622528, -0.14776059985160828, -0.1907445192337036, 0.0974910780787468, -0.06251432746648788, 0.011015636846423149, -0.14635200798511505, -0.39672762155532837, -0.25176966190338135, -0.08855602890253067, -0.012776901945471764, -0.2023160606622696, 0.21578006446361542, 0.34373798966407776, 0.0648646429181099, -0.5099473595619202, 0.21891048550605774, -0.107269287109375, -0.31046977639198303, -0.2037407010793686, -0.2758631706237793, 0.0004490029241424054, -0.2990645170211792, -0.0005175899714231491, 0.13354510068893433, -0.5209976434707642, -0.5038316249847412, 0.008177917450666428, 0.23940034210681915, 0.11025082319974899, -0.009928303770720959, -0.03166293352842331, -0.08240580558776855, -0.10729033499956131, 0.12232831120491028, -0.09409233182668686, -0.02721252478659153, 0.06457456946372986, 0.10270026326179504, 0.36396515369415283, 0.08356014639139175, -0.15702521800994873, 0.06423342972993851, -0.04415437951683998, -0.2354564070701599, -0.24493727087974548, 0.0720800831913948, 0.030829401686787605, 0.041273947805166245, 0.1992429792881012, -0.0877491757273674, 0.012807072140276432, -0.040929775685071945, -0.07787606865167618, 0.12604203820228577, 0.13747678697109222, -0.36703580617904663, -6.475461006164551, 0.32081088423728943, 0.2619398534297943, 0.14578287303447723, -0.29012078046798706, -0.1458379328250885, 0.24147380888462067, -0.02986062318086624, 0.31739911437034607, -0.035664744675159454, -0.21947050094604492, -0.02294231951236725, -2.3104074001312256, 0.0764787346124649, -0.2858671545982361, 0.2591666281223297, -0.07240808755159378, -0.7476990222930908, -0.3798677623271942, 0.4631009101867676, -0.04890657588839531, 0.22479437291622162, 0.07479634135961533, -0.04746678099036217, 0.24529260396957397, -0.16511113941669464, 0.03694427013397217, 0.08271828293800354, 0.22053605318069458, -0.17473067343235016, 0.13621868193149567, -0.11957947909832001, 0.46332767605781555, -0.13073918223381042, -0.3661032021045685, -0.32766488194465637, 0.053547460585832596, -0.17708148062229156, 0.32660093903541565, -0.11911837011575699, 0.0732666477560997, 0.12554581463336945, 0.11657644063234329, 0.3194780647754669, -0.5037272572517395, -0.5043266415596008, -0.4664253294467926, -2.4324753284454346, 0.09807025641202927, -0.041859690099954605, 0.42809319496154785, 0.14401352405548096, -0.34157025814056396, 0.005153175909072161, -0.38697153329849243, 0.12762565910816193, -0.09655839204788208, -0.09669991582632065, 0.31919994950294495, -0.250981867313385, -0.48820245265960693, 0.06027553603053093, 0.18031807243824005, -0.06831731647253036, -0.11001405119895935, 0.15401074290275574, -0.309649258852005, -0.03902079910039902, -0.07773610204458237, -0.11218602955341339, -0.17079974710941315, -0.16978371143341064, -0.04668470099568367, 0.08656895160675049, 0.25608140230178833, 0.21655645966529846, -0.027391977608203888, -0.01744103990495205, -0.1580069363117218, 0.19349513947963715, -0.4610922336578369, -0.19002766907215118, 0.37662866711616516, 0.3195541799068451, 0.2086745649576187, -0.12206798046827316, 0.01336539164185524, 0.2561616003513336, -0.038185276091098785, 0.004458017181605101, 0.12373892217874527, 0.08032646030187607, -0.009596512652933598, -0.017100080847740173, -0.24412058293819427, 0.129872128367424, -0.08373890072107315, 0.052753329277038574, -0.4780137240886688, -0.18701854348182678, -0.18929503858089447, 0.1047317236661911, 0.09816344827413559, -0.39909622073173523, -0.07747752219438553, -0.13392658531665802, 2.736847400665283, 0.04821479320526123, -0.0432470366358757, 0.13648690283298492, 0.0034393081441521645, 0.1737651526927948, -0.04477928206324577, 0.2855899930000305, 1.7038251161575317, -0.13201187551021576, -0.0765843540430069, -0.10603297501802444, -0.1126265674829483, -0.08654896914958954, 0.014242647215723991, 0.3993191123008728, -0.012114589102566242, 0.26848116517066956, -0.09635979682207108, 0.013758143410086632, 0.2786279022693634, -0.06255046278238297, 0.23118819296360016, -0.19389823079109192, -0.02191954292356968, -0.31591594219207764, -0.2616265118122101, -0.4366390109062195, 0.08029092103242874, -0.40731674432754517, -0.008386414498090744, 0.0515747033059597, 0.03162044286727905, 0.9146642684936523, -0.24709844589233398, 0.2787347137928009, 0.4049159586429596, -0.03016621619462967, -0.20113283395767212, -0.44108688831329346, -0.1983243077993393, 0.1620694398880005, -0.4479754865169525, 0.42154332995414734, -0.3159250319004059, 0.03356052190065384, 0.014141147956252098, -0.16606178879737854, 0.05371372774243355, -0.13269419968128204, -0.06763242185115814, -0.3592824339866638, -0.012530095875263214, 0.017547424882650375, -0.07135611027479172, 0.07624274492263794, -0.581536591053009, -0.1918945014476776, 0.19991259276866913, 0.02104981802403927, -0.011901463381946087, 0.07167921960353851, -0.06483075022697449, 0.020789535716176033, 0.010252553038299084, 0.00996489729732275, 0.24813438951969147, -0.2739771604537964, 0.021815963089466095, -0.2917787730693817, -0.004093014169484377, 0.22092367708683014, -2.489351272583008, 0.0255133006721735, 0.048960380256175995, -0.28044870495796204, -0.3499796986579895, -0.2627561390399933, 0.19906418025493622, 0.13998360931873322, 0.08863846212625504, 0.19531254470348358, -0.08970558643341064, 2.181966781616211, -0.1373680680990219, -0.05415275692939758, -0.08220876008272171, -0.060046013444662094, 0.31558433175086975, 0.1443760246038437, -0.007097553461790085, -0.32400885224342346, -0.22672541439533234, 1.6713600158691406, -0.0549960657954216, 0.35257387161254883, 0.26274436712265015, -0.10817940533161163, -0.05441085621714592, 0.03732002153992653, -0.025906909257173538, -0.0892307460308075, -0.16315491497516632, 0.23574155569076538, 0.06272774934768677]\n",
            "Token 2: [0.17194396257400513, -0.08536877483129501, 0.2070426493883133, -0.010157198645174503, -0.5830662250518799, -0.025042464956641197, -0.033740025013685226, -0.3107287883758545, 0.46756333112716675, 0.08051428198814392, -0.30108845233917236, 0.055357810109853745, -0.06202729418873787, 0.11597002297639847, -0.11199677735567093, -0.10514671355485916, 0.09378203749656677, 0.30203065276145935, 0.05241117253899574, 0.0006650424911640584, -0.02337554655969143, -0.7791779637336731, -0.12595677375793457, 0.1537870466709137, -0.0981767326593399, -0.02354874461889267, 0.9427425265312195, 0.26980480551719666, -0.14246538281440735, 0.440257728099823, 0.12865081429481506, 0.023852529004216194, -0.24645470082759857, -0.075706347823143, -0.1975485235452652, 0.024973055347800255, -0.13440312445163727, 0.28599023818969727, 0.402792364358902, 0.5106897354125977, 0.14797982573509216, -0.13588978350162506, -0.026665547862648964, -0.27421319484710693, 0.11955631524324417, -0.09076672792434692, -0.04411637783050537, 0.8768442273139954, -0.30425840616226196, 0.22494930028915405, 0.5150165557861328, 0.05395924299955368, -0.17379841208457947, 0.0730016678571701, -0.3374177813529968, 0.026136698201298714, -0.19327399134635925, 0.0554211400449276, -0.276687353849411, -0.12601681053638458, -0.31790846586227417, -0.3788042962551117, 0.04950364679098129, 0.26929429173469543, -0.1804879754781723, 0.24860040843486786, 0.22403454780578613, 0.4037817716598511, -0.1581241935491562, -0.11032155156135559, 0.05814018473029137, -0.5124163031578064, 0.1367526650428772, -0.1070580929517746, 0.2189618945121765, -0.08419203013181686, 0.16534730792045593, 0.2431667298078537, -0.06109219416975975, -0.23292645812034607, 0.4790246784687042, 0.5280231833457947, 0.0721505880355835, -0.05411625653505325, 0.432077556848526, 0.42569705843925476, 0.294863224029541, 0.12355861812829971, 0.08788268268108368, 0.3764655292034149, -0.2144528180360794, -0.3326214551925659, -0.1346796751022339, -0.3291468620300293, 0.04552986100316048, -0.20545534789562225, 0.02874237671494484, 0.34778478741645813, -0.20262853801250458, 0.021357014775276184, 0.24705706536769867, 0.26086610555648804, -0.3495849072933197, -0.23994134366512299, 0.21669039130210876, 0.04958811029791832, 0.2662481963634491, -0.3080390989780426, 0.007890714332461357, 0.3538122773170471, 0.5160217881202698, -0.5406411290168762, 0.4848135709762573, -0.3126242160797119, -0.1287345141172409, 0.5063181519508362, -0.04901188239455223, 0.36145153641700745, -0.09697699546813965, -0.15217959880828857, -0.45304468274116516, 0.20638304948806763, 0.09717969596385956, 0.06884516030550003, -0.33494120836257935, -0.19051900506019592, -0.579073965549469, -0.043701037764549255, -0.17071105539798737, 0.5499150156974792, 0.38645052909851074, -0.04666155204176903, 0.031663745641708374, -0.0961504802107811, 0.3951331079006195, -0.6674604415893555, -0.27258118987083435, 0.26591813564300537, -0.7943930625915527, -0.2433101087808609, -0.3586152493953705, -0.219183549284935, 0.37809014320373535, -0.5639825463294983, 0.3472570478916168, 0.1942460983991623, -0.16441559791564941, 0.17596450448036194, -0.6853489279747009, 0.6199069619178772, -0.1319509595632553, 0.059403423219919205, -0.0466490313410759, 0.22379924356937408, -0.005739065818488598, -0.09559610486030579, -0.3269088566303253, 0.1418919414281845, -0.38302937150001526, 0.4620791971683502, 0.6026521325111389, -0.5645607113838196, -0.1513950228691101, -0.2081344723701477, -0.1431780606508255, 0.3648359179496765, -0.2958108186721802, -0.1091558039188385, -0.21028302609920502, -0.3426764905452728, 0.15549811720848083, 0.06024705618619919, -0.2474343180656433, 0.3856859803199768, 0.24533581733703613, 0.11213391274213791, 0.5923208594322205, -0.4284859895706177, 0.21313969790935516, -0.18889446556568146, 0.12085837125778198, -0.1355993151664734, 0.3051522672176361, -0.700245201587677, 0.2626880407333374, -0.12867194414138794, -0.02124355360865593, 0.2842426896095276, 0.29992881417274475, -0.5732600092887878, 0.3626774251461029, 0.1750297099351883, -0.24573303759098053, 0.34517019987106323, 0.21437881886959076, -0.31345465779304504, -0.38205382227897644, 0.10656263679265976, -0.23691704869270325, -0.5231419205665588, 0.08894452452659607, 0.20334318280220032, 0.6154851913452148, 0.27797529101371765, 0.1939600259065628, -0.17370818555355072, 0.17931216955184937, 0.10513459146022797, -0.027535928413271904, -0.6098524928092957, -0.2441183179616928, 0.10660620033740997, -0.31153398752212524, -0.04107553884387016, 0.24622099101543427, -0.10982093960046768, -0.16365079581737518, -0.2838919460773468, -0.1719389706850052, 0.07642082870006561, 0.574800968170166, -0.39409393072128296, 0.4485771656036377, -0.06771212071180344, -0.3925195634365082, 0.10033419728279114, 0.26584815979003906, -0.5187395811080933, 0.1600141078233719, 0.25803980231285095, 0.20046688616275787, 0.5233515501022339, 0.2404136210680008, -0.5154566168785095, 0.2844820022583008, -0.8025614619255066, -0.025937968865036964, 0.15881814062595367, -0.06637293100357056, 0.026344889774918556, -0.42040959000587463, 0.1279228776693344, 0.4586538076400757, -0.1711912304162979, 0.005529812537133694, 0.38932716846466064, -0.2421756386756897, 0.21434922516345978, 0.41054314374923706, -0.1835002601146698, 0.007844332605600357, -0.043219439685344696, 0.13080738484859467, -0.13338686525821686, -0.11185004562139511, 0.07926894724369049, -0.07437127828598022, -0.1662541776895523, -0.11849885433912277, 0.02888839691877365, 0.07136280834674835, -0.057166434824466705, 0.13772748410701752, -0.007394207641482353, 0.3130314350128174, -0.07312440872192383, 0.3346254527568817, 0.06552881002426147, 0.04163016378879547, -0.6151226162910461, -0.27839145064353943, 0.05178368091583252, 0.09196135401725769, 0.003541816957294941, 0.06762915104627609, 0.13345521688461304, 0.11539723724126816, -0.05469191446900368, 0.003263944061473012, 0.13529005646705627, -0.0417780764400959, -0.4840986132621765, -0.10620679706335068, 0.7804149985313416, -0.14613910019397736, 0.39825427532196045, 0.5366536378860474, -0.08307603746652603, 0.24948002398014069, 0.41727834939956665, -0.21241530776023865, 0.2019580751657486, -0.2227240353822708, -0.06026190519332886, -0.07519905269145966, -0.1259550154209137, -0.23446902632713318, 0.05730007216334343, -0.5840943455696106, 0.18656720221042633, 0.07057304680347443, -0.3816523849964142, -0.5068004131317139, 0.19034363329410553, -0.16093453764915466, 0.09816786646842957, -0.4019191265106201, 0.030101435258984566, -0.4617251455783844, 0.11831312626600266, -0.07963598519563675, -0.11720512062311172, -0.07785819470882416, 0.2523026168346405, -0.1872885674238205, -0.1175878569483757, 0.2063264697790146, 0.2688215374946594, -0.04189056530594826, 0.16147448122501373, -0.34209075570106506, 0.06032456085085869, 0.01238869410008192, 0.17916597425937653, 0.01561021525412798, -0.31793519854545593, 0.05800819769501686, 0.2332720160484314, -0.15440505743026733, -0.39952656626701355, -0.42410966753959656, 0.31153011322021484, -0.41899850964546204, 0.5432680249214172, -0.13012577593326569, -0.2529771029949188, 0.17372038960456848, 0.6782569885253906, -0.1464051753282547, -0.41775110363960266, -0.24989449977874756, 0.08587400615215302, -0.3582758605480194, -0.3089698255062103, -0.2124231904745102, 0.04779447987675667, -0.018167512491345406, -0.17022578418254852, 0.19276921451091766, -0.07430572807788849, 0.08840648084878922, -0.19349956512451172, -0.3995850086212158, 0.34182098507881165, 0.4076004922389984, 0.4533459544181824, -0.06653141230344772, 0.02376309037208557, -0.301117867231369, 0.0478469654917717, -0.19765019416809082, -0.4377807080745697, 0.05255980044603348, 0.31670302152633667, 0.09774789214134216, 0.32272788882255554, -0.08862349390983582, 0.6574479937553406, -0.12984253466129303, 0.03536783531308174, -0.17406320571899414, 0.24006927013397217, 0.09853150695562363, -0.4209199845790863, -0.1664268970489502, -0.1437949240207672, -0.08651705086231232, 0.12412125617265701, 0.36185938119888306, -0.0012632040306925774, 0.09052002429962158, 0.42594724893569946, -0.04910507798194885, 0.6679053902626038, 0.3650006949901581, -0.13800838589668274, 0.42645546793937683, -0.5821508765220642, 0.04491325467824936, 0.08656909316778183, -0.2718002498149872, 0.15883272886276245, 0.19710572063922882, -0.3226066529750824, 0.283161997795105, -0.25692805647850037, -0.2899339199066162, 0.08903655409812927, 0.1776997148990631, -0.346638560295105, -0.39498215913772583, 0.35988524556159973, 0.3611084818840027, -0.44892263412475586, 0.10152558237314224, -0.5668879747390747, 0.21540015935897827, 0.22110524773597717, -0.004834795370697975, 0.17040088772773743, -0.3472461998462677, 0.33813610672950745, -0.04644429683685303, 0.18012787401676178, 0.5876340866088867, -0.2849709987640381, 0.07227683812379837, -0.3018043339252472, 0.1211654543876648, 0.2546650767326355, -0.21010524034500122, -0.17146393656730652, 0.4982292354106903, -0.36488908529281616, 0.029503464698791504, 0.1851675659418106, 0.19226884841918945, -0.12117711454629898, -0.3347805440425873, 0.09450745582580566, -0.289102166891098, 0.236013725399971, -0.012430990114808083, 0.2345711886882782, -0.05233408883213997, 0.2370479255914688, -0.04305068403482437, 0.11359728127717972, 0.15968406200408936, 0.09489846229553223, 0.48023709654808044, 0.07648923248052597, -0.18198007345199585, 0.03218979761004448, 0.005119544919580221, 0.13875490427017212, -0.07781236618757248, 0.2579033076763153, 0.36866244673728943, -0.2276686728000641, -0.16885782778263092, -0.43434369564056396, -0.17275764048099518, -0.29548564553260803, 0.5795019268989563, -0.20661257207393646, 0.03503783047199249, 0.0222600270062685, -0.15526743233203888, 0.02438504621386528, -0.12964770197868347, 0.6488185524940491, -0.2833417057991028, 0.8333609700202942, -0.3146238923072815, 0.30744898319244385, -0.023105410858988762, 0.11269683390855789, -0.2113993763923645, -0.5401065945625305, 0.2130291908979416, 0.18999435007572174, 0.3707166016101837, 0.32921257615089417, 0.25337207317352295, 0.04955694079399109, 0.07720308750867844, 0.48260700702667236, -0.24008074402809143, 0.1382661759853363, 0.017363213002681732, 0.46542268991470337, -0.2671436667442322, 0.3226979076862335, 0.8140246868133545, -0.033686961978673935, -0.4069913923740387, -0.02795378491282463, 0.2398914396762848, 0.0771903246641159, -0.08993732929229736, -0.018970634788274765, -0.25951719284057617, 0.2620711922645569, 0.1787116974592209, -0.3982468247413635, -0.11099623888731003, 0.16263122856616974, -0.36015960574150085, -0.4480753242969513, -0.23357872664928436, -0.179780974984169, -0.040104884654283524, 0.3144714832305908, 0.15698778629302979, 0.022104041650891304, 0.22474437952041626, -0.5908966660499573, -0.004585740622133017, -0.14378713071346283, 0.04722336679697037, 0.1333795189857483, -0.17046809196472168, -0.01665734127163887, -0.23264753818511963, -0.36204367876052856, 0.2764493227005005, -0.3430587947368622, -0.1101919561624527, -0.27732521295547485, -0.04244031012058258, 0.18657396733760834, -0.12287900596857071, 0.4825933873653412, 0.4749496281147003, 0.2332877665758133, -0.2981511056423187, 0.9027272462844849, -0.3898034393787384, -0.2074824869632721, -0.09049322456121445, 0.05259246751666069, -0.041679441928863525, -0.2910453975200653, 0.23004963994026184, -0.29165226221084595, 0.018303383141756058, -0.2598358690738678, -0.1937042772769928, 0.5233059525489807, 0.21211877465248108, 0.4362908601760864, -0.04798823967576027, -0.16711370646953583, -0.4522281289100647, -0.012598004192113876, -0.09940430521965027, 0.23915177583694458, 0.06484615057706833, -0.06920057535171509, -0.19544512033462524, 0.03640095889568329, 0.12603791058063507, 0.056714221835136414, 0.2792970538139343, 0.1170637384057045, -0.26292940974235535, -9.030383110046387, 0.11203866451978683, 0.1761532574892044, -0.15279124677181244, 0.2051633894443512, 0.21936507523059845, -0.006989625282585621, -0.03395392373204231, 0.01596718281507492, 0.051233503967523575, -0.004911653231829405, 0.47432461380958557, -0.1479312926530838, -0.06234612688422203, -0.4538155794143677, -0.0013820298481732607, 0.17133194208145142, 0.18534663319587708, -0.2837567925453186, 0.06911647319793701, 0.31826871633529663, -0.13861779868602753, -0.21115177869796753, -0.056468188762664795, 0.17179754376411438, 0.27959078550338745, -0.2766949534416199, 0.002022990258410573, 0.052589960396289825, -0.6017872095108032, -0.00723706278949976, -0.05492474138736725, -0.36175277829170227, -0.2932433485984802, -0.4072991907596588, -0.22472155094146729, -0.3043728172779083, -0.20761047303676605, -0.4938778281211853, -0.12867861986160278, -0.008816083893179893, 0.11501564830541611, 0.2314106673002243, 0.23149748146533966, -0.048660002648830414, -0.4627051055431366, 0.05264701694250107, 0.3562155067920685, 0.03466734290122986, -0.12617841362953186, 0.20066578686237335, 0.28400683403015137, -0.5786973237991333, 0.03402470052242279, -0.37180784344673157, 0.2509509325027466, -0.2777341902256012, 0.2746203541755676, 0.32425716519355774, -0.5076202750205994, -0.40607723593711853, 0.01590752974152565, 0.2300814986228943, -0.15890656411647797, 0.06330041587352753, -0.1408548802137375, 0.2930344045162201, 0.10310346633195877, 0.28952619433403015, 0.3736695945262909, -0.3172731399536133, 0.16329577565193176, 0.12666325271129608, 0.06921238452196121, -0.14757727086544037, -0.13225410878658295, 0.15214703977108002, -0.037900641560554504, 0.0809667631983757, 0.6275908350944519, -0.1546681821346283, -0.07355943322181702, 0.23409365117549896, 0.31376034021377563, -0.14006154239177704, -0.15580067038536072, -0.32173818349838257, 0.16754385828971863, 0.06968145072460175, 0.19141417741775513, -0.34444308280944824, 0.21438075602054596, -0.4031425416469574, -0.024285105988383293, 0.09104737639427185, 0.1371489018201828, -0.1667693704366684, -0.2985893785953522, -0.1695227324962616, 0.1252138763666153, -0.13091382384300232, 0.6358482837677002, 0.5227515697479248, -0.2998357117176056, 0.42514607310295105, -0.06375948339700699, 0.2362171709537506, -0.08894839137792587, 0.11846279352903366, 0.15543493628501892, 0.29045215249061584, -0.19751206040382385, -0.19177396595478058, -0.03875982016324997, 0.443703830242157, 0.13146379590034485, 0.3192707896232605, -0.12390449643135071, 0.00832471251487732, 0.013870741240680218, 0.23752187192440033, -0.08892711251974106, 0.6826550364494324, 0.44806399941444397, -0.09208772331476212, 0.03499191254377365, 0.16421787440776825, 0.5782487392425537, -0.5648760795593262, -0.6773530840873718, 0.6409473419189453, 0.04002979025244713, -0.5139107704162598, 0.29528746008872986, -0.09164602309465408, 0.14182284474372864, -0.20447729527950287, 0.5124488472938538, -0.07417276501655579, 0.18575479090213776, -0.45771482586860657, -0.10423741489648819, 0.18777450919151306, -0.1359785795211792, -0.15720908343791962, -0.07193738222122192, -0.1278688907623291, -0.01246637012809515, -0.3780352473258972, -0.29884886741638184, -0.04455753043293953, 0.598713755607605, 0.5535820722579956, -0.10339207202196121, -0.15114030241966248, -0.40886566042900085, 0.06456416845321655, -0.37497636675834656, -0.24254290759563446, 0.2683274447917938, 0.12754644453525543, 0.027720296755433083, 0.4583668112754822, -0.4321431517601013, -0.23458828032016754, 0.25046753883361816, -0.06701736152172089, -0.5059158802032471, 0.2232469618320465, -0.24656172096729279, -0.16291669011116028, 0.03203164041042328, 0.36210912466049194, -0.05536025017499924, 0.08204521983861923, -0.04565044865012169, -0.20129190385341644, 0.01938546635210514, -0.026831870898604393, 0.2844679057598114, -0.007433272898197174, 0.24516598880290985, 0.17428302764892578, 0.22145502269268036, -0.19874753057956696, 0.3107120990753174, 0.0856611430644989, 0.007399504538625479, -0.06342368572950363, 0.17421332001686096, -0.037848345935344696, -0.3233591914176941, 0.09136203676462173, 0.21439014375209808, 0.2569611072540283, 0.4634150266647339, -0.103368379175663, 0.07239209860563278, 0.08616308867931366, -0.2762119770050049, 0.146835595369339, 0.10325239598751068, -0.1487390697002411, 0.17259113490581512, -0.23629271984100342, 0.01252517569810152, 0.053331464529037476, 0.41151633858680725, -0.032578397542238235, 0.3679859936237335, 0.277538001537323]\n",
            "Token 3: [0.3373296856880188, -0.04906688630580902, 0.3692658841609955, 0.30845481157302856, 0.05560048297047615, -0.10092722624540329, -0.022369032725691795, 0.137213334441185, 0.08768770843744278, -0.2586986720561981, -0.31036990880966187, 0.7031159996986389, -0.5416097640991211, -0.11076918989419937, -0.5051622986793518, -0.1693437099456787, -0.060323938727378845, 0.062473542988300323, 0.320956826210022, -0.3224656581878662, -0.2529065012931824, -0.733839750289917, -0.0882529690861702, -0.18126629292964935, -0.29499512910842896, -0.11638027429580688, 0.41293051838874817, 0.4474318027496338, -0.12190460413694382, 0.5259502530097961, 0.031743019819259644, -0.14105324447155, -0.06166661158204079, 0.040720339864492416, -0.2121778428554535, 0.0960562601685524, -0.10808070749044418, 0.06077336147427559, -0.46015676856040955, 0.40851637721061707, -0.07840979099273682, 0.021795110777020454, 0.3782879710197449, -0.3071639835834503, 0.15154503285884857, -0.39808201789855957, 0.031901031732559204, 0.07879579812288284, -0.5149911046028137, 0.12489904463291168, 0.11688932031393051, -0.31450921297073364, -0.2745966911315918, 0.5600149631500244, -0.0366077683866024, 0.1551998257637024, -0.0813821479678154, -0.1699354648590088, 0.11325141042470932, 0.022054973989725113, -0.2611868977546692, -0.09928695112466812, 0.17664384841918945, 0.34918391704559326, -0.14750590920448303, -0.4222187101840973, 0.14846551418304443, -0.13667839765548706, 0.1737288534641266, 0.013778300024569035, -0.15153339505195618, -0.6221334934234619, -0.15699347853660583, 0.15456007421016693, 0.14571335911750793, 0.050427015870809555, 0.20267964899539948, 0.2789081335067749, -0.025070996955037117, -0.44151923060417175, 0.11580616980791092, 0.5568432807922363, 0.24282047152519226, 0.3217982351779938, 0.030465353280305862, 0.2940432131290436, 0.009390536695718765, 0.0985373854637146, 0.555209219455719, 0.6655411124229431, 0.11964508891105652, -0.42825600504875183, -0.24269534647464752, -0.3285084366798401, -0.05317545682191849, -0.11254268884658813, -0.012873648665845394, -0.04000876098871231, -0.6475304961204529, -0.019359758123755455, 0.48869967460632324, -0.12247911095619202, -0.04612904042005539, 0.2957988381385803, 0.4718078672885895, -0.01969929225742817, 0.1165698915719986, -0.4052448868751526, -0.455159068107605, 0.5310361981391907, 0.3663429915904999, -0.38191336393356323, 0.5422065854072571, -0.3137478232383728, -0.15667101740837097, -0.2412298023700714, 0.18250535428524017, 0.2082606554031372, -0.057745952159166336, 0.17943957448005676, 0.00879809632897377, -0.17142125964164734, 0.29300808906555176, 0.07842203229665756, 0.2637530267238617, -0.12861329317092896, -0.19274131953716278, -0.03469178080558777, -0.3914611339569092, 0.3141046464443207, -0.13282105326652527, 0.095395527780056, -0.059178248047828674, -0.05388406291604042, 0.42179855704307556, 0.10906895250082016, -0.5271652936935425, 0.18928951025009155, -0.9363093972206116, 0.18318085372447968, -0.1113235205411911, 0.2428605556488037, 0.2479163259267807, -0.2782759368419647, 0.4505309462547302, 0.025998525321483612, -0.03716597333550453, -0.07687483727931976, -0.08073004335165024, 0.4776047170162201, -0.017990725114941597, -0.0909222960472107, 0.24362842738628387, -0.03889476880431175, -0.013036850839853287, -0.07335416227579117, -0.21701057255268097, 0.3312121331691742, 0.2126990109682083, 0.22712579369544983, 0.588279664516449, -0.39563611149787903, 0.06017160043120384, -0.06951403617858887, -0.07433392107486725, 0.12255017459392548, -0.08803816139698029, 0.23129092156887054, -0.17685367166996002, 0.22642482817173004, 0.13778997957706451, 0.12180056422948837, -0.2470749169588089, 0.09317415207624435, -0.09247486293315887, 0.12724721431732178, 0.2808782160282135, -0.07509276270866394, 0.3605813980102539, 0.27257779240608215, 0.030095906928181648, 0.10618355870246887, 0.008170056156814098, -0.5417677760124207, 0.535332977771759, -0.009369438514113426, 0.15067487955093384, 0.10418082028627396, 0.06030316278338432, -0.5568082928657532, 0.4577128291130066, -0.02154351957142353, 0.23043420910835266, 0.14165908098220825, -0.12524819374084473, -0.2694091796875, -0.3268311619758606, -0.06967390328645706, -0.044797349721193314, 0.03996490314602852, -0.3532848656177521, -0.24878081679344177, -0.10787033289670944, 0.4459982216358185, 0.3506692349910736, -0.2708582282066345, 0.19452817738056183, 0.2756907045841217, 0.11282329261302948, -0.15049465000629425, 0.1033523753285408, -0.12591545283794403, -0.12767080962657928, 0.30411744117736816, 0.12328052520751953, -0.3740151524543762, -0.04720410704612732, -0.3971377909183502, 0.012906964868307114, -0.03316853195428848, 0.26752063632011414, 0.11539807915687561, 0.35130178928375244, 0.1298808604478836, -0.19025014340877533, 0.14529003202915192, 0.32636815309524536, -0.6485952138900757, 0.025080418214201927, 0.01747189275920391, 0.2317235767841339, -0.4067341387271881, 0.34898701310157776, -0.045352596789598465, 0.18895354866981506, -0.36322563886642456, -0.3363005220890045, 0.1099710464477539, -0.2957082986831665, -0.22900152206420898, -0.1253279596567154, -0.02367384359240532, -0.020268751308321953, 0.11108050495386124, -0.07925388962030411, 0.22700704634189606, -0.3036375641822815, 0.3279794752597809, 0.11622687429189682, 0.06899817287921906, -0.01907554641366005, 0.08483753353357315, 0.22120359539985657, 0.014031611382961273, -0.2492532879114151, -0.015281638130545616, -0.029000312089920044, 0.013276351615786552, -0.14741279184818268, 0.2617814540863037, 0.24553821980953217, 0.16612233221530914, 0.007766315247863531, -0.34798163175582886, -0.27997612953186035, -0.27385181188583374, -0.17347700893878937, -0.023265615105628967, 0.08622574061155319, -0.2608829140663147, -0.1295786052942276, -0.2489163726568222, 0.044755756855010986, 0.1625533550977707, 0.4897988736629486, 0.2194264978170395, -0.03438659757375717, -0.07816583663225174, 0.3933640420436859, -0.3166014552116394, 0.15653766691684723, 0.3659699857234955, 0.047955505549907684, 0.48584192991256714, -0.6786713004112244, 0.07565982639789581, 0.4984101951122284, 0.40174251794815063, -0.1813037246465683, -0.3245275914669037, -0.21497274935245514, 0.11630378663539886, -0.20211482048034668, -0.15293501317501068, 0.11130209267139435, -0.3591645658016205, -0.6799439787864685, 0.18583405017852783, -0.4284459054470062, 0.4385381042957306, 0.29400643706321716, 0.09452762454748154, -0.19176974892616272, 0.23031635582447052, -0.1407971978187561, -0.40563997626304626, -0.18134641647338867, 0.3021320402622223, -0.3830236792564392, -0.024310197681188583, 0.20890988409519196, -0.27745792269706726, -0.4306770861148834, 0.0011733050923794508, -0.19204652309417725, 0.28513413667678833, -0.15269078314304352, -0.18436172604560852, 0.2988959848880768, -0.41253867745399475, -0.02385619468986988, -0.15750925242900848, 0.12414467334747314, 0.08906527608633041, 0.16003653407096863, 0.18839432299137115, 0.21861150860786438, -0.06208835542201996, -0.12422145903110504, -0.1556091010570526, 0.039446521550416946, 0.14420190453529358, -0.05598469451069832, 0.5078826546669006, -0.43461114168167114, -0.39248472452163696, 0.38651466369628906, 0.7447918057441711, -0.25105607509613037, 0.09677727520465851, -0.05547437444329262, 0.3373633921146393, -0.007451627403497696, 0.27307796478271484, -0.07740441709756851, -0.08556146174669266, 0.528522253036499, -0.4301319122314453, 0.031107420101761818, 0.036110736429691315, 0.1018960177898407, -0.08888813853263855, -0.47264939546585083, -0.12939861416816711, 0.713144838809967, 0.20524655282497406, -0.03758693486452103, -0.08100569993257523, 0.1993263214826584, -0.04101421311497688, -0.12458396703004837, -0.7172499299049377, -0.18722543120384216, 0.19785021245479584, 0.07784902304410934, 0.04162408411502838, 0.4495462477207184, 0.4200090169906616, -0.4011293351650238, -0.08777327835559845, 0.29678040742874146, 0.20396551489830017, 0.2740004360675812, -0.11272259056568146, -0.02580956183373928, -0.18809323012828827, -0.06622153520584106, 0.18670439720153809, 0.14728260040283203, 0.02811201475560665, -0.07247593998908997, 0.31758663058280945, 0.17554187774658203, 0.035726021975278854, 0.18008755147457123, -0.20704779028892517, 0.08858176320791245, -0.20695960521697998, 0.17805950343608856, 0.2411504089832306, -0.351992666721344, 0.09599030017852783, 0.3571438491344452, 0.02750314399600029, 0.05756490305066109, -0.058579687029123306, -0.06114339083433151, -0.004832466132938862, 0.3653015196323395, -0.143971785902977, -0.1119399443268776, 0.11723468452692032, 0.09266833961009979, -0.38958191871643066, 0.052640847861766815, -0.2631361484527588, 0.07382865250110626, 0.1677258312702179, -0.03368767350912094, 0.25419628620147705, -0.08896656334400177, -0.27726125717163086, -0.28633755445480347, -0.0012796120718121529, 0.32141223549842834, -0.17543093860149384, -0.013345860876142979, -0.3220677077770233, 0.13956131041049957, 0.12073203176259995, -0.06550052016973495, 0.4350488781929016, 0.20868094265460968, -0.013107050210237503, 0.053137291222810745, 0.12244313210248947, -0.0879613533616066, -0.009257792495191097, -0.41666778922080994, 0.21567301452159882, -0.03416246548295021, 0.039736539125442505, 0.1015290841460228, 0.3546954095363617, -0.022002609446644783, 0.21321584284305573, 0.054994042962789536, 0.27685776352882385, -0.20249612629413605, -0.21063363552093506, 0.09396929293870926, 0.04258621111512184, -0.037829894572496414, -0.09367404878139496, -0.027384089305996895, 0.08674067258834839, 0.03527339547872543, 0.07178749889135361, 0.04080425575375557, -0.5067656636238098, -0.5331853032112122, -0.35855039954185486, 0.3844565451145172, -0.09940566122531891, 0.09217767417430878, -0.5694455504417419, -0.015361765399575233, 0.2467510998249054, 0.01922113634645939, -0.017703082412481308, -0.13109047710895538, 0.18909278512001038, -0.035523850470781326, 0.10681765526533127, 0.4852393567562103, -0.10216348618268967, -0.07065893709659576, 0.3525453805923462, 0.00901980884373188, -0.408151775598526, -0.015960825607180595, -0.15921539068222046, 0.6372047066688538, 0.22178912162780762, 0.3406852185726166, 0.05674467980861664, -0.006072283256798983, 0.1996173858642578, -0.10988631099462509, 0.24890044331550598, 0.26408880949020386, 0.07830936461687088, -0.5884411931037903, 0.0670395940542221, 0.1958065927028656, 0.15509147942066193, -0.22000089287757874, 0.05767948552966118, 0.0259738527238369, 0.24060864746570587, -0.11034421622753143, 0.2689689099788666, 0.09471104294061661, 0.2109365612268448, -0.009162625297904015, 0.10359927266836166, -0.15005110204219818, 0.11423974484205246, -0.15567848086357117, -0.2954786717891693, -0.07346946746110916, -0.24536120891571045, -0.3544338047504425, 0.4726303815841675, -0.10946135222911835, 0.4761158227920532, 0.1124102845788002, -0.1712285280227661, 0.04388148710131645, -0.24494032561779022, -0.13898035883903503, -0.2803255319595337, -0.3031923472881317, -0.09171256422996521, -0.006638895254582167, -0.1564144790172577, -0.1797802448272705, 0.03504081070423126, -0.058790817856788635, -0.03802997246384621, -0.013212978839874268, 0.1288120001554489, -0.06037875637412071, -0.5503232479095459, -0.09531502425670624, -0.013815867714583874, 0.19169318675994873, 0.4343049228191376, -0.37993502616882324, 0.2854350209236145, -0.0030910558998584747, 0.0667569562792778, 0.08729993551969528, -0.32532671093940735, 0.3842872381210327, 0.0404171422123909, 0.28467875719070435, 0.03873668611049652, 0.10115332901477814, 0.052137430757284164, 0.08165757358074188, 0.27995097637176514, -0.13323143124580383, 0.23678767681121826, -0.256034791469574, -0.1229129433631897, 0.06032508984208107, 0.25419455766677856, 0.21877311170101166, -0.01997910626232624, -0.1445396989583969, 0.049784690141677856, -0.21516300737857819, 0.15281638503074646, 0.2621433436870575, 0.040914926677942276, -0.2898997664451599, -9.225811958312988, 0.1965862214565277, -0.026891177520155907, -0.13328434526920319, 0.0804322361946106, 0.15937694907188416, -0.06877084821462631, -0.17395363748073578, -0.017459509894251823, -0.028782181441783905, 0.3030889928340912, 0.321353942155838, -0.11241117119789124, -0.16699597239494324, -0.30128806829452515, 0.07268979400396347, -0.0388006716966629, -0.25571030378341675, -0.24000559747219086, 0.3794324994087219, -0.07033976912498474, 0.21839803457260132, -0.1340467929840088, 0.34817013144493103, 0.05443708226084709, 0.045253850519657135, 0.03746481612324715, -0.062419064342975616, 0.30583059787750244, -0.024261439219117165, -0.20042750239372253, 0.15881408751010895, -0.21626980602741241, 0.08028033375740051, -0.21088741719722748, -0.3725343346595764, 0.13530611991882324, 0.22497206926345825, 0.38401296734809875, -0.020658524706959724, 0.2739226818084717, 0.11817417293787003, 0.14628607034683228, 0.2983624339103699, -0.046145956963300705, -0.34996703267097473, -0.03251583129167557, 0.25390559434890747, -0.10296615958213806, 0.10952556878328323, 0.4224874675273895, 0.15406031906604767, -0.5026028752326965, 0.05975032597780228, -0.5068539381027222, 0.07872481644153595, -0.35417139530181885, 0.40347790718078613, -0.1830512136220932, -0.367121160030365, -0.20926141738891602, 0.25875014066696167, 0.14881081879138947, 0.09543106704950333, 0.09379925578832626, -0.13470079004764557, -0.07567133009433746, 0.14765030145645142, -0.1268700808286667, 0.08815261721611023, -0.07034491002559662, -0.1928097903728485, 0.12440038472414017, 0.26608243584632874, 0.11552522331476212, -0.002175040077418089, 0.029698321595788002, -0.01670503057539463, 0.18837600946426392, 0.4205670952796936, -0.4920300245285034, 0.15999257564544678, 0.339843213558197, 0.3911449611186981, 0.037976574152708054, 0.34025776386260986, -0.22519297897815704, 0.10533101856708527, -0.14938832819461823, -0.20314428210258484, -0.14099471271038055, -0.054041538387537, 0.014398109167814255, 0.06000592187047005, -0.44256407022476196, 0.013366344384849072, 0.01152756903320551, -0.4307038486003876, 0.04193456470966339, -0.5327147245407104, -0.43680474162101746, 0.39345383644104004, 0.13162408769130707, 0.04978605732321739, 0.3289005160331726, 0.17723658680915833, 0.3326106369495392, -0.20386309921741486, 0.03656671196222305, 0.3764302134513855, 0.08587254583835602, 0.06807760894298553, -0.05290636792778969, 0.33982053399086, 0.0169015284627676, 0.03292742744088173, 0.2795701026916504, 0.1708555817604065, -0.05422629415988922, -0.10214823484420776, -0.09588582813739777, -0.08622264117002487, 0.6465654969215393, 0.3208973705768585, 0.001991128548979759, -0.09948436915874481, -0.27594614028930664, 0.2675802409648895, 0.2033357173204422, -0.35071226954460144, 0.44616174697875977, 0.11626502871513367, -0.23768265545368195, 0.3374576270580292, -0.20727257430553436, -0.07320374995470047, -0.06138642877340317, 0.005336502566933632, 0.039564356207847595, -0.04735434800386429, -0.41873225569725037, 0.16890329122543335, -0.021719975396990776, 0.06267115473747253, 0.15010318160057068, 0.1906718909740448, -0.32739540934562683, -0.5533416271209717, -0.10323980450630188, -0.09085500985383987, -0.38072898983955383, 0.4462974965572357, 0.3422074615955353, -0.2019054889678955, 0.22267930209636688, -0.4296342134475708, 0.15543489158153534, 0.190454363822937, 0.11911256611347198, -0.25575971603393555, -0.1698717176914215, 0.16474851965904236, 0.1731383055448532, -0.32821571826934814, 0.010394847951829433, -0.16386735439300537, -0.08678388595581055, 0.10798003524541855, 0.30059054493904114, -0.021306540817022324, -0.14592625200748444, -0.06047514081001282, 0.0893787369132042, -0.09778601676225662, 0.003948429599404335, 0.4883497357368469, -0.13317659497261047, 0.1764567345380783, 0.2084008753299713, 0.17905955016613007, -0.006889738142490387, 0.027970820665359497, -0.11987914144992828, -0.675162672996521, 0.1413659304380417, 0.2061351090669632, 0.0686909407377243, -0.0866759866476059, -0.065399169921875, 0.3327881991863251, -0.051540907472372055, 0.08035481721162796, 0.08540232479572296, 0.0218392014503479, 0.04158591479063034, 0.28847837448120117, 0.11383385211229324, 0.1711910516023636, -0.2656680643558502, -0.050843965262174606, -0.07897260785102844, 0.1143694669008255, -0.08703137934207916, 0.020768310874700546, -0.14591218531131744, 0.07084158807992935, -0.43192988634109497, -0.14851760864257812, 0.18166303634643555, -0.235469251871109, 0.12118830531835556]\n",
            "Token 4: [0.22518394887447357, 0.05231526866555214, -0.019411839544773102, 0.24132691323757172, 0.4134480357170105, -0.3636831045150757, 0.22972646355628967, 0.143929123878479, 0.043525733053684235, 0.03401060774922371, 0.1496853232383728, 0.3303801417350769, -0.3063949942588806, 0.29081425070762634, -0.29776036739349365, -0.030746199190616608, -0.16646656394004822, -0.03824004530906677, 0.2671901285648346, -0.29165202379226685, -0.26535043120384216, -0.7145296335220337, -0.19057241082191467, -0.2366640418767929, 0.0875309407711029, -0.4605512320995331, 0.10608717054128647, 0.2782900333404541, -0.139980748295784, 0.26512494683265686, -0.3626675307750702, 0.11489821970462799, 0.3045460879802704, 0.022487018257379532, -0.08481743186712265, -0.09418120980262756, 0.058371562510728836, -0.038218624889850616, -0.24811752140522003, 0.10252043604850769, -0.20163069665431976, 0.12959802150726318, -0.0400325171649456, 0.08367463946342468, 0.5830305814743042, -0.0020164817105978727, 0.18304163217544556, -0.041928328573703766, -0.2717324197292328, 0.11785944551229477, -0.14300644397735596, -0.27277395129203796, -0.28202277421951294, 0.31264856457710266, -0.039331041276454926, -0.06698352843523026, 0.12381042540073395, -0.018737535923719406, 0.024390390142798424, 0.24215060472488403, 0.13782107830047607, 0.24594543874263763, 0.16851773858070374, 0.4464248716831207, 0.22086414694786072, -0.04981992021203041, 0.15909820795059204, -0.2288185954093933, 0.03430699557065964, -0.0290145892649889, -0.13463975489139557, -0.2873585522174835, -0.03876778855919838, 0.38633912801742554, 0.17456193268299103, 0.22072574496269226, 0.10654866695404053, -0.3230454921722412, -0.4508782625198364, -0.8325091600418091, 0.3834899365901947, 0.5874696969985962, 0.09293819218873978, 0.38878539204597473, 0.20334991812705994, 0.29352518916130066, -0.17119577527046204, 0.23956039547920227, 0.3536597490310669, 0.5521130561828613, -0.1269625872373581, -0.1900363713502884, 0.052256181836128235, -0.2675161063671112, 0.0780118778347969, 0.17053775489330292, -0.4664410352706909, 0.0616861991584301, -0.533667266368866, 0.3166407346725464, 0.1004815399646759, -0.21377843618392944, 0.13117511570453644, 0.24331475794315338, 0.22313237190246582, 0.035918932408094406, -0.3224242925643921, -0.3789248466491699, -0.04484926536679268, 0.016927123069763184, -0.33849042654037476, -0.20658661425113678, 0.6793487668037415, 0.1567055881023407, -0.2971068024635315, -0.22794242203235626, -0.14739984273910522, -0.06681244820356369, -0.16991451382637024, 0.3440810441970825, -0.15057878196239471, -0.0884036272764206, -0.25234898924827576, -0.3991791605949402, -0.03178519010543823, 0.3731244206428528, -0.05066067352890968, 0.18338684737682343, 0.4101463556289673, 0.052254874259233475, 0.017497623339295387, 0.0986279547214508, -0.02112407423555851, 0.38632911443710327, -0.02234712243080139, -0.24804747104644775, -0.8917535543441772, 0.6091116666793823, -1.2770723104476929, -0.37641680240631104, -0.2666636109352112, -0.12262547761201859, 0.6770439743995667, -0.5057414174079895, 0.11177955567836761, 0.1392088532447815, -0.049577608704566956, -0.0954449251294136, 0.11404462158679962, 0.5154373049736023, -0.34953171014785767, 0.2589990794658661, 0.16468875110149384, -0.31481340527534485, 0.414057195186615, -0.001571593340486288, 0.041172318160533905, 0.39539065957069397, 0.00995563343167305, 0.20534709095954895, 0.39781031012535095, -0.13044072687625885, 0.34079018235206604, 0.09516692161560059, 0.0855662152171135, 0.7350755333900452, -0.09422162920236588, 0.23268751800060272, 0.015035253018140793, 0.034346528351306915, -0.18628358840942383, -0.0941547229886055, -0.09785275906324387, -0.3300045132637024, -0.12504345178604126, -0.03356493264436722, 0.252669095993042, 0.0010626433650031686, 0.18860307335853577, -0.3916534185409546, 0.10276977717876434, -0.48561686277389526, -0.1516508311033249, -0.5246326327323914, 0.20960719883441925, 0.2738061547279358, 0.019539372995495796, 0.15141111612319946, 0.43280208110809326, -0.22755469381809235, 0.5278846621513367, -0.19833096861839294, -0.031822942197322845, -0.2793944180011749, -0.031234554946422577, -0.3472330570220947, -0.12140075862407684, 0.09039513021707535, 0.2595227062702179, 0.33577466011047363, -0.29052025079727173, -0.09078102558851242, -0.07851207256317139, 0.2709735035896301, -0.07519309967756271, 0.14452092349529266, -0.5082619786262512, 0.474617600440979, -0.16020210087299347, -0.6176795363426208, 0.25262463092803955, 0.39834675192832947, -0.07193201035261154, 0.07085108757019043, -0.46914568543434143, -0.05456499382853508, -0.11031422764062881, -0.2891879677772522, 0.3783053755760193, 0.3416033089160919, 0.13403946161270142, -0.23662695288658142, 0.4553159475326538, 0.17004060745239258, 0.17419953644275665, -0.1186477392911911, 0.3462495803833008, 0.3064580261707306, 0.3189569413661957, 0.11428577452898026, 0.099347323179245, 0.10632253438234329, 0.12081693857908249, -0.4329676032066345, 0.05460255965590477, -0.4684978723526001, -0.6093137860298157, 0.11318149417638779, -0.6604577898979187, 0.500473141670227, -0.3606540262699127, 0.06193419173359871, 0.26957792043685913, 0.046313200145959854, 0.4377809762954712, 0.2624862790107727, -0.4396091103553772, 0.5105370879173279, 0.34904325008392334, 0.09207051247358322, -0.49612677097320557, -0.5604298710823059, -0.08275411278009415, 0.25346750020980835, 0.2264879047870636, -0.024161936715245247, -0.17466461658477783, 0.3418976068496704, 0.0764358714222908, 0.22836817800998688, -0.2708757519721985, 0.18774999678134918, 0.02849050611257553, -0.16606947779655457, -0.3759298026561737, -0.0014140723505988717, -0.24418288469314575, -0.4970046877861023, -0.042876582592725754, -0.20289184153079987, 0.154652938246727, 0.11723797768354416, 0.07559942454099655, 0.23494762182235718, -0.08961458504199982, 0.2906323969364166, 0.2413920760154724, -0.38416314125061035, 0.17352968454360962, -0.5261707305908203, 0.4325241148471832, 0.42458298802375793, -0.10992664843797684, 0.23880916833877563, -0.35891735553741455, 0.15233485400676727, -0.10427343100309372, 0.7476439476013184, 0.00013290559581946582, -0.4454866349697113, -0.6020532846450806, 0.5282898545265198, -0.07519334554672241, -0.4399424195289612, -0.504616916179657, -0.21060030162334442, -0.12312629818916321, 0.1458674520254135, -0.338527113199234, 0.4723244607448578, 0.38787299394607544, 0.15285155177116394, -0.03155414015054703, 0.20840910077095032, -0.09656546264886856, 0.1762004792690277, -0.2071109414100647, 0.12165277451276779, 0.2274153232574463, -0.20745843648910522, -0.023259997367858887, 0.5290073752403259, -0.3603011667728424, 0.007048230152577162, 0.18896792829036713, -0.18834033608436584, 0.10677303373813629, -0.05186670646071434, 0.06616699695587158, -0.03913935273885727, -0.5128915309906006, 0.32013019919395447, -0.24267272651195526, 0.33548110723495483, -0.16539143025875092, 0.022823689505457878, 0.547103762626648, -0.010720129124820232, -0.08933571726083755, -0.0406126044690609, -0.20224598050117493, -0.4640253186225891, -0.06577134132385254, -0.12620757520198822, 0.1288832426071167, -0.11715535074472427, 0.11332140862941742, 0.8981601595878601, 0.12443030625581741, 0.1769140660762787, 0.20433712005615234, 0.40161436796188354, 0.2988422214984894, 0.4339774250984192, -0.3305138051509857, 0.2929198443889618, 0.1428574174642563, -0.20747384428977966, -0.054954685270786285, -0.17858155071735382, -0.09699365496635437, -0.12681464850902557, 0.011850293725728989, -0.5133160352706909, 0.5745243430137634, 0.47666576504707336, 0.29530370235443115, -0.2243618220090866, 0.0488385371863842, 0.12674470245838165, -0.2761438190937042, 0.2439105063676834, -0.029001617804169655, -0.052342917770147324, -0.11440549790859222, -0.17747338116168976, -0.3551933467388153, 0.08612212538719177, -0.16769610345363617, -0.6141675710678101, 0.8112857937812805, 0.5953989624977112, 0.619401752948761, 0.027333958074450493, -0.5026625394821167, 0.041085775941610336, -0.24144592881202698, 0.0949130579829216, 0.09343007206916809, -0.3996604382991791, 0.23593008518218994, 0.9694664478302002, -0.11358314007520676, -0.4426102340221405, 0.34488457441329956, -0.06057928875088692, 0.10045027732849121, -0.14648540318012238, 0.3056851327419281, 0.09394374489784241, 0.17480230331420898, -0.5014638900756836, 0.4342697858810425, -0.2898024320602417, 0.10652162879705429, 0.1959325075149536, -0.5872933864593506, -0.37245482206344604, 0.02045363187789917, -0.14051225781440735, -0.6585394144058228, 0.14765073359012604, 0.5703234076499939, -0.04419046640396118, -0.0958305224776268, -0.18011532723903656, -0.8633749485015869, -0.008519512601196766, -0.24903658032417297, 0.2464924454689026, -0.22252576053142548, -0.17109012603759766, 0.08121377974748611, 0.35247719287872314, 0.5984007120132446, -0.3014290928840637, 0.06472104042768478, -0.3178524076938629, -0.11303123086690903, 0.39933979511260986, -0.231143519282341, 0.3134063184261322, 0.02115708217024803, 0.04300200194120407, 0.12757031619548798, 0.2732146680355072, -0.39776933193206787, -0.281573086977005, -0.6635304093360901, 0.0037594595924019814, 0.049773428589105606, 0.3094014525413513, 0.21929675340652466, 0.1482119858264923, 0.23996616899967194, 0.22805318236351013, 0.048617757856845856, 0.19517846405506134, -0.19860568642616272, -0.5345101952552795, 0.5193186402320862, -0.0528389997780323, 0.1491810828447342, -0.17574498057365417, -0.4397875964641571, -0.08775924891233444, 0.2887153923511505, -0.43132835626602173, -0.4551401734352112, -0.5705848932266235, -0.15608827769756317, -0.6020243167877197, 0.17281168699264526, -0.16079644858837128, -0.4360055923461914, -0.08968005329370499, -0.00969782192260027, -0.036148615181446075, -0.010176599025726318, 0.3517703711986542, -0.5051156282424927, 0.16053885221481323, 0.05537746474146843, 0.1672598123550415, 0.4651924967765808, 0.03028525412082672, 0.12200953811407089, 0.660661518573761, -0.5348347425460815, -0.06938739120960236, 0.3980681002140045, 0.08128675073385239, 0.22750604152679443, 0.4230967164039612, 0.38679108023643494, -0.1609696000814438, -0.09185943752527237, 0.21663928031921387, 0.18025492131710052, 0.28115013241767883, -0.10062168538570404, 0.4327126145362854, -0.0935288742184639, -0.2662532329559326, 0.5777541399002075, 0.304820716381073, 0.34592822194099426, 0.22518505156040192, -0.06331223249435425, 0.4781986474990845, -0.5637462139129639, 0.1974591761827469, 0.061310894787311554, 0.563529908657074, -0.18336451053619385, -0.06305084377527237, -0.278493195772171, -0.1753716915845871, -0.23468035459518433, -0.5461217164993286, 0.23703956604003906, -0.03528086841106415, 0.2382156401872635, 0.44573208689689636, -0.43234482407569885, 0.6576254367828369, -0.3584725558757782, -0.15837064385414124, -0.10965695977210999, 0.3645988702774048, -0.02939378097653389, -0.03347158059477806, 0.10291188955307007, 0.2722698748111725, 0.11683163791894913, 0.030446117743849754, 0.09563442319631577, -0.09978677332401276, -0.1454818695783615, 0.19259221851825714, -0.29221490025520325, 0.31486988067626953, -0.4008961319923401, -0.17596964538097382, -0.11873214691877365, 0.33833563327789307, 0.5573250651359558, -0.04933345317840576, -0.09079478681087494, 0.30524712800979614, 0.4222244322299957, 0.07547423243522644, -0.22261716425418854, 0.026881441473960876, 0.22347238659858704, -0.2221859097480774, 0.24028979241847992, -0.08628994226455688, -0.020939162001013756, 0.10870993882417679, -0.503642737865448, -0.27639439702033997, -0.003463857341557741, 0.22202736139297485, -0.21121808886528015, 0.19681748747825623, -0.23493409156799316, 0.2746241092681885, 0.11117657274007797, 0.1767854243516922, -0.01975667104125023, 0.014172811061143875, -0.731489896774292, -0.013473335653543472, 0.0408097505569458, 0.20237411558628082, -0.14702248573303223, -8.89769172668457, 0.3971014618873596, 0.2601795494556427, 0.2150501161813736, -0.4056573510169983, -0.219690203666687, -0.3462851345539093, -0.5504009127616882, 0.06979077309370041, 0.12995174527168274, 0.4515329897403717, 0.06142167001962662, 0.41893208026885986, -0.14668789505958557, -0.30482757091522217, 0.03085477463901043, -0.08389077335596085, 0.47469428181648254, -0.3742837905883789, -0.1245170384645462, 0.3197072744369507, -0.07173463702201843, -0.026430895552039146, 0.12482058256864548, 0.35460469126701355, 0.40101778507232666, 0.2707306742668152, 0.6015464067459106, 0.28548258543014526, -0.14009226858615875, 0.18022319674491882, 0.05748229846358299, -0.41646715998649597, 0.0377800315618515, -0.4186123013496399, -0.37096062302589417, 0.2768334746360779, -0.26732081174850464, 1.0479230880737305, 0.015493383631110191, -0.10139898210763931, 0.4115118682384491, -0.145226389169693, 0.04758468270301819, 0.36619386076927185, -0.24847179651260376, 0.13408784568309784, -0.18086406588554382, -0.042700689285993576, 0.31486383080482483, 0.4833042621612549, 0.19691422581672668, -0.2749313414096832, -0.06256961077451706, -0.47433921694755554, -0.07987438142299652, -0.33358725905418396, 0.690012514591217, 0.17480184137821198, 0.17697833478450775, -0.7998021841049194, 0.3171525001525879, 0.19516876339912415, -0.10524309426546097, -0.19250993430614471, -0.15176913142204285, 0.2665674090385437, 0.03851474076509476, 0.031317416578531265, 0.28515180945396423, 0.08851158618927002, -0.39936792850494385, 0.49620723724365234, -0.06522862613201141, 0.2225172519683838, -0.7887751460075378, 0.03035445511341095, 0.34158796072006226, -0.23583614826202393, 0.6723371744155884, -0.6711869835853577, 0.15178173780441284, 0.3263801038265228, -0.056529153138399124, 0.22213241457939148, -0.09362610429525375, -0.01538466103374958, 0.46305912733078003, -0.08168955892324448, -0.4895585775375366, 0.23579449951648712, -0.19169051945209503, -0.12672142684459686, 0.022794188931584358, -0.9642770290374756, 0.3245799243450165, 0.08792237937450409, -0.07793612033128738, -0.298293799161911, 0.17999780178070068, -0.5642836689949036, -0.05466324836015701, 0.4999137222766876, 0.08076443523168564, -0.34695500135421753, 0.3195960819721222, -0.26179060339927673, -0.5193325281143188, 0.024016985669732094, 0.0011773011647164822, -0.08101659268140793, 0.36825069785118103, -0.12043236196041107, -0.1503872126340866, 0.13848543167114258, 0.027913738042116165, 0.03134143725037575, -0.0962766781449318, -0.06338822841644287, 0.22711066901683807, -0.11620160192251205, -0.39172133803367615, 0.10945028066635132, -0.15528616309165955, -0.11403276026248932, 0.08549603074789047, -0.10723893344402313, 0.3621894419193268, 0.3761756420135498, -0.08385123312473297, 0.1677490472793579, 0.18224258720874786, -0.3428187966346741, -0.15270128846168518, -0.43072906136512756, -0.21923594176769257, -0.13275690376758575, -0.07058500498533249, 0.14127330482006073, -0.42381879687309265, -0.28154313564300537, 0.04704490676522255, 0.4774130582809448, 0.17494401335716248, -0.2997102439403534, -0.015477132052183151, -0.24684815108776093, 0.0007010587141849101, -0.008650205098092556, -0.1885959357023239, -0.8392620086669922, 0.4851321280002594, 0.1593761444091797, 0.11183274537324905, -0.16813962161540985, -0.13898569345474243, 0.3757280707359314, 0.5417629480361938, 0.020634090527892113, -0.14345020055770874, 0.1797948032617569, -0.13491487503051758, 0.04489370808005333, 0.0012892433442175388, 0.009880486875772476, 0.3837701678276062, -0.4244430363178253, 0.2625376284122467, 0.12352221459150314, -0.17086519300937653, 0.3856220245361328, -0.09493168443441391, 0.04632837325334549, -0.1646411120891571, -0.11573301255702972, -0.19160102307796478, -0.043466705828905106, 0.04143672436475754, -0.06817284226417542, -0.0734376534819603, -0.008903012610971928, 0.6390444040298462, 0.14012446999549866, -0.35673677921295166, -0.32704290747642517, 0.2436540275812149, 0.04478458687663078, 0.03603550046682358, 0.12830032408237457, -0.1092677190899849, -0.07185638695955276, -0.25346121191978455, 0.32814204692840576, 0.5066502690315247, 0.2786276340484619, 0.020212415605783463, 0.18396486341953278, 0.4198702275753021, -0.27806636691093445, 0.013400375843048096, -0.5319297909736633, 0.07453475892543793, 0.24264083802700043, -0.35129833221435547, 0.0444672554731369, -0.055992837995290756, -0.24543648958206177, -0.44019615650177, -0.005681060254573822, 0.3810388445854187, 0.13129642605781555]\n",
            "Token 5: [0.10707827657461166, -0.25936833024024963, 0.30470210313796997, 0.06635329872369766, -0.13610532879829407, -0.309253066778183, -0.17076443135738373, 0.017565350979566574, 0.10129822045564651, -0.06641814857721329, 0.0701068788766861, 0.47436293959617615, -0.3208337426185608, 0.4780251085758209, -0.06196490302681923, -0.4414699971675873, 0.03165005147457123, 0.00022782916494179517, 0.15310068428516388, -0.253205269575119, 0.01572708785533905, -0.8506116271018982, -0.20412588119506836, -0.07734277099370956, -0.030808569863438606, -0.42448270320892334, 0.05504328012466431, 0.13326336443424225, 0.05548538640141487, 0.19590376317501068, -0.25983282923698425, 0.2049124836921692, 0.29158708453178406, 0.07400622963905334, 0.11911574006080627, 0.13031242787837982, 0.29158633947372437, 0.6017755270004272, -0.23672588169574738, -0.03260886296629906, -0.2572842240333557, 0.11337165534496307, -0.3164760172367096, 0.2745005488395691, 0.4415092468261719, 0.15876862406730652, -0.17547976970672607, -0.323085218667984, 0.04173188656568527, -0.02844507433474064, 0.27046504616737366, 0.1553136110305786, -0.21713276207447052, -0.3287724554538727, -0.03263239189982414, -0.04892526939511299, -0.4798182547092438, 0.013979004696011543, -0.07161980122327805, 0.28934410214424133, 0.22265306115150452, 0.30211594700813293, -0.07971493154764175, 0.5276184678077698, 0.21764397621154785, 0.6762920022010803, -0.15685220062732697, -0.17268073558807373, -0.023591846227645874, -0.11597869545221329, -0.3498552143573761, 0.11989998072385788, -0.14033225178718567, -0.09686418622732162, -0.0488043874502182, -0.4101834297180176, -0.1934172809123993, -0.21409693360328674, -0.13375543057918549, -0.472859650850296, 0.7244516015052795, 0.7101302146911621, -0.04886387288570404, 0.6696954965591431, 0.38003119826316833, 0.11163891106843948, -0.2666272222995758, 0.05389629676938057, 0.7250076532363892, 0.7630329728126526, -0.29099950194358826, -0.07808529585599899, 0.27745500206947327, 0.09661182761192322, 0.3486478924751282, 0.437880277633667, -0.544877827167511, 0.027666525915265083, -0.9290986061096191, -0.0417068749666214, 0.4535873234272003, -0.2635422646999359, -0.10133057087659836, -0.079935722053051, -0.34116625785827637, 0.21747992932796478, 0.18134163320064545, -0.48683488368988037, -0.07835642248392105, 0.07994752377271652, -0.049268659204244614, 0.00410685408860445, 1.0718923807144165, 0.3006565570831299, -0.33366236090660095, -0.2472807765007019, -0.4597116708755493, -0.3603154718875885, 0.35092025995254517, -0.2778470814228058, 0.023855064064264297, 0.11421746015548706, 0.015361609868705273, -0.02384786121547222, -0.02055709809064865, -0.014437573030591011, -0.2581929862499237, -0.23996689915657043, 0.3627219796180725, 0.19417737424373627, -0.011683558113873005, -0.016566148027777672, -0.030857518315315247, 0.2117261439561844, -0.1908264458179474, -0.016872186213731766, -0.49728697538375854, 0.5234975814819336, -1.0441585779190063, -0.5562789440155029, -0.5725060105323792, 0.046708568930625916, 0.45622122287750244, -0.3241828382015228, 0.4248306155204773, -0.12615300714969635, -0.25704237818717957, 0.4412115812301636, 0.24447298049926758, 0.6558285355567932, -0.10424070805311203, 0.5926765203475952, 0.3091534674167633, -0.28147852420806885, 0.19384123384952545, -0.20701846480369568, -0.5706676244735718, 0.048158593475818634, 0.3396994173526764, -0.22021402418613434, 0.5193491578102112, -0.13755790889263153, 0.06746120005846024, 0.12352827191352844, 0.020018061622977257, 0.05568913742899895, -0.07194211333990097, 0.2703028917312622, 0.20554108917713165, -0.3485909700393677, -0.39873552322387695, -0.02430255338549614, 0.44735023379325867, 0.4556189775466919, -0.1101342961192131, 0.23200859129428864, 0.38786062598228455, 0.030779104679822922, -0.09318077564239502, -0.20871181786060333, 0.3058018982410431, -0.5597026348114014, -0.19985859096050262, -0.780673623085022, 0.706250786781311, 0.43430784344673157, -0.3716655969619751, -0.01820685900747776, 0.6028812527656555, 0.09460064023733139, 0.2726385295391083, -0.33829131722450256, -0.07123435288667679, -0.11345018446445465, -0.32769331336021423, -0.06992519646883011, -0.14944814145565033, 0.13060083985328674, 0.3497440218925476, 0.2878325879573822, -0.18997560441493988, -0.02444959059357643, -0.14393657445907593, 0.13467802107334137, -0.1559181958436966, 0.044581133872270584, -0.6026492714881897, -0.3238275945186615, 0.16896124184131622, -0.4825117588043213, -0.0809946060180664, 0.07818127423524857, 0.045141663402318954, 0.19075585901737213, -0.5746264457702637, -0.17523056268692017, -0.40660029649734497, -0.3431837558746338, 0.14796538650989532, 0.5042677521705627, -0.11344585567712784, -0.2757227122783661, 0.23094531893730164, -0.4075755774974823, 0.008040140382945538, -0.06691194325685501, 0.03020024113357067, -0.28654807806015015, 0.33083251118659973, 0.026520831510424614, 0.27687108516693115, -0.030089115723967552, -0.048427384346723557, -0.16250108182430267, -0.047292232513427734, -0.5911446213722229, -0.4097360670566559, -0.5245851278305054, -0.45766016840934753, 0.20644010603427887, 0.09509405493736267, -0.009493737481534481, 0.15263836085796356, 0.02079489454627037, 0.13912300765514374, -0.18979638814926147, -0.12506313621997833, -0.14340859651565552, 0.2602561116218567, -0.36143380403518677, -0.26783615350723267, -0.5425346493721008, 0.18462297320365906, -0.12392093241214752, -0.34826019406318665, 0.014514333568513393, 0.2479884922504425, 0.1660093069076538, 0.14937002956867218, 0.1218256726861, -0.053210508078336716, -0.03174437955021858, 0.09951787441968918, 0.020260021090507507, -0.34156548976898193, -0.11532234400510788, -0.13342514634132385, -0.550894021987915, -0.20637919008731842, 0.14839966595172882, -0.13493406772613525, -0.12512962520122528, 0.2612919509410858, 0.02886304073035717, 0.18373361229896545, 0.3438285291194916, 0.3099229633808136, -0.650955855846405, 0.5631782412528992, -0.39593175053596497, -0.03451927378773689, 0.1281057745218277, -0.15066903829574585, 0.15346325933933258, -0.5647983551025391, -0.20409077405929565, -0.09421826153993607, 0.7422316074371338, -0.4062557518482208, -0.5324119329452515, -0.5860415101051331, 0.1426021009683609, -0.6304323673248291, -0.039885398000478745, 0.16085395216941833, -0.19000005722045898, -0.5176132321357727, 0.3422809839248657, -0.5662828087806702, 0.5220116376876831, 0.37476590275764465, 0.2309858202934265, -0.12166529893875122, 0.056942954659461975, 0.0736946314573288, -0.08108673244714737, 0.1798962950706482, 0.05479041486978531, 0.302977055311203, 0.4264366626739502, 0.19545866549015045, 0.18438474833965302, -0.5543881058692932, 0.0008078558021225035, 0.08113976567983627, -0.34877222776412964, -0.041808634996414185, -0.05764274671673775, -0.34085267782211304, 0.1923624724149704, 0.0021186606027185917, 0.38234469294548035, -0.0820135623216629, 0.6880871057510376, -0.023734288290143013, 0.2473999559879303, 0.6960671544075012, -0.1600961834192276, -0.7081404328346252, -0.13108953833580017, -0.205347940325737, -0.3888893127441406, -0.06389839202165604, 0.13421587646007538, 0.5086148977279663, 0.20453844964504242, 0.12676358222961426, 0.31271520256996155, -0.5467488169670105, -0.032004985958337784, 0.1477837860584259, 0.38870707154273987, 0.41755008697509766, -0.13023674488067627, 0.05710478872060776, 0.44509878754615784, -0.32234761118888855, -0.07790613919496536, -0.34687668085098267, 0.18460774421691895, 0.03939950838685036, -0.4532080292701721, 0.01895706169307232, 0.5904070734977722, 0.37489786744117737, 0.17719987034797668, 0.11009205877780914, -0.46924644708633423, 0.22161956131458282, 0.2729451656341553, -0.012901082634925842, 0.34248828887939453, 0.21472465991973877, -0.012275706976652145, -0.018702717497944832, -0.5606447458267212, 0.10830222070217133, 0.13860997557640076, 0.24798499047756195, -0.14644074440002441, 0.6876928806304932, 0.7090616226196289, 0.1662633717060089, 0.04169464856386185, -0.5037611126899719, -0.323525607585907, -0.1888308972120285, 0.11152133345603943, -0.11047062277793884, -0.6042536497116089, 0.371468186378479, 0.5139570236206055, -0.05062613636255264, -0.04905325174331665, 0.06812960654497147, -0.07810389995574951, 0.29711467027664185, 0.2254231721162796, -0.04656679928302765, 0.07018905878067017, -0.15959429740905762, -0.29307839274406433, 0.6254271864891052, -0.34044206142425537, -0.14801979064941406, 0.147752583026886, -0.6209515333175659, -0.05510244145989418, -0.08949776738882065, 0.10104499012231827, -0.3989391326904297, -0.07141488045454025, 0.2859898507595062, -0.3843613862991333, -0.4128327965736389, -0.2576132118701935, -0.7759391665458679, 0.5181039571762085, 0.2448723465204239, 0.2187388390302658, -0.07069364190101624, -0.14504371583461761, 0.052070252597332, -0.11025160551071167, 0.758452832698822, -0.46935272216796875, -0.21773803234100342, -0.036092840135097504, -0.284690260887146, 0.3368542790412903, -0.08044350147247314, 0.6946160793304443, 0.1345078945159912, 0.011245345696806908, 0.17879635095596313, 0.24068109691143036, -0.31730183959007263, -0.12962336838245392, -0.8134698867797852, -0.19358153641223907, 0.25869041681289673, 0.5769348740577698, 0.3798774778842926, 0.27703723311424255, 0.5946551561355591, 0.5844323635101318, -0.29304730892181396, 0.4162392318248749, 0.07840204238891602, -0.8004660606384277, 0.8299274444580078, 0.13387665152549744, -0.10569053143262863, -0.3546576499938965, -0.04173223301768303, 0.13727109134197235, 0.24917998909950256, -0.35956209897994995, -0.5195340514183044, -0.41427183151245117, -0.0900484174489975, -0.374406635761261, 0.1297169327735901, -0.12580658495426178, -0.17854703962802887, -0.09576471894979477, -0.17077477276325226, 0.20129086077213287, -0.23499320447444916, 0.21260380744934082, -0.43573811650276184, -0.0347648523747921, -0.09950343519449234, 0.12551349401474, 0.25832399725914, 0.08595110476016998, -0.03630674257874489, 0.23730075359344482, -0.2128046751022339, -0.3802497982978821, 0.45353439450263977, 0.33241206407546997, 0.2975422441959381, 0.3578222990036011, 0.3248928189277649, -0.16101235151290894, -0.07164280861616135, 0.2949270009994507, -0.08434363454580307, 0.37265849113464355, -0.27486950159072876, 0.004989302717149258, -0.5164260268211365, -0.20314019918441772, 0.45094507932662964, 0.37327608466148376, 0.6064577698707581, -0.024515004828572273, 0.18174055218696594, 0.5882213711738586, -0.5628335475921631, 0.11399368196725845, -0.07404395192861557, 0.6553281545639038, -0.2656260132789612, -0.48300567269325256, 0.1031508818268776, 0.03941592574119568, -0.0005777683691121638, -0.692291259765625, 0.27151793241500854, 0.38938823342323303, 0.2065301090478897, 0.3898400664329529, -0.03270113095641136, 0.3462883532047272, -0.13850480318069458, -0.2517094016075134, -0.30034923553466797, 0.3534683585166931, -0.1899031400680542, -0.06716862320899963, -0.030461590737104416, 0.09438589960336685, -0.04852837324142456, 0.007447134703397751, 0.42036259174346924, 0.12143222987651825, -0.12173294275999069, 0.23267166316509247, 0.24578554928302765, -0.020765051245689392, 0.13662463426589966, -0.18498429656028748, -0.03615588694810867, 0.451850563287735, 0.08422292023897171, 0.3031250238418579, 0.07069249451160431, -0.12920761108398438, 0.22063249349594116, 0.3580312728881836, -0.039466314017772675, -0.26918771862983704, 0.5429086685180664, -0.2534227967262268, -0.15269456803798676, 0.07734046131372452, -0.20139259099960327, 0.566020667552948, -0.6913778781890869, -0.23126280307769775, 0.07909154146909714, 0.27831900119781494, -0.08122075349092484, 0.3493572175502777, -0.15926174819469452, 0.3864007890224457, 0.27795809507369995, -0.3800157606601715, -0.16365526616573334, 0.08382348716259003, -0.3448430001735687, -0.16717635095119476, -0.07153728604316711, 0.16784405708312988, -0.2192038595676422, -8.749083518981934, 0.24028925597667694, 0.2102092206478119, 0.1850506216287613, -0.16446863114833832, 0.07791751623153687, 0.054826442152261734, 0.041590627282857895, -0.005905207712203264, -0.1742696762084961, 0.9041604399681091, -0.20595283806324005, 0.3443489372730255, -0.32323360443115234, -0.613743007183075, -0.011600174009799957, -0.18331094086170197, 0.56681889295578, -0.7690110802650452, -0.4265976846218109, 0.5040467977523804, 0.2410719096660614, 0.260477215051651, 0.28547191619873047, 0.10009419173002243, 0.3673546314239502, -0.24067462980747223, 0.18098445236682892, 0.578931450843811, -0.09038273990154266, 0.2502654790878296, 0.12132510542869568, -0.4719138741493225, 0.17669621109962463, -0.19073157012462616, -0.3118980824947357, 0.5445204973220825, -0.3001601994037628, 0.03109259344637394, -0.2317172884941101, 0.48974788188934326, 0.472657173871994, -0.015350554138422012, 0.25516584515571594, 0.21383975446224213, -0.11094879359006882, 0.23528079688549042, -0.2603355050086975, -0.07996999472379684, 0.646461546421051, 0.44200098514556885, -0.13024479150772095, -0.10428108274936676, -0.19619004428386688, -0.3103257715702057, 0.0976659506559372, -0.01814359799027443, 0.4771934449672699, -0.17051678895950317, -0.3307710289955139, -0.635306179523468, -0.1034139096736908, -0.1345013827085495, 0.1985923796892166, -0.17118622362613678, -0.14977748692035675, 0.05091020464897156, -0.26597535610198975, -0.6038303971290588, 0.27651748061180115, -0.25307345390319824, -0.2988879978656769, 0.1256755292415619, -0.4827333092689514, 0.41925927996635437, -0.8877543210983276, -0.05465457960963249, 0.1623115986585617, -0.30259257555007935, 0.15508078038692474, -0.3758867681026459, 0.5413209199905396, 0.07891299575567245, -0.14081044495105743, 0.12042441964149475, -0.05266423150897026, -0.06467403471469879, 0.21017496287822723, -0.14192511141300201, 0.04407111927866936, 0.09923029690980911, -0.30083706974983215, 0.1748264580965042, 0.18593642115592957, -0.19378115236759186, 0.2848776578903198, -0.004600436892360449, -0.2203809916973114, -0.40982377529144287, -0.07999280840158463, -0.32240986824035645, 0.13641393184661865, 0.429073691368103, 0.34840866923332214, -0.09461092203855515, -0.2246657758951187, 0.12655887007713318, -0.33820199966430664, 0.042169373482465744, -0.13684330880641937, -0.22227540612220764, 0.47797754406929016, -0.1383601427078247, 0.06880844384431839, -0.12405886501073837, -0.03724922239780426, 0.903493344783783, -0.36539947986602783, -0.003788772039115429, -0.44454893469810486, 0.01587539352476597, -0.422028511762619, 0.39389297366142273, 0.6122922897338867, -0.13445042073726654, -0.1569281965494156, -0.4231559634208679, -0.013522098772227764, 0.5423082709312439, -0.19639579951763153, 0.5258626937866211, -0.3675324618816376, -0.2424333542585373, 0.5849234461784363, -0.3293876647949219, -0.33942580223083496, -0.29283758997917175, 0.5352687835693359, 0.5827457904815674, 0.08619797229766846, -0.48803210258483887, -0.04831366986036301, 0.14785027503967285, -0.2182239145040512, -0.050483185797929764, -0.3253794014453888, -0.11499250680208206, -0.36244213581085205, -0.0032328602392226458, -0.19907094538211823, -0.6365996599197388, 0.08560486882925034, 0.5725288391113281, 0.4504537284374237, 0.08069460093975067, -0.1519206166267395, 0.32767096161842346, 0.16758757829666138, 0.49903661012649536, -0.13602620363235474, -0.037378277629613876, -0.010525528341531754, 0.2983388304710388, -0.21416343748569489, -0.12153202295303345, 0.3595544099807739, 0.129952073097229, 0.21493861079216003, 0.14552798867225647, 0.2321687489748001, 0.36457332968711853, -0.19342085719108582, 0.17991600930690765, -0.11889826506376266, 0.3203089237213135, 0.18414035439491272, 0.5621762871742249, 0.2658795714378357, -0.1331106275320053, 0.4018171429634094, 0.2702195644378662, 0.5617706179618835, 0.05322565883398056, -0.7385045289993286, -0.5054235458374023, 0.3373301029205322, 0.2333100140094757, 0.10197093337774277, 0.19979368150234222, 0.3272508680820465, 0.5233038663864136, 0.1972852647304535, 0.09197840839624405, 0.572157084941864, 0.1853884607553482, 0.07116936147212982, 0.1634877324104309, 0.3036043047904968, -0.11530186235904694, -0.23730631172657013, -0.8443363904953003, -0.1537596732378006, 0.29841476678848267, -0.5456142425537109, -0.23828501999378204, -0.3917577862739563, -0.3742033541202545, 0.30020126700401306, 0.14131943881511688, 0.2410247027873993, 0.35425475239753723]\n",
            "Token 6: [0.07605945318937302, -0.47280821204185486, 0.5113075375556946, 0.2074989378452301, -0.08776197582483292, -0.18805091083049774, -0.23004931211471558, 0.23971565067768097, -0.09014244377613068, 0.018110986799001694, 0.3857676684856415, 0.5857363939285278, -0.9531942009925842, 0.5492441654205322, -0.12413664907217026, -0.6527497172355652, -0.058470167219638824, 0.1691502034664154, 0.22088006138801575, -0.33458733558654785, 0.15018029510974884, -0.6325314044952393, -0.2802775204181671, 0.013770341873168945, -0.06535668671131134, -0.848364531993866, 0.19046196341514587, 0.43951845169067383, 0.09178955107927322, 0.02403482235968113, -0.20357352495193481, 0.010208993218839169, 0.34590795636177063, 0.1308475285768509, -0.00883116852492094, 0.017162779346108437, 0.27269691228866577, 0.7312002778053284, -0.14461274445056915, -0.3535977900028229, -0.23143424093723297, 0.1012892946600914, -0.16580000519752502, -0.09353750944137573, 0.6241769790649414, -0.13325700163841248, -0.30648162961006165, -0.30199795961380005, -0.08127396553754807, 0.36866500973701477, -0.18498508632183075, 0.5597088932991028, -0.22554108500480652, -0.3530152440071106, 0.22075988352298737, 0.09187178313732147, -0.4172205924987793, -0.23269736766815186, 0.09714602679014206, 0.596417248249054, 0.3699030876159668, 0.30363863706588745, 0.19957217574119568, 0.440298855304718, 0.3710983693599701, 0.3837888836860657, -0.11613799631595612, -0.2957390248775482, 0.0733017772436142, -0.5114072561264038, -0.30766043066978455, -0.0766516849398613, 0.06639387458562851, -0.04642370715737343, -0.24912768602371216, 0.017452500760555267, -0.004312929231673479, -0.6510491371154785, -0.1954166144132614, -0.4606934189796448, 0.7423654198646545, 0.7580526471138, -0.3298189043998718, 0.8373352289199829, 0.3800983428955078, 0.2665401101112366, -0.32280731201171875, 0.3176141083240509, 0.8242026567459106, 0.8978030681610107, -0.4179582893848419, -0.42954185605049133, 0.2875899374485016, -0.10722871124744415, 0.5470801591873169, 0.5323947072029114, -0.4435898959636688, 0.2596132457256317, -0.9263591170310974, 0.358956903219223, 0.4497974216938019, 0.01570787839591503, 0.0339059978723526, 0.2628486752510071, -0.48643314838409424, -0.10739469528198242, 0.43134549260139465, -0.43363845348358154, -0.18782967329025269, -0.3394481837749481, -0.16225934028625488, -0.12541310489177704, 1.1071892976760864, 0.46288856863975525, 0.014237714000046253, -0.3393256664276123, -0.09216548502445221, -0.46222835779190063, 0.16626416146755219, 0.11247055977582932, 0.11403574794530869, -0.20939888060092926, -0.0792032927274704, -0.11127486079931259, -0.23275910317897797, 0.18278788030147552, -0.4077605903148651, -0.09467767924070358, 0.18551115691661835, -0.06550813466310501, 0.07277481257915497, 0.24515533447265625, -0.2990705072879791, 0.25142407417297363, -0.027340315282344818, -0.25254136323928833, -0.7026891112327576, 0.34856370091438293, -1.1071569919586182, -0.5220007300376892, -0.3378797471523285, 0.3533190190792084, 0.12908579409122467, -0.6123297810554504, 0.23348648846149445, -0.25932183861732483, -0.1776760220527649, 0.3378937244415283, 0.11505362391471863, 0.5575160384178162, -0.23037557303905487, 0.3275064527988434, 0.38036105036735535, -0.31572425365448, 0.31917911767959595, -0.5186694264411926, -0.39769312739372253, -0.14061133563518524, 0.5826082229614258, 0.13169293105602264, 0.627623975276947, -0.11714082211256027, -0.049279071390628815, 0.5492091774940491, -0.07911118865013123, -0.03416379913687706, 0.39948198199272156, 0.15984247624874115, 0.35337328910827637, -0.2989150583744049, -0.12761510908603668, 0.00020727765513584018, 0.8373349905014038, 0.44412171840667725, 0.2046012580394745, 0.04987543076276779, 0.6654952764511108, 0.12414173036813736, -0.5472659468650818, -0.3416585922241211, 0.2215123325586319, -0.5284324884414673, -0.13179177045822144, -1.0612881183624268, 0.3773247301578522, 0.37519779801368713, -0.3891109824180603, -0.1319625824689865, 0.5761982202529907, 0.20990025997161865, 0.19664262235164642, -0.35997331142425537, 0.08051234483718872, 0.11043547838926315, -0.14582251012325287, -0.018566766753792763, 0.07804404944181442, 0.28918442130088806, 0.6044309139251709, 0.3850835859775543, 0.020590342581272125, -0.24459879100322723, 0.10786628723144531, 0.3292474150657654, -0.1616610884666443, 0.042749639600515366, -0.8767465353012085, -0.06264955550432205, -0.2224721759557724, -0.3252693712711334, 0.01937265694141388, 0.024113686755299568, -0.08434870094060898, 0.10638497024774551, -0.6627806425094604, -0.551679253578186, -0.3637255132198334, -0.3756788969039917, 0.41254740953445435, 0.38837578892707825, -0.3417242467403412, -0.20109516382217407, 0.12453769892454147, -0.20935764908790588, -0.21310637891292572, -0.31806251406669617, 0.31710970401763916, -0.07404689490795135, 0.49836036562919617, 0.07751450687646866, 0.002546733943745494, 0.009531383402645588, -0.14386746287345886, -0.1623436063528061, -0.021204806864261627, -0.8185785412788391, -0.26225754618644714, 0.052855584770441055, -0.7802397608757019, 0.5557361245155334, -0.18132789433002472, -0.016049960628151894, 0.2748368978500366, 0.1045454666018486, 0.4657582938671112, -0.22595873475074768, -0.33744728565216064, 0.2018909454345703, 0.23505233228206635, -0.34206148982048035, -0.5723509788513184, -0.3792663514614105, 0.5160389542579651, -0.29849642515182495, 0.21757842600345612, 0.20697350800037384, -0.12796062231063843, 0.5672325491905212, 0.07686318457126617, 0.10071665048599243, -0.2536766231060028, 0.36587217450141907, 0.03958912193775177, 0.051241468638181686, -0.4396750032901764, -0.1437998265028, 0.1252695620059967, -0.4852016568183899, 0.03160658851265907, 0.14358368515968323, 0.2698994576931, -0.5864636301994324, 0.14266955852508545, -0.10268254578113556, 0.14382168650627136, 0.31752511858940125, 0.4319378733634949, -0.8772608041763306, 0.5865453481674194, -0.7143496870994568, 0.05414963141083717, 0.7605926394462585, 0.14271865785121918, 0.20587597787380219, -0.6505022048950195, -0.2751416862010956, -0.2562049627304077, 0.7216874361038208, -0.42291638255119324, -0.5151230692863464, -0.5187151432037354, 0.3346070349216461, -0.490756630897522, -0.05124976113438606, -0.26403141021728516, -0.17993830144405365, -0.6876275539398193, 0.39466312527656555, -0.45614922046661377, 0.5367333889007568, 0.19736012816429138, 0.22353209555149078, -0.13336941599845886, -0.13872979581356049, 0.21941792964935303, -0.1083936020731926, 0.45912888646125793, -0.39420294761657715, 0.5689345598220825, 0.41682225465774536, 0.2963597774505615, 0.4348694682121277, 0.071877121925354, -0.0813756138086319, -0.04971091449260712, -0.25566771626472473, -0.1735234558582306, 0.12327700108289719, -0.14982010424137115, -0.18365028500556946, 0.05617866292595863, 0.45283839106559753, -0.22490137815475464, 0.8255583643913269, -0.17785294353961945, 0.45620012283325195, 0.6246041059494019, -0.028172742575407028, -0.15074488520622253, -0.09819889813661575, -0.45689094066619873, -0.14320993423461914, 0.3948909342288971, -0.030986709520220757, 0.6836438179016113, 0.1992381066083908, 0.07586107403039932, 0.33220961689949036, -0.06705419719219208, -0.1777094453573227, 0.1795770227909088, 0.21912112832069397, 0.27731388807296753, -0.15341825783252716, 0.4392716586589813, 0.5995329022407532, -0.725426971912384, -0.00718076853081584, -0.2540535628795624, 0.26220205426216125, -0.06451985985040665, -0.4507741630077362, -0.18039369583129883, 0.4139558970928192, 0.5828828811645508, -0.11032627522945404, 0.23179829120635986, -0.30284082889556885, 0.09429706633090973, 0.13066279888153076, -0.26705867052078247, 0.3094462752342224, 0.3385790288448334, 0.059539634734392166, 0.2861131429672241, -0.2726239860057831, 0.038615837693214417, 0.3925948441028595, 0.06769216805696487, -0.2541038393974304, 0.7599829435348511, 0.4551921784877777, 0.285550057888031, 0.09553428739309311, -0.7664713859558105, -0.12114490568637848, -0.40251585841178894, 0.12751388549804688, -0.04144825041294098, -0.6241052150726318, 0.14454519748687744, 0.5981873273849487, -0.07036799937486649, 0.12444504350423813, 0.01957808993756771, -0.22459664940834045, -0.04106554388999939, 0.4758201837539673, 0.1048574298620224, -0.058062341064214706, 0.08385420590639114, -0.3729513883590698, 0.7488531470298767, -0.7074902653694153, 0.06665969640016556, 0.05714995786547661, -0.6652534008026123, -0.5081472396850586, -0.019966447725892067, 0.18178381025791168, -0.5976789593696594, 0.09063302725553513, 0.20000919699668884, -0.5171591639518738, -0.38804614543914795, -0.3340910077095032, -0.7928782105445862, 0.09377358108758926, 0.054489005357027054, 0.46675390005111694, -0.14435341954231262, -0.2826897203922272, 0.37870946526527405, 0.26156312227249146, 0.8038136959075928, -0.6115400195121765, -0.20649071037769318, 0.24457894265651703, -0.22092753648757935, 0.2920704483985901, -0.2328239381313324, 0.4108666181564331, 0.2889004349708557, 0.1310388594865799, 0.0935182198882103, 0.4183897078037262, -0.2998542785644531, -0.09598850458860397, -0.9504886269569397, -0.3860439658164978, 0.236058309674263, 0.3593582510948181, 0.08194250613451004, 0.22199305891990662, 0.45757535099983215, 0.375601202249527, -0.09116099774837494, 0.5767471790313721, 0.10855484008789062, -0.9821354746818542, 0.9151530265808105, -0.16703958809375763, 0.16123896837234497, -0.14395053684711456, 0.1971692591905594, 0.1439427137374878, -0.20266377925872803, -0.7324907183647156, -0.6076985001564026, -0.625895619392395, -0.04488339647650719, -0.23652492463588715, 0.345630407333374, -0.09931731969118118, -0.35277438163757324, 0.19356319308280945, -0.022280307486653328, 0.24573318660259247, -0.19513848423957825, 0.16631053388118744, -0.4819459319114685, -0.31595444679260254, -0.05795051530003548, -0.010037471540272236, 0.5241457223892212, -0.1728024035692215, -0.11031042784452438, 0.2508993148803711, -0.21435151994228363, -0.23994676768779755, 0.542780339717865, 0.2838893234729767, 0.5855898857116699, 0.2588440179824829, 0.36208078265190125, 0.13362739980220795, -0.08509977161884308, 0.3715204894542694, -0.09441911429166794, 0.34867992997169495, -0.40408870577812195, 0.2227429300546646, -0.6387649774551392, -0.006130571477115154, 0.17846985161304474, 0.5063931345939636, 0.4222371578216553, 0.08781048655509949, 0.003550418186932802, 0.7538971304893494, -0.5320095419883728, -0.0669785588979721, -0.06297627836465836, 0.6652621030807495, -0.17358896136283875, -0.43219053745269775, 0.046470269560813904, 0.12256738543510437, -0.22331762313842773, -0.5585110187530518, 0.08989240974187851, 0.03527571260929108, 0.24218952655792236, 0.5468059778213501, 0.1072557270526886, 0.5611830949783325, -0.6773239970207214, -0.015334215946495533, -0.3812398910522461, -0.016736039891839027, -0.13788190484046936, -0.053445588797330856, 0.16173584759235382, 0.02366507425904274, -0.04046039283275604, -0.01950039342045784, 0.29474273324012756, 0.1989872008562088, -0.046780187636613846, -0.083070769906044, 0.24380707740783691, -0.009142703376710415, -0.07249666750431061, -0.03304365649819374, 0.20946304500102997, 0.3034358024597168, 0.2201271802186966, 0.18473364412784576, 0.20744867622852325, -0.30025407671928406, 0.5007519721984863, 0.31783127784729004, -0.11914186924695969, -0.30955103039741516, 0.6175137758255005, -0.6961393356323242, -0.07550527900457382, -0.0758873000741005, -0.4126424193382263, 0.03730021044611931, -0.7234547138214111, -0.4721381366252899, 0.05246245861053467, 0.1818019300699234, -0.4992646872997284, 0.06393887847661972, -0.09718358516693115, 0.30147677659988403, 0.1820579171180725, -0.543429434299469, -0.3016587793827057, 0.20340193808078766, -0.40558159351348877, -0.38486185669898987, -0.22252772748470306, -0.015283124521374702, -0.09001529961824417, -8.443304061889648, 0.20911285281181335, 0.08271095901727676, 0.05554825812578201, -0.0700073093175888, -0.048128437250852585, -0.047993533313274384, -0.3824014365673065, -0.1023881807923317, -0.04167409986257553, 0.6289236545562744, -0.1272854208946228, 0.5308176279067993, -0.4826379120349884, -0.5564348101615906, 0.11680933833122253, -0.22057664394378662, 0.6419944167137146, -0.5371713638305664, -0.4351622760295868, 0.8253580331802368, -0.04871785268187523, 0.38059109449386597, 0.23085224628448486, 0.18263065814971924, 0.3179580271244049, -0.07516724616289139, 0.2850988507270813, 0.5099888443946838, 0.20374533534049988, -0.04387490823864937, 0.1590556800365448, -0.7094825506210327, -0.0314737968146801, -0.31253403425216675, 0.09388314932584763, 0.5944942831993103, -0.5242229104042053, 0.3417808711528778, -0.41012153029441833, 0.3623310923576355, 0.29584014415740967, 0.053814567625522614, 0.4605131149291992, 0.5267986059188843, -0.029332103207707405, 0.30497661232948303, -0.0707935243844986, 0.01982657052576542, 0.5654703378677368, 0.6076995134353638, 0.2584249973297119, -0.0771513357758522, -0.17657646536827087, -0.624235987663269, 0.16214026510715485, -0.0692048892378807, 0.3485129177570343, -0.08159398287534714, -0.10003744065761566, -0.6471038460731506, -0.2594641447067261, -0.21340054273605347, 0.34917572140693665, -0.11065299808979034, 0.09140054136514664, -0.01783652789890766, -0.4460601806640625, -0.04654931649565697, -0.14644357562065125, -0.5075448155403137, -0.4924170672893524, 0.26479166746139526, -0.052494343370199203, -0.06721483916044235, -1.0434845685958862, -0.08367881178855896, 0.30219706892967224, -0.3130662739276886, 0.3851315677165985, -0.512909471988678, 0.7708765268325806, 0.27529579401016235, 0.02720743976533413, -0.35990893840789795, 0.04701019823551178, -0.23595274984836578, 0.33088961243629456, -0.19308419525623322, -0.0728432685136795, 0.13313964009284973, 0.039690665900707245, -0.18691881000995636, 0.17851513624191284, -0.1643340289592743, 0.44177743792533875, -0.15741677582263947, -0.7199199199676514, -0.46156957745552063, 0.1835567057132721, -0.45982807874679565, -0.43280982971191406, 0.10659181326627731, 0.14299285411834717, -0.3276098370552063, -0.10852225124835968, 0.037667226046323776, -0.4852098524570465, 0.17122521996498108, 0.21620617806911469, -0.12092061340808868, 0.6375727653503418, 0.18976354598999023, 0.06779563426971436, -0.09370195865631104, -0.15141253173351288, 0.4922170639038086, -0.46639832854270935, 0.32308754324913025, -0.416483610868454, -0.047610312700271606, -0.23251782357692719, 0.1654253751039505, 0.11326618492603302, -0.20883147418498993, -0.404982328414917, -0.39958298206329346, -0.2087816596031189, 0.5775293111801147, -0.025932351127266884, 0.9162702560424805, -0.2937820255756378, -0.08608891069889069, 0.6520412564277649, -0.798328161239624, -0.18361228704452515, -0.2157849371433258, 0.7024264335632324, 0.4801810383796692, -0.13000066578388214, -0.31674450635910034, -0.08786453306674957, 0.45668286085128784, -0.43551331758499146, -0.2396191507577896, -0.17461057007312775, -0.2237049639225006, -0.26023244857788086, 0.48313772678375244, -0.5962764024734497, -0.6243517994880676, -0.09051132202148438, 0.5925652980804443, 0.2541257441043854, 0.3779166638851166, -0.025481300428509712, 0.18018470704555511, 0.3872132897377014, 0.2098548412322998, -0.355614572763443, 0.18386384844779968, 0.15787547826766968, 0.5717425346374512, -0.06991060078144073, 0.07834061980247498, 0.6464532613754272, 0.06546420603990555, -0.23887601494789124, 0.2512645721435547, -0.09813188761472702, 0.3293733298778534, -0.20080016553401947, 0.4406477212905884, 0.08946338295936584, 0.3783334493637085, -0.4267880618572235, 0.3407179117202759, 0.35841938853263855, -0.03612969443202019, 0.3530479669570923, -0.10444403439760208, 0.520732581615448, -0.030608825385570526, -0.6623319387435913, -0.5543609261512756, 0.4565833508968353, 0.26356345415115356, -0.10267602652311325, 0.30560001730918884, 0.12426967918872833, 0.7294607162475586, 0.06140770763158798, -0.11970684677362442, 0.46828505396842957, 0.49090614914894104, 0.4400199055671692, 0.13081802427768707, 0.25839006900787354, -0.06946144998073578, -0.30215024948120117, -0.7915610074996948, -0.030398953706026077, 0.18210101127624512, -0.3900505006313324, -0.32082974910736084, -0.04070992022752762, -0.1835162192583084, 0.04112054780125618, 0.15546764433383942, 0.3037300407886505, 0.2900504171848297]\n",
            "Token 7: [-0.17936153709888458, -0.35131776332855225, 0.03414732590317726, 0.09537412971258163, 0.21112455427646637, 0.1432088017463684, 0.2895393371582031, 0.38140636682510376, 0.31913015246391296, 0.028806820511817932, 0.3361845314502716, 0.5062760710716248, -0.49707865715026855, 0.7247523665428162, -0.9546754360198975, -0.7732861638069153, -0.40308502316474915, -0.12207397818565369, 0.10757666081190109, -0.26594483852386475, -0.24138809740543365, -0.12432099878787994, -0.43772196769714355, -0.00446615694090724, -0.08880879729986191, -0.6109398007392883, -0.5297448635101318, 0.5154317021369934, 0.1019115075469017, 0.16024060547351837, -0.3841513693332672, 0.10950805991888046, -0.1953205168247223, -0.016899192705750465, 0.12648285925388336, 0.08813057094812393, 0.6367338299751282, 0.9907169938087463, -0.14632992446422577, 0.41825807094573975, 0.23888841271400452, 0.24585162103176117, 0.001530192676000297, -0.10766612738370895, 0.3480454981327057, -0.4091275632381439, -0.42196884751319885, -0.3219415545463562, -0.251716285943985, 0.5475947260856628, -0.09427329152822495, 0.4993410110473633, -0.2852977216243744, -0.17377318441867828, -0.6194900870323181, -0.39142388105392456, 0.18577489256858826, -0.20275859534740448, 0.31943434476852417, 0.3652178645133972, -0.19384336471557617, 0.26895347237586975, -0.15562903881072998, 0.38402819633483887, 0.07159615308046341, -0.05450182780623436, 0.19975461065769196, -0.5743666887283325, 0.3961971402168274, -0.28521665930747986, -0.6700844764709473, -0.18985825777053833, 0.05685645714402199, -0.3961687982082367, -0.1242075189948082, -0.17138250172138214, 0.34269365668296814, 0.3639766275882721, -0.0502144955098629, -0.3720896244049072, 0.7038549780845642, 0.7677015066146851, 0.6949096918106079, 1.1110198497772217, 0.30584099888801575, 0.38483288884162903, -0.6084523797035217, 0.5385468006134033, 0.6082741618156433, 0.48720282316207886, -0.5775471925735474, -0.2644159197807312, 0.8634281158447266, -0.09793252497911453, 0.45236167311668396, -0.12083956599235535, -0.6607572436332703, 0.10500454157590866, -1.3369258642196655, 0.2537229359149933, 0.3388737142086029, 0.28839510679244995, -0.3562929928302765, 0.0029391564894467592, -0.08324377983808517, -0.18093529343605042, -0.28054389357566833, -1.113617181777954, -0.15621529519557953, 0.38802796602249146, 0.03749794140458107, -0.06261561810970306, 0.6418254971504211, 0.20293115079402924, -0.1646358221769333, -0.6874117255210876, -0.10620889812707901, -0.19028927385807037, 0.2037840485572815, 0.01915399543941021, 0.27806204557418823, -0.07277964055538177, -0.06265538185834885, -0.28860002756118774, -0.09236542880535126, -0.19590319693088531, -0.5069657564163208, 0.1893395036458969, 0.48258280754089355, 0.17954349517822266, -0.5314295887947083, 0.15221263468265533, -0.29870736598968506, 0.3453277051448822, -0.4617287218570709, -0.320700466632843, -0.46699661016464233, 0.18101154267787933, -1.2826447486877441, -0.24728411436080933, -0.012481237761676311, 0.521055281162262, 0.4251008629798889, -0.7698624730110168, 0.7146176099777222, -0.02309602126479149, -0.008851930499076843, -0.012368354015052319, 0.05008191615343094, 0.37618547677993774, -0.5284184217453003, 0.7510961294174194, 0.7280621528625488, -0.4105253517627716, 0.5690619349479675, -0.5337664484977722, -0.45793789625167847, -0.06050259992480278, 0.6108986139297485, -0.04397286847233772, 0.16025017201900482, -0.3505445122718811, 0.25560736656188965, 0.5486766695976257, 0.0949186310172081, 0.2903458774089813, 0.20297673344612122, 0.33783191442489624, 0.2588846683502197, -0.08477876335382462, -0.049014121294021606, -0.1863643079996109, 0.4481521546840668, 0.635168731212616, 0.1830756813287735, 0.16618502140045166, 0.4779978096485138, -0.4207122027873993, -0.21072818338871002, -0.07665343582630157, 0.18225674331188202, -0.6587406396865845, -0.016009274870157242, -1.6111125946044922, 0.3773639500141144, 0.25473228096961975, -0.4605984091758728, 0.014318397268652916, 0.6079411506652832, -0.17635488510131836, 0.5728124976158142, -0.30481985211372375, -0.059947431087493896, 0.16909530758857727, -0.21706916391849518, 0.14988739788532257, -0.1331733763217926, 0.263639360666275, 0.605937659740448, 0.029538273811340332, -0.03695646673440933, 0.0016948890406638384, -0.6708237528800964, 0.6992200613021851, -0.033830683678388596, -0.40534910559654236, -0.6237189173698425, 0.20345841348171234, -0.2767714858055115, -0.4451158344745636, -0.30209991335868835, 0.1343696266412735, 0.13281917572021484, -0.06438305974006653, -0.646468997001648, 0.24488310515880585, -0.147853285074234, -0.7023839950561523, 0.5331487655639648, 0.4759172201156616, -0.13328248262405396, 0.4621571898460388, -0.10795232653617859, -0.13180488348007202, 0.029572466388344765, 0.10372170805931091, -0.030683742836117744, -0.002305448753759265, 0.4534423351287842, 0.13116756081581116, 0.3107118010520935, 0.16930310428142548, -0.4172930419445038, -0.11709064245223999, 0.5028303861618042, -0.4969225525856018, -0.8815382719039917, 0.12190061807632446, -0.819526731967926, 0.16020794212818146, -0.2980373203754425, -0.039379317313432693, 0.3417600691318512, 0.5861632823944092, 0.36833620071411133, -0.008609977550804615, -0.344744473695755, 0.500394880771637, 0.5990875959396362, 0.12161317467689514, -0.04362374544143677, -0.5012918710708618, -0.0938524454832077, 0.5350276827812195, 0.7121907472610474, 0.890981912612915, 0.15254537761211395, 0.41075944900512695, 0.1804950088262558, 0.6984459161758423, -0.19622333347797394, 0.16785795986652374, -0.34458667039871216, 0.09634974598884583, -0.6316155195236206, -0.34579354524612427, -0.15947118401527405, -0.43451112508773804, 0.19640383124351501, 0.0776272565126419, 0.8254799246788025, -0.4263491630554199, 1.2023646831512451, 0.6848433017730713, -0.017467981204390526, 0.3315012753009796, 0.5569463968276978, -0.6618668437004089, 0.07624135911464691, -0.24453504383563995, 0.6443172097206116, 0.8413568735122681, 0.35960713028907776, 0.5400294661521912, -0.6160868406295776, -0.051348306238651276, -0.25752532482147217, 0.5069722533226013, -0.23108963668346405, 0.08405423909425735, -0.8368258476257324, 0.6922758221626282, -0.4215705096721649, -0.11193245649337769, -0.19870518147945404, -0.06505686044692993, -0.8570619225502014, 0.49242526292800903, 0.041958171874284744, 0.30784398317337036, 0.47213032841682434, 0.2794870436191559, 0.0315399095416069, 0.05398290231823921, -0.05475226789712906, -0.1340278685092926, 0.20860427618026733, -0.256214439868927, 0.5848021507263184, 0.23617425560951233, 0.2686604857444763, 0.27363523840904236, -0.31338149309158325, 0.08397690206766129, -0.047680433839559555, -0.08758015185594559, 0.19278571009635925, -0.09818844497203827, -0.34757912158966064, -0.7127779722213745, 0.10365892201662064, 0.4153313636779785, -0.39317482709884644, -0.19243401288986206, -0.03005821816623211, 0.6472698450088501, 0.5839464068412781, 0.3745875358581543, -0.09454506635665894, -0.13823840022087097, -0.3114222288131714, -0.6596295833587646, 0.17441610991954803, -0.14954446256160736, 0.08144932985305786, -0.054360177367925644, 0.005699913017451763, 0.28984394669532776, -0.4257148206233978, 0.0300452783703804, 0.13682028651237488, 0.6531117558479309, 0.356920450925827, -0.49759018421173096, 0.7220910787582397, 0.31727147102355957, -0.14403031766414642, -0.11659254133701324, -0.10870988667011261, -0.16833943128585815, -0.13335926830768585, -0.4814207851886749, -0.3620666265487671, 0.2712942361831665, 0.9096062779426575, 0.4139053523540497, 0.13367682695388794, -0.2140890657901764, 0.16950152814388275, 0.5061333775520325, -0.015167740173637867, 0.23710809648036957, 0.06176741048693657, 0.09523973613977432, 0.11013565212488174, -0.8793963193893433, -0.04020551219582558, -0.20568183064460754, -0.059862297028303146, 0.10528060793876648, 0.8444762825965881, 0.8600518703460693, 0.37725135684013367, -0.15550777316093445, -0.22706221044063568, -0.05367105454206467, -0.6464064121246338, 0.019299525767564774, -0.04644864797592163, -0.35211852192878723, 0.0023902913089841604, 0.6550201773643494, -0.26826906204223633, 0.04897095263004303, -0.02678442932665348, -0.40291887521743774, -0.33762460947036743, 0.6238455772399902, 0.15271581709384918, 0.08197343349456787, 0.571553111076355, -0.46995285153388977, 0.407830148935318, -0.40711700916290283, 0.10667861998081207, -0.08838574588298798, -0.24909605085849762, 0.11892588436603546, -0.20755882561206818, 0.6250512003898621, -0.41632747650146484, -0.23332063853740692, -0.07565044611692429, -0.6675737500190735, -0.7213519215583801, -0.19615735113620758, -0.8057575821876526, -0.7632042169570923, 0.13339190185070038, 0.34996411204338074, 0.02772570215165615, -0.15995879471302032, 0.002242826158180833, 0.4490865468978882, 0.05690711736679077, -0.6768217086791992, -0.0015063649043440819, 0.05617993324995041, -0.01750452071428299, 0.5526430010795593, 0.21790143847465515, 0.3162441551685333, 0.26549771428108215, 0.3483852446079254, 0.253357470035553, 0.3113483786582947, 0.22932009398937225, -0.2814268469810486, -0.2221508026123047, 0.19524385035037994, 0.4458678662776947, 0.7158417701721191, -0.25056424736976624, 0.7221352458000183, 0.19081637263298035, 0.21864044666290283, -0.43420693278312683, 0.8210623860359192, 0.32496753334999084, -0.7650723457336426, 0.4563760459423065, 0.11624404042959213, -0.08740949630737305, -0.33780014514923096, 0.02349865809082985, -0.0026400936767458916, 0.6495460271835327, -0.3528349697589874, -0.8232018947601318, -0.8163607120513916, -0.03477258235216141, 0.02409478835761547, 0.07141993194818497, -0.28238752484321594, -0.4686086177825928, -0.48955920338630676, 0.14804627001285553, -0.2762131094932556, -0.2714773118495941, 0.22248445451259613, -0.7747941017150879, -0.2429446429014206, -0.38448086380958557, 0.6925655603408813, 0.3683938980102539, -0.36619338393211365, -0.23899944126605988, 0.3652278482913971, -0.4253299832344055, 0.020058268681168556, 0.2499547302722931, -0.01685456372797489, 0.5012398958206177, 0.09141676872968674, 0.27978840470314026, -0.4337661862373352, 0.18715988099575043, 0.47395914793014526, 0.3292551040649414, -0.14991414546966553, -0.6809582710266113, 0.467580646276474, -0.6200883388519287, -0.33619457483291626, 0.27975574135780334, 0.4094915986061096, 0.3522884249687195, 0.1607808619737625, -0.16920214891433716, 0.7425877451896667, -0.2582363188266754, 0.33818379044532776, -0.0724954605102539, 0.6664853692054749, -0.22116337716579437, -0.485163152217865, -0.17450295388698578, -0.22877934575080872, 0.17633187770843506, -0.7041921615600586, 0.011282192543148994, -0.7980536222457886, -0.5754231214523315, 0.6020147204399109, 0.23115123808383942, 0.599629819393158, -0.4914536774158478, -0.17219430208206177, -0.05899282917380333, -0.059293780475854874, -0.18309594690799713, -0.3222002387046814, 0.2332095503807068, 0.028934961184859276, -0.21866557002067566, -0.5103867650032043, 0.29830142855644226, 0.6689513325691223, 0.12305447459220886, 0.24077117443084717, 0.12804490327835083, -0.07141042500734329, -0.7760718464851379, 0.22106611728668213, 0.1729481965303421, 0.131821408867836, 0.2754457890987396, 0.3991442024707794, -0.10136228054761887, -0.14572587609291077, 0.5981065630912781, 0.35365283489227295, -0.23230531811714172, -0.35814690589904785, 0.21483822166919708, -0.5848190784454346, -0.1913759708404541, 0.49703943729400635, 0.23602992296218872, 0.4001085162162781, -0.7628617882728577, -0.45864367485046387, 0.6583003997802734, 0.03245531767606735, -0.22625188529491425, 0.42431941628456116, -0.04357176646590233, 0.36174553632736206, -0.14919152855873108, 0.21840441226959229, -0.1294468194246292, -0.058387454599142075, -0.1183866560459137, -0.4337794780731201, -0.14628271758556366, 0.22271108627319336, -0.4075736999511719, -8.169792175292969, 0.44410547614097595, 0.3029317557811737, -0.2906399071216583, 0.26651591062545776, -0.11228560656309128, 0.2198895663022995, -0.5857732892036438, 0.15445545315742493, 0.052293479442596436, 0.002993502886965871, -0.33759647607803345, 0.848721981048584, -0.5434834361076355, -0.39412155747413635, -0.1976567804813385, 0.13694261014461517, 0.02970306947827339, -0.5424191355705261, -0.3952385187149048, 0.4451044797897339, 0.4887674152851105, -0.04584471136331558, 0.3511691391468048, -0.046150092035532, -0.06024151295423508, -0.04183873161673546, 0.16331088542938232, -0.043242018669843674, -0.05054021626710892, -0.28319844603538513, 0.4010895788669586, -0.3222385346889496, -0.13498273491859436, -0.4635540843009949, -0.1451035887002945, 0.39358294010162354, -0.5484828352928162, 0.4881981909275055, -0.22040465474128723, 0.044471245259046555, 0.15741726756095886, -0.13283567130565643, 0.1633036583662033, 0.22470539808273315, -0.335760235786438, -0.14748883247375488, -0.5782659649848938, -0.3913814127445221, 0.277595192193985, 0.4425477385520935, 0.3000624179840088, -0.12198503315448761, 0.33840054273605347, -0.6814996004104614, 0.576890230178833, 0.13980723917484283, 0.22370734810829163, 0.5852450132369995, -0.277404248714447, -0.3457949459552765, -0.02840660698711872, 0.2990844249725342, -0.00027404402499087155, -0.4795442819595337, 0.48978719115257263, -0.36708563566207886, -0.42471209168434143, 0.24112476408481598, 0.27265098690986633, 0.02337544411420822, -0.8825837969779968, 0.6768765449523926, -0.7774243950843811, 0.10902821272611618, -0.7387678027153015, -0.22857697308063507, 0.7498478889465332, -0.2870270907878876, 0.4920473098754883, -0.05170217156410217, 0.7572077512741089, -0.11224712431430817, 0.06278937309980392, -0.21008048951625824, -0.3789270520210266, -0.27257779240608215, -0.059663958847522736, 0.146758571267128, -0.32364559173583984, -0.11077959835529327, 0.2988935708999634, -0.08912093192338943, 0.005080696661025286, -0.6613055467605591, 0.3307449221611023, -0.2229752540588379, 0.14009197056293488, -0.5236272811889648, 0.2716924548149109, -0.46887311339378357, 0.09212572872638702, -0.3265884220600128, -0.14288771152496338, -0.43521857261657715, -0.11332111805677414, -0.29000192880630493, -0.9579207301139832, 0.42023319005966187, 0.45858943462371826, -0.3644614815711975, 0.14892634749412537, -0.20552372932434082, 0.618058443069458, -0.4061810374259949, 0.19193993508815765, 0.6079276204109192, -0.34953099489212036, -0.2423696666955948, -0.4903744161128998, -0.45384836196899414, 0.061019379645586014, -0.002371405716985464, 0.16741064190864563, 0.16275472939014435, 0.4427582323551178, -0.4080985486507416, 0.2677774429321289, 0.12303977459669113, 0.02918877638876438, 0.7372608184814453, -0.09375223517417908, -0.6155678629875183, -0.1462067812681198, -0.5589066743850708, -0.37076491117477417, -0.23590996861457825, 0.08754497766494751, 0.8195808529853821, -0.5953159928321838, -0.7543001770973206, 0.3476336598396301, 0.7770606875419617, 0.2884591817855835, -0.34580114483833313, -0.3025384843349457, -0.018903587013483047, 0.19501210749149323, 0.4221527874469757, -0.11751203238964081, -0.6028667688369751, -0.28504690527915955, 0.2942095398902893, 0.6002520322799683, -0.035782936960458755, 0.4546149671077728, -0.03766414895653725, 0.666598916053772, 0.4120126962661743, -0.28330740332603455, -0.2628931403160095, 0.1360034942626953, -0.21600927412509918, -0.6833170652389526, -0.25968030095100403, 0.6755201816558838, 0.12047023326158524, -0.19321893155574799, 0.18645550310611725, 0.21513298153877258, 0.2532249689102173, 0.15985418856143951, 0.5005687475204468, 0.07982567697763443, -0.05305396765470505, -0.6345803737640381, -0.2836872935295105, -0.022936977446079254, -0.04213351011276245, 0.1299869269132614, 0.18192535638809204, 0.6408833861351013, -0.10039824992418289, -0.3973988890647888, -0.47414183616638184, 0.1329696774482727, 0.1022428646683693, -0.09207380563020706, -0.019321070984005928, -0.06188857555389404, 0.7403340935707092, 0.24699129164218903, -0.23683057725429535, 0.3672464191913605, 0.16784608364105225, 0.4771153926849365, -0.3388739824295044, 0.49867865443229675, 0.16712768375873566, -0.2249060571193695, -0.571072518825531, 0.4840408265590668, 0.33460405468940735, -0.4986600875854492, -0.6172761917114258, 0.18349024653434753, 0.20490896701812744, -0.17474204301834106, 0.3616311848163605, -0.05655558034777641, 0.3697820007801056]\n",
            "Token 8: [0.43059536814689636, -0.18561482429504395, 0.49550649523735046, -0.1012958213686943, -0.23925912380218506, -0.3030545115470886, -0.36901333928108215, 0.25107792019844055, 0.7384496927261353, -0.1754310131072998, 0.05885942280292511, 0.10767024010419846, -0.6369438767433167, 0.4848977029323578, -0.7377480864524841, -1.0942758321762085, -0.2858469486236572, 0.35851985216140747, 0.289076030254364, 0.16679324209690094, -0.30435892939567566, -0.5319783687591553, -0.5270364880561829, -0.1485520899295807, -0.3584316670894623, -0.5127007961273193, 0.24664975702762604, 0.3166828751564026, 0.08140396326780319, 0.17484070360660553, -0.2384406328201294, 0.08697844296693802, 0.026806067675352097, 0.2993934750556946, -0.27699407935142517, -0.02505553513765335, -0.10503347218036652, 0.7179279327392578, -0.1428254395723343, 0.4992773234844208, 0.1961645931005478, 0.47656869888305664, -0.40905484557151794, 0.16695643961429596, 0.21417155861854553, -0.10011596977710724, -0.1560344249010086, -0.6227296590805054, -0.5998131632804871, 0.6145422458648682, 0.14880432188510895, 0.4513215720653534, -0.33829525113105774, 0.43429774045944214, -0.14029201865196228, -0.548144519329071, 0.06601348519325256, -0.10515198111534119, 0.22130019962787628, 0.3893662691116333, -0.1451449692249298, 0.3267019987106323, -0.10077137500047684, 0.5236992239952087, 0.0001918179914355278, 0.3081294596195221, -0.20040901005268097, -0.5688543915748596, 0.4743267595767975, -0.23671725392341614, -0.04040643945336342, -0.5872613191604614, 0.40696609020233154, 0.07557433843612671, 0.06412969529628754, 0.24493123590946198, 0.07055920362472534, -0.0999268889427185, -0.1815883368253708, -0.09324762970209122, 0.24972185492515564, 1.0354970693588257, -0.008827266283333302, 0.9961862564086914, 0.6617189049720764, 0.2632666826248169, -0.4534394145011902, 0.47284188866615295, 0.5545307397842407, 0.39522412419319153, -0.2811848521232605, 0.0981282889842987, 0.5750828981399536, -0.01633082889020443, -0.0719335600733757, 0.3391498625278473, -0.9726628065109253, -0.19381535053253174, -1.0670077800750732, -0.5485023856163025, 0.6226405501365662, 0.14396098256111145, 0.09616931527853012, 0.271025687456131, 0.06262976676225662, -0.30907559394836426, -0.6155987977981567, -0.7461337447166443, -0.36582452058792114, 0.27887776494026184, 0.26354730129241943, -0.27310770750045776, 0.9093808531761169, 0.1140371710062027, 0.0558025985956192, -0.692355215549469, 0.3529374301433563, 0.015437928028404713, 0.713838517665863, -0.31814977526664734, 0.30272376537323, 0.13334396481513977, 0.1288057118654251, 0.15643972158432007, -0.01120514702051878, -0.14128004014492035, -0.18213056027889252, -0.2532733976840973, -0.009418167173862457, 0.10951852053403854, -0.36184537410736084, 0.11426018178462982, 0.24690786004066467, -0.006542612798511982, 0.08307934552431107, -0.06729605048894882, -0.8583928346633911, -0.1960684359073639, -1.4814203977584839, -0.8791726231575012, -0.8359624147415161, 0.36563774943351746, 1.0150375366210938, -0.5437060594558716, 0.7631109356880188, -0.6868255138397217, -0.33277300000190735, -0.4179469347000122, -0.3368968367576599, 0.21974124014377594, 0.21010154485702515, 0.40047487616539, 0.6575739979743958, -0.4464738368988037, 0.16741254925727844, -0.496364951133728, -0.5628916621208191, -0.16265815496444702, 0.23525585234165192, 0.28044968843460083, 0.504734456539154, -0.31644052267074585, 0.2374674677848816, 0.13500739634037018, 0.120162732899189, 0.33518117666244507, -0.036197151988744736, 0.052769843488931656, 0.005506375338882208, -0.30673837661743164, 0.00012333449558354914, -0.108562171459198, 0.19468607008457184, 0.4111863970756531, -0.2151332050561905, 0.4853183925151825, 0.15223966538906097, -0.32973870635032654, 0.2141185700893402, -0.5513364672660828, -0.3398357331752777, -0.18012270331382751, 0.20407207310199738, -1.2096153497695923, 0.3217569589614868, 0.6544002294540405, -0.5982378721237183, 0.1131371334195137, 0.1863708794116974, 0.2596041262149811, 0.2647741436958313, -0.2678758502006531, -0.05953042954206467, 0.027467163279652596, -0.14933592081069946, 0.012166365049779415, -0.0027620051987469196, 0.3683644235134125, 0.1544957309961319, -0.2513483464717865, 0.2156832367181778, -0.2753855288028717, -0.059791263192892075, 0.5914465188980103, 0.014243320561945438, -0.3366101384162903, -0.10965505242347717, 0.19922110438346863, 0.07186019420623779, -0.5377040505409241, -0.7714609503746033, 0.08657564222812653, 0.03112991526722908, 0.5338118672370911, -0.33518168330192566, 0.04626696556806564, -0.6600396037101746, -0.260595440864563, 0.11379309743642807, 0.18697373569011688, -0.21127010881900787, 0.2425571084022522, 0.4301682412624359, 0.038077324628829956, -0.06961970776319504, 0.1381813883781433, 0.47272878885269165, -0.16316008567810059, 0.6352031230926514, 0.29125046730041504, -0.12181909382343292, 0.65777188539505, 0.3405090868473053, 0.06688817590475082, 0.6097385883331299, -0.6779267191886902, -0.5909796357154846, -0.6137598156929016, -0.8469251990318298, 0.04784500598907471, -0.021778542548418045, -0.27769699692726135, 0.09950067102909088, 0.24875685572624207, 0.5104999542236328, -0.06662759929895401, -0.10735749453306198, 0.6878319382667542, -0.03079150803387165, -0.20295435190200806, -0.31440794467926025, -0.18658842146396637, -0.006090844050049782, 0.30800801515579224, -0.2620450258255005, 0.5052006840705872, -0.13529929518699646, 0.15726077556610107, -0.3387089967727661, 1.2726688385009766, -0.05991276726126671, -0.13254868984222412, -0.5639139413833618, -0.3347136080265045, -0.3947327435016632, -0.018208617344498634, -0.3904465138912201, -0.36151865124702454, 0.006109892390668392, 0.19399525225162506, 0.0393710732460022, 0.10265941917896271, 1.0637540817260742, 0.4896373152732849, 0.6499297022819519, 0.14627262949943542, -0.16320441663265228, -0.49666205048561096, 0.23082000017166138, -0.20326203107833862, 0.3958682715892792, 1.317763328552246, -0.05857551470398903, -0.1558452546596527, -0.7557945847511292, -0.10660997033119202, -0.003837211988866329, 0.22016607224941254, -0.13941708207130432, -0.06938868016004562, -0.8840166330337524, 0.10007224977016449, -0.3698250949382782, -0.31659960746765137, 0.03244419023394585, -0.0007043170626275241, -0.609286904335022, 0.25048500299453735, -0.13711844384670258, -0.09077594429254532, 0.4204200506210327, -0.18976399302482605, 0.09563054144382477, 0.07889125496149063, 0.1937829554080963, 0.06421313434839249, -0.16029222309589386, 0.38205865025520325, 0.09807854145765305, 0.6465520262718201, 0.33063551783561707, 0.47718188166618347, -0.6047118306159973, 0.046721938997507095, 0.5092493295669556, -0.017892679199576378, 0.19666796922683716, -0.17081734538078308, -0.11934753507375717, -0.44795098900794983, -0.008339997380971909, 0.06497298181056976, -0.14387302100658417, 0.3364872336387634, 0.08839403837919235, 0.3648075759410858, 0.6184462308883667, -0.501628041267395, -0.09868425130844116, -0.6267954707145691, -0.22816826403141022, -0.20089666545391083, 0.18293353915214539, -0.12146209180355072, 0.46966058015823364, 0.7291986346244812, 0.2854452431201935, 0.43821418285369873, -0.6230936050415039, 0.37548577785491943, 0.2036181092262268, 0.7879166007041931, 0.1925063580274582, -0.1038716733455658, 0.0569278821349144, 0.09518755972385406, -0.14295057952404022, -0.0700933113694191, -0.3238493502140045, -0.2612417936325073, -0.012259460054337978, -0.1949460506439209, -0.34906917810440063, 0.21280185878276825, 0.5071476697921753, 0.4106888175010681, -0.1891448199748993, -0.3575863540172577, 0.4852578341960907, 0.25346553325653076, -0.42257028818130493, 0.10106366127729416, 0.23824664950370789, -0.4521828889846802, -0.27306580543518066, -0.40201157331466675, -0.08686874061822891, 1.026628017425537, 0.3770323097705841, 0.038352325558662415, 0.5818795561790466, 0.25536975264549255, 0.18706020712852478, -0.07964657992124557, -0.3027094900608063, -0.005586958024650812, -0.7311493754386902, -0.05275847762823105, -0.18731361627578735, -0.09041128307580948, -0.04047774150967598, 0.6713393926620483, -0.1631890833377838, 0.15476834774017334, 0.20960836112499237, -0.3106260597705841, -0.142828568816185, 0.4246014654636383, -0.008619317784905434, 0.11988963931798935, -0.06183386594057083, -0.38901883363723755, 0.1637692004442215, 0.23245030641555786, -0.22155272960662842, -0.5389194488525391, -0.32351598143577576, -0.012901289388537407, 0.5553333759307861, 0.5061704516410828, -0.39683836698532104, -0.21265903115272522, -0.05800409987568855, -0.6441130638122559, -0.559616208076477, -0.1354205161333084, -0.31357574462890625, 0.12456592917442322, 0.12141866236925125, -0.029275255277752876, 0.05602390691637993, -0.610296368598938, 0.08679119497537613, 0.38688555359840393, 0.324396014213562, -0.5432496666908264, -0.05453002452850342, -0.5719953775405884, 0.10225266218185425, 0.3796682059764862, 0.17230920493602753, 0.5660871863365173, -0.005928436294198036, -0.10441117733716965, 0.6329336166381836, 0.6038208603858948, 0.33324459195137024, 0.1950732171535492, -0.22636885941028595, -0.2060897797346115, 0.08733200281858444, 0.3233683109283447, 0.13840633630752563, 1.0283405780792236, 0.05873841047286987, -0.4440520405769348, -0.3093510568141937, 0.5479551553726196, 0.5172829627990723, -0.9116616249084473, 0.6286532878875732, -0.07496225833892822, -0.33549585938453674, -0.6297944784164429, 0.28010934591293335, 0.210299551486969, 0.6831791400909424, 0.038370028138160706, -0.38310447335243225, -0.6044759750366211, 0.2845730483531952, 0.02324490062892437, -0.062182921916246414, -0.24143393337726593, -0.5781747698783875, -0.3341280221939087, 0.08586582541465759, -0.08574085682630539, 0.0796801745891571, 0.011740442365407944, -0.6255455613136292, -0.2545744776725769, -0.3131362497806549, 0.11793331056833267, 0.4755764603614807, -0.15280155837535858, -0.04799840599298477, -0.13920150697231293, -0.2446945756673813, -0.24514858424663544, 0.5466299057006836, 0.13003657758235931, 0.5982331037521362, 0.6992197036743164, 0.08190011233091354, -0.2779424488544464, 0.06159166619181633, 0.13558702170848846, 0.5616353750228882, -0.09192536026239395, -0.2349400818347931, 0.1161031648516655, -0.03643075376749039, -0.7839186191558838, 0.5515730381011963, 0.005041933618485928, 0.28457823395729065, 0.296779990196228, 0.22624127566814423, 0.5216224789619446, -0.5713407397270203, 0.2925426959991455, -0.13400979340076447, 0.6451476216316223, 0.15561354160308838, -0.7285313010215759, -0.3873153626918793, 0.029538946226239204, -0.0038967090658843517, -0.3487838804721832, 0.018335465341806412, -0.22718678414821625, -0.36295416951179504, 0.3563254177570343, 0.10900720208883286, 0.617061197757721, -0.2766939103603363, -0.45085254311561584, 0.30393168330192566, -0.23414112627506256, -0.36150455474853516, -0.04762553423643112, 0.12267062813043594, 0.2648739516735077, 0.17053695023059845, -0.16688720881938934, 0.7893843054771423, -0.17280590534210205, -0.34301280975341797, 0.15642109513282776, 0.08621448278427124, 0.08735722303390503, -0.46205687522888184, -0.19165684282779694, 0.3385142385959625, -0.31199419498443604, 0.7405449151992798, 0.013817506842315197, -0.3893052637577057, -0.5494895577430725, 0.4050758183002472, 0.44412147998809814, 0.001567209605127573, -0.20837882161140442, 0.1700218766927719, -0.23018202185630798, -0.17910313606262207, 0.40148141980171204, -0.0013627923326566815, 0.4797641634941101, -0.5602447390556335, -0.2515020966529846, 0.6046510934829712, 0.07079441845417023, -0.49522852897644043, -0.02956700511276722, -0.21686406433582306, 0.3919956684112549, 0.4770590662956238, 0.17406708002090454, -0.12973184883594513, 0.018173757940530777, -0.8040106296539307, 0.5860444903373718, -0.0719226822257042, 0.5775853395462036, -0.0856577679514885, -8.265898704528809, 0.27112892270088196, 0.08487461507320404, 0.02067716419696808, 0.04665398225188255, 0.09270618855953217, 0.35871562361717224, -0.5777102708816528, 0.2802866995334625, -0.20610862970352173, 0.1978575885295868, -0.22542732954025269, 0.3874562978744507, -0.4674217998981476, -0.07944861799478531, -0.43443262577056885, 0.08317364752292633, 0.07072212547063828, -0.3284401595592499, 0.006159659009426832, 0.08094920963048935, 0.6376323103904724, 0.4590311050415039, 0.7389546036720276, 0.7751743793487549, -0.1671467274427414, -0.0021423520520329475, 0.031866081058979034, -0.2180342674255371, -0.4095346927642822, 0.521654486656189, 0.20265959203243256, -0.223063126206398, -0.4842994213104248, -0.3285941481590271, -0.5001868605613708, -0.0010164263658225536, 0.15789669752120972, 0.4590277075767517, -0.12909136712551117, -0.06347327679395676, 0.3113546371459961, -0.7017298340797424, 0.27863162755966187, 0.2134011685848236, 4.6809465857222676e-05, -0.08664300292730331, 0.5018683075904846, 0.10918114334344864, 0.3120573163032532, 0.3937576711177826, 0.5971903800964355, -0.10224620252847672, -0.064885213971138, -0.4525182843208313, 0.0798012837767601, -0.2262197732925415, 0.8022210597991943, -0.028475824743509293, -0.31857991218566895, -0.06567550450563431, -0.16526992619037628, -0.05179339274764061, -0.2112472504377365, -0.10078728199005127, 0.40085917711257935, -0.5887808799743652, 0.007084168028086424, 0.0933755487203598, 0.9016048312187195, -0.38360777497291565, -0.609639585018158, 0.5481035113334656, -0.5024036169052124, 0.14242900907993317, -0.1616661250591278, -0.47351905703544617, 0.14011995494365692, -0.7262939214706421, 0.5800612568855286, -0.6645089387893677, 0.8972237706184387, 0.34772706031799316, -0.333309531211853, 0.08579513430595398, -0.17382647097110748, -0.39593762159347534, -0.036719080060720444, 0.2292376309633255, -0.48792099952697754, 0.03077062778174877, 0.5534272789955139, 0.2437978982925415, 0.22113114595413208, -0.562594473361969, 0.37752822041511536, 0.004346145316958427, -0.03247784078121185, -0.4035216271877289, 0.31549277901649475, -0.3934679627418518, 0.5938412547111511, -0.20696909725666046, -0.04269580915570259, -0.2726534605026245, -0.25229594111442566, -0.38255536556243896, -0.6490891575813293, -0.16653864085674286, 0.5268257856369019, 0.04420199617743492, 0.06881620734930038, -0.4744908809661865, 0.2350832223892212, -0.1558607667684555, 0.23284851014614105, 0.4359561800956726, -0.19803637266159058, 0.06269849836826324, -0.39396098256111145, -0.07242479175329208, -0.4343581199645996, -0.2795690596103668, -0.017632946372032166, -0.13126619160175323, 0.38908642530441284, -0.47152623534202576, 0.4595508575439453, 0.30703672766685486, -0.1369970589876175, 0.14669860899448395, -0.08965089917182922, -0.4890683591365814, -0.023586060851812363, -0.3201630115509033, -0.11604597419500351, -0.42895209789276123, 0.06206655129790306, 0.3790523111820221, -0.5256256461143494, -1.0744438171386719, 0.7180506587028503, 0.214577779173851, 0.34380006790161133, -0.304976224899292, 0.07926870882511139, -0.10365531593561172, -0.0289821308106184, 0.4521968364715576, -0.013658956624567509, -0.7605379819869995, -0.16075356304645538, -0.15284866094589233, -0.10887005180120468, -0.312463641166687, 0.021312609314918518, 0.2736526131629944, 1.3615671396255493, 0.7300511002540588, -0.3054147958755493, -0.41591590642929077, 0.4435500502586365, -0.42433422803878784, -0.8621665835380554, 0.08313686400651932, 0.35966089367866516, 0.09297095984220505, -0.21565786004066467, 0.16668963432312012, 0.5150378346443176, 0.6682404279708862, -0.0627002939581871, 0.14008136093616486, -0.03509533405303955, 0.02342487871646881, 0.13454964756965637, 0.15926618874073029, -0.09222718328237534, 0.5066859126091003, -0.3070790469646454, 0.5378676652908325, 0.4111451804637909, 0.5497028231620789, -0.3418327271938324, -0.11250672489404678, 0.12610432505607605, 0.2214595228433609, 0.06889036297798157, -0.2006104290485382, 0.05981772020459175, 0.6462923884391785, 0.17163608968257904, -0.17271463572978973, 0.4962731897830963, 0.2545802593231201, 0.17297697067260742, -0.24821209907531738, -0.12782186269760132, 0.0064912233501672745, -0.014457494020462036, -0.7197346091270447, 0.03368345648050308, 0.09676503390073776, -0.11290331929922104, -0.28296786546707153, -0.019706597551703453, -0.3355425000190735, -0.12497904151678085, 0.11627775430679321, -0.14076048135757446, 0.02482977882027626]\n",
            "Token 9: [0.04820721223950386, -0.3217078447341919, -0.003934815060347319, 0.14537085592746735, 0.15281735360622406, -0.38174331188201904, -0.2676287889480591, 0.6765373349189758, 0.769860029220581, -0.04865288734436035, 0.46085089445114136, 0.42480507493019104, -0.4812248945236206, 0.9755135178565979, -0.5465314388275146, -1.0905351638793945, -0.4579983651638031, 0.008601674810051918, 0.24324241280555725, 0.009279286488890648, 0.0359179712831974, -0.3849657475948334, -0.2221662700176239, -0.3269539773464203, -0.30156901478767395, -0.6244322061538696, -0.025042010471224785, 0.8949186205863953, -0.24228298664093018, -0.1284908652305603, -0.619502067565918, 0.0979219302535057, 0.03893344849348068, 0.30062437057495117, 0.14262232184410095, -0.10659320652484894, 0.2885231375694275, 1.0113730430603027, -0.26319655776023865, 0.32289326190948486, 0.7792600393295288, 0.41331416368484497, -0.7445327043533325, -0.06228886544704437, 0.6228821277618408, -0.342720091342926, -0.6319748163223267, 0.42607948184013367, -0.6886828541755676, 0.5700321197509766, 0.206895649433136, 0.6531821489334106, -0.37328311800956726, 0.4348294138908386, -0.3919866681098938, -0.404880553483963, 0.3492601811885834, 0.12577193975448608, 0.26418760418891907, 0.1938953548669815, 0.23541031777858734, -0.20186913013458252, 0.3542007505893707, 0.4907861351966858, -0.03514466434717178, -0.4304494857788086, 0.21700988709926605, -0.6883494853973389, -0.1429058462381363, -0.5852963924407959, -0.7539530992507935, -0.22916845977306366, 0.05278633534908295, -0.3584079444408417, -0.05047937110066414, -0.14865370094776154, 0.7140215635299683, 0.32481542229652405, -0.3737032115459442, -0.6930711269378662, 0.6070868968963623, 0.6708080768585205, 0.40360018610954285, 1.0157427787780762, 0.6352245211601257, 0.6116909384727478, -0.5485708713531494, -0.035355519503355026, 0.4548003375530243, 0.9275245666503906, -0.60427325963974, 0.005359780974686146, 0.8843868374824524, -0.051541928201913834, 0.07093284279108047, -0.04095759242773056, -0.8129575848579407, 0.4583902955055237, -1.3446565866470337, 0.2962218225002289, 0.1970718652009964, 0.17028895020484924, -0.008455337956547737, 0.3515257239341736, 0.12263363599777222, -0.16209740936756134, -0.22739388048648834, -1.060542345046997, 0.06124464049935341, 0.22559411823749542, 0.27827414870262146, -0.325719952583313, 0.7292876243591309, 0.22538284957408905, 0.13089612126350403, -0.1695898026227951, 0.2167344093322754, -0.29016590118408203, 0.38703855872154236, 0.5695868730545044, 0.08790190517902374, 0.2643020451068878, -0.04075318202376366, -0.033188678324222565, -0.4209615886211395, -0.0033363469410687685, -0.577892541885376, 0.1259826272726059, -0.02205554023385048, 0.2616974413394928, -0.5103777050971985, -0.4520324468612671, -0.20905755460262299, 0.6141520142555237, 0.5564832091331482, -0.0584246851503849, -1.2689238786697388, -0.1269567459821701, -1.5728285312652588, -0.5056145191192627, -0.3237537741661072, 0.3565000593662262, 1.1166322231292725, -0.5556681752204895, 0.7847542762756348, -0.5364236831665039, 0.13939455151557922, -0.734747588634491, -0.7276957035064697, 0.02212788350880146, 0.034886181354522705, 0.2682088315486908, 0.5158607363700867, -1.0210603475570679, 0.22376924753189087, -0.6274083256721497, -0.5365775227546692, -0.3640780746936798, 0.48626595735549927, 0.07926872372627258, 0.26273787021636963, -0.6545047163963318, 0.5244243144989014, 0.28584837913513184, -0.15397973358631134, 0.20626167953014374, -0.19916881620883942, 0.18708765506744385, -0.1804003119468689, -0.24484285712242126, 0.20028328895568848, 0.05272175744175911, 0.1867193579673767, -0.298825740814209, 0.23773236572742462, 0.4328455328941345, 0.8389549255371094, -0.15994130074977875, -0.21364720165729523, -0.2540668845176697, 0.21844445168972015, -0.3709004521369934, -0.23790311813354492, -0.9339081048965454, 0.23907437920570374, 0.5631408095359802, -0.6920233964920044, 0.04609369486570358, 0.5321186780929565, -0.15537096560001373, 0.28764915466308594, -0.2284536063671112, -0.16857784986495972, 0.07933076471090317, -0.3572708070278168, 0.18759508430957794, 0.21499909460544586, 0.7551750540733337, -0.015344416722655296, 0.2505496144294739, -0.2599864602088928, -0.2587457299232483, -0.4358746111392975, 0.2930490970611572, -0.4940921664237976, -0.7318788170814514, -0.6086683869361877, 0.7639132738113403, -0.2829979658126831, -0.7248790264129639, 0.01705845445394516, 0.08606084436178207, 0.08413156121969223, 0.4252297282218933, -0.6312081813812256, -0.12510693073272705, -0.33393213152885437, -0.7598291635513306, 0.5097197890281677, 0.4789751470088959, 0.13075917959213257, -0.006689089350402355, -0.023785773664712906, -0.001187183428555727, -0.19911311566829681, 0.4457744359970093, 0.7074044942855835, -0.39879176020622253, 0.2883601188659668, 0.3161954879760742, 0.27244219183921814, 0.6931887865066528, -0.5338053107261658, -0.09877847880125046, 0.31749528646469116, -0.1917106807231903, -0.24718329310417175, -0.1485825777053833, -0.7830107808113098, 0.2893042266368866, -0.15850311517715454, -0.25431349873542786, -0.04134206473827362, 0.6422798037528992, -0.006296002771705389, -0.23224647343158722, 0.103954017162323, 0.6645498275756836, 0.25079089403152466, 0.08676664531230927, -0.5131672620773315, -0.504091203212738, -0.03139348328113556, 0.6640542149543762, 0.49230948090553284, 0.8591700196266174, -0.40225133299827576, 0.7270668148994446, 0.14305025339126587, 0.930569052696228, -0.2959446609020233, 0.47903159260749817, -0.29332178831100464, -0.07476387917995453, -0.45459526777267456, -0.2430802881717682, -0.05868607386946678, -0.04101385176181793, 0.2548411786556244, 0.23502017557621002, 0.20930492877960205, 0.02870800904929638, 1.168966293334961, 0.4988514482975006, -0.033301763236522675, 0.4441414475440979, 0.17438501119613647, -0.736724317073822, -0.03461585193872452, -0.2732217311859131, 0.40291908383369446, 0.629679799079895, -0.02044055052101612, 0.4493374228477478, -0.2944134473800659, 0.46788355708122253, -0.19259610772132874, 0.3314233720302582, 0.12870904803276062, 0.12652575969696045, -0.5820268988609314, 0.3336050510406494, -0.6009583473205566, 0.009987901896238327, 0.14635445177555084, -0.32900092005729675, -0.6117333173751831, 0.18763048946857452, -0.45722419023513794, 0.62855464220047, 0.19689451158046722, -0.1729401797056198, -0.035788003355264664, 0.07340124994516373, 0.38716498017311096, -0.025858351960778236, -0.04621662199497223, 0.25625091791152954, 0.2039341926574707, 0.37151670455932617, 0.5631291270256042, 0.5006764531135559, 0.1708056628704071, -0.25077685713768005, 0.029157238081097603, 0.09602542966604233, 0.46038442850112915, -0.11784008145332336, -0.08439576625823975, -0.908879280090332, 0.1075446754693985, 0.47310516238212585, -0.24317628145217896, 0.13677804172039032, 0.48822295665740967, 0.5637094378471375, 0.3433832824230194, 0.12207582592964172, 0.16181078553199768, -0.49893778562545776, -0.3645888566970825, -0.4565568268299103, -0.2290271520614624, 0.14847786724567413, 0.1726403385400772, 0.030730554834008217, 0.09282232820987701, -0.03833923861384392, 0.07334437221288681, -0.03197261318564415, 0.5176913738250732, 0.6955907344818115, 0.7761846780776978, -0.06969401240348816, 0.07660134136676788, 0.4807889461517334, -0.3765506148338318, 0.05701156705617905, -0.2534882128238678, -0.3954262137413025, 0.21978028118610382, -0.5145571827888489, -0.5157974362373352, -0.022809570655226707, 0.7368484139442444, 0.12130340188741684, -0.12555807828903198, -0.21670176088809967, 0.2925543487071991, -0.07801615446805954, -0.5600273609161377, -0.21183720231056213, 0.19782723486423492, -0.11960157752037048, 0.20143777132034302, -0.2062535434961319, 0.36667728424072266, 0.7058663368225098, -0.1565036028623581, -0.23235970735549927, 0.6591379642486572, 0.9302752614021301, 0.4295077621936798, -0.4518810510635376, -0.24596384167671204, -0.20162881910800934, -0.6805110573768616, -0.10193722695112228, 0.1496480405330658, -0.3848857581615448, 0.07699886709451675, 0.6841278076171875, -0.1822797954082489, 0.20698566734790802, 0.18873107433319092, -0.6680406332015991, -0.05486205965280533, 0.3855683207511902, -0.07203500717878342, 0.12107522040605545, -0.057580966502428055, -0.2870064377784729, -0.048930127173662186, -0.19438783824443817, 0.23533597588539124, -0.33550548553466797, -0.3692183196544647, -0.15901339054107666, 0.2785780727863312, 0.19661012291908264, -0.8635637760162354, -0.2524988651275635, 0.013757889159023762, -1.0242383480072021, -0.012197703123092651, -0.27042916417121887, -1.104339599609375, -0.657499372959137, 0.2768095135688782, 0.2737082839012146, -0.14524789154529572, -0.008731495589017868, 0.17886461317539215, 0.8839033842086792, 0.34735044836997986, -1.0008044242858887, -0.058813001960515976, -0.37006086111068726, 0.5501502156257629, 0.4255794286727905, -0.020678868517279625, 0.45431023836135864, 0.3567410707473755, 0.37473955750465393, 0.5548956394195557, 0.3937632143497467, 0.05694102868437767, -0.1851259022951126, -0.36455169320106506, 0.5425662994384766, 0.3151860237121582, 0.30012908577919006, -0.1538105010986328, 0.753158688545227, 0.0488993339240551, -0.3726693093776703, -0.28744736313819885, 0.771964430809021, -0.11559826135635376, -1.0378018617630005, 1.1562448740005493, -0.16941753029823303, 0.0832657665014267, -0.3805806338787079, 0.09191454946994781, 0.3035926818847656, 0.22578755021095276, -0.45087528228759766, -0.37974485754966736, -0.5414636135101318, 0.01124529354274273, 0.2524650990962982, 0.007487827911973, 0.14928756654262543, -0.42700138688087463, -0.6021007895469666, 0.2598990797996521, 0.2946104109287262, -0.21635547280311584, -0.05903089791536331, -0.7901037931442261, -0.06688901782035828, -0.16743189096450806, 0.4342266917228699, 0.04719707742333412, 0.09340474754571915, -0.17953214049339294, -0.10499241948127747, -0.6738215088844299, -0.14009350538253784, 0.3990674614906311, -0.33117273449897766, 1.1900622844696045, 0.0939708799123764, 0.9706932902336121, -0.5452322363853455, 0.24516645073890686, 0.6145551800727844, 0.20656508207321167, 0.2526422441005707, -0.5023245215415955, 0.2380027174949646, -0.23138593137264252, -0.19333691895008087, 0.4543376564979553, 0.6137545108795166, 0.48723697662353516, 0.3956780433654785, -0.11402525007724762, 1.071232795715332, -0.42524290084838867, 0.732056736946106, 0.07618439942598343, 0.47787177562713623, 0.12687639892101288, -1.108319878578186, -0.29084405303001404, -0.30876514315605164, 0.06349632889032364, -0.2290162295103073, -0.18019939959049225, -0.615118682384491, -0.5892031788825989, 0.23675033450126648, 0.08211995661258698, 0.48024266958236694, -0.18915194272994995, -0.4219191074371338, 0.060253046452999115, 0.03964293375611305, -0.010744363069534302, 0.0634024515748024, -0.3736118972301483, 0.06292130053043365, -0.06232169270515442, -0.3493826389312744, 0.4992917776107788, 0.21892619132995605, -0.007843389175832272, 0.040872275829315186, 0.23483221232891083, 0.13821236789226532, -0.8072325587272644, 0.6032410264015198, 0.09369227290153503, -0.27553826570510864, 0.7308365702629089, 0.42730048298835754, -0.0009942519245669246, -0.5607827305793762, 0.35426783561706543, 0.46761655807495117, 0.10371516644954681, -0.41412800550460815, 0.2565228044986725, -0.09747139364480972, 0.012613682076334953, 0.3539484739303589, 0.14403864741325378, 0.49678879976272583, -0.5587882995605469, -0.44213205575942993, 0.7760986685752869, 0.12789425253868103, -0.5239101648330688, 0.699608564376831, -0.23622769117355347, 0.5379730463027954, 0.03792943060398102, 0.2419072985649109, 0.16189154982566833, -0.47321945428848267, -0.2718006372451782, 0.26079148054122925, 0.14436060190200806, 0.9738964438438416, -0.6474982500076294, -7.87535285949707, 0.1357479691505432, -0.037879787385463715, -0.21715500950813293, 0.2561533749103546, -0.31771349906921387, 0.3821863532066345, 0.2767713665962219, 0.14380675554275513, 0.23752738535404205, 0.07047799974679947, -0.14342965185642242, 0.07882572710514069, -0.40529054403305054, -0.46589791774749756, -0.30473384261131287, -0.023655498400330544, 0.1892600655555725, -0.3144219219684601, -0.2762093245983124, -0.2069939225912094, 0.5396648645401001, 0.06955089420080185, 0.4008201062679291, 0.29716917872428894, -0.043073683977127075, 0.6635202169418335, -0.15622179210186005, -0.09996798634529114, -0.19554099440574646, -0.046539824455976486, 0.4545224606990814, -0.2448495328426361, -0.2652609646320343, -0.24794864654541016, -0.4078417420387268, 0.17976965010166168, -0.5385817289352417, 0.6214171648025513, 0.3259858191013336, -0.0825217068195343, 0.08503971993923187, -0.0513378381729126, -0.21767324209213257, 0.5905797481536865, -0.27089402079582214, -0.003557673655450344, -0.5538814067840576, -0.2533183693885803, 0.40653443336486816, 0.6941035985946655, 0.4426836669445038, -0.14156651496887207, -0.4640062153339386, -0.41448476910591125, 0.6282511949539185, -0.05815671756863594, 0.43495920300483704, 0.4038865268230438, -0.8448293805122375, -0.6832606792449951, -0.015615366399288177, -0.35584303736686707, -0.5777013897895813, 0.0019524137023836374, 0.44018352031707764, 0.03236686810851097, 0.060052067041397095, 0.210325688123703, 0.6364684700965881, -0.9915382862091064, -0.9176155924797058, 0.6023157238960266, -0.7115912437438965, 0.16028465330600739, -0.5972837209701538, -0.07804454118013382, 0.4046013653278351, -1.1077427864074707, 0.8254736661911011, -0.33127424120903015, 1.0141210556030273, 0.3975427448749542, -0.037359416484832764, 0.020350169390439987, -0.34547287225723267, -0.5178793668746948, 0.0813455656170845, -0.30017364025115967, -0.7920529246330261, -0.07180759310722351, -0.4112473428249359, 0.22102828323841095, -0.16339288651943207, -0.4273513853549957, 0.07597114145755768, -0.34955736994743347, -0.5395082235336304, -0.25764259696006775, 0.12506359815597534, -0.640461802482605, 0.17527247965335846, 0.0694621279835701, -0.21207381784915924, -0.41408172249794006, -0.3006522059440613, -0.09767711162567139, -0.5228819847106934, -0.2941914498806, 0.42630696296691895, 0.06780143082141876, 0.3770526349544525, -0.44642171263694763, -0.22004176676273346, 0.058017976582050323, -0.12648840248584747, 0.5971477031707764, -0.5031921863555908, 0.04562517628073692, -0.2723610997200012, 0.13524378836154938, -0.6369197368621826, -0.5619723796844482, -0.47700417041778564, -0.28236088156700134, 0.39679381251335144, -0.28247860074043274, 0.2439626306295395, 0.22612948715686798, -0.11922060698270798, 0.5174177885055542, -0.23309628665447235, -0.2642529010772705, -0.0118982819840312, -0.4045681059360504, 0.05100689083337784, -0.27202048897743225, 0.18966323137283325, 0.5145956873893738, -0.22731545567512512, -0.5637590289115906, 0.39083829522132874, 0.4251766800880432, 0.008112999610602856, -0.10381615906953812, -0.028868863359093666, 0.2420181930065155, -0.35838520526885986, 0.6200839281082153, -0.31757622957229614, -0.6583901643753052, -0.24400638043880463, -0.04243037477135658, 0.17138947546482086, 0.16458286345005035, -0.3562752306461334, 0.17858539521694183, 0.5173853635787964, -0.025765767320990562, -0.5640131831169128, -0.000565718044526875, 0.3661051094532013, -0.4413158595561981, -0.6479571461677551, -0.46437186002731323, 0.5751160383224487, 0.003391637932509184, -0.5275379419326782, 0.1154761090874672, 0.6296443343162537, 0.4502905607223511, -0.23052367568016052, 0.34077128767967224, 0.3630222678184509, -0.18400801718235016, -0.43094828724861145, 0.1656997799873352, -0.020062854513525963, 0.2452867031097412, 0.41081979870796204, 0.5133122801780701, 0.3864140808582306, 0.504217267036438, -0.47105202078819275, -0.4730480909347534, 0.18548546731472015, 0.2660205066204071, 0.29848936200141907, -0.04940859600901604, -0.11061091721057892, 0.671983540058136, 0.041995663195848465, 0.24176883697509766, 0.978488028049469, 0.3635292947292328, 0.4750724732875824, -0.46536514163017273, -0.03535555303096771, 0.2857968211174011, -0.4688025712966919, -0.3945583701133728, 0.19901104271411896, -0.08893656730651855, -0.7100757360458374, -0.6657006144523621, 0.2443082481622696, -0.37552714347839355, -0.4751998782157898, 0.6291747689247131, 0.29521816968917847, 0.3110857605934143]\n",
            "Token 10: [0.34966734051704407, -0.013384646736085415, 0.2187349945306778, -0.09789068251848221, -0.3376026451587677, -0.3642246723175049, -0.18338729441165924, 0.0003456923004705459, 0.36030343174934387, -0.2863611876964569, -0.2778102457523346, 0.29502519965171814, -0.10708195716142654, 0.01340652909129858, -0.3479839563369751, -0.4903731942176819, -0.103904128074646, -0.06476126611232758, 0.2598820626735687, -0.03841996192932129, -0.06819766759872437, -0.7874990701675415, -0.3067077696323395, -0.20011620223522186, 0.20883357524871826, -0.5816967487335205, 0.289964497089386, 0.7668427228927612, 0.12543709576129913, 0.45249029994010925, 0.0010008079698309302, -0.08470512926578522, 0.0679650604724884, 0.03417356312274933, 0.01322080846875906, 0.03383905440568924, 0.13349351286888123, 0.34308022260665894, -0.09972827881574631, 0.3625269830226898, 0.21387147903442383, -0.009601929225027561, -0.18322506546974182, 0.4064158499240875, -0.0816323384642601, -0.15529406070709229, -0.18336209654808044, 0.40481331944465637, -0.44723033905029297, 0.3992237448692322, 0.5756139159202576, -0.07394572347402573, -0.2770766615867615, 0.2864859104156494, -0.2462185174226761, -0.02910814806818962, -0.20883148908615112, 0.2933988571166992, 0.02483794279396534, -0.1508384644985199, -0.32017308473587036, -0.00211294274777174, -0.21140187978744507, 0.6172669529914856, 0.013355894014239311, 0.2909192740917206, 0.12180409580469131, 0.22615373134613037, 0.008578960783779621, -0.10069464892148972, -0.09741708636283875, -0.42467597126960754, -0.2936798930168152, -0.31748706102371216, -0.24931487441062927, -0.17732082307338715, 0.216230571269989, 0.3375208079814911, -0.047688186168670654, -0.20052237808704376, 0.5268316864967346, 0.8476038575172424, 0.17653512954711914, 0.08699416369199753, 0.2889210879802704, 0.17253868281841278, -0.35900160670280457, -0.3874753415584564, 0.501144528388977, 0.42890068888664246, -0.5138192176818848, -0.2690953016281128, 0.5897420644760132, -0.29634594917297363, 0.11227685958147049, -0.1633150428533554, -0.38317248225212097, -0.2644697427749634, -0.8680630922317505, -0.23366016149520874, 0.699829638004303, -0.18386641144752502, -0.1797601580619812, 0.03443435579538345, 0.349746435880661, -0.011147226206958294, 0.11496337503194809, -0.706417441368103, -0.281794935464859, -0.09747057408094406, 0.18943186104297638, -0.15589316189289093, 0.8826770186424255, -0.0021606343798339367, -0.3007117807865143, -0.2783747911453247, -0.02893851511180401, 0.0024812540505081415, 0.10401435196399689, -0.40497884154319763, 0.2919360399246216, -0.1504179984331131, 0.03023109771311283, -0.12036862969398499, -0.04377252981066704, -0.4662238657474518, -0.5603302121162415, 0.1276901811361313, -0.34997349977493286, 0.2606077492237091, 0.2761988341808319, 0.08525103330612183, -0.32172805070877075, 0.06254740804433823, 0.5452733039855957, -0.24345554411411285, -0.7305324673652649, -0.3132598400115967, -1.5132752656936646, -0.29349300265312195, -0.4492702782154083, -0.03345058858394623, 0.38578423857688904, -0.31361302733421326, 0.4811408817768097, 0.05440149083733559, 0.07542263716459274, -0.01138324849307537, -0.43809807300567627, 0.8651218414306641, -0.35969918966293335, -0.17028993368148804, 0.1858956664800644, -0.4436196982860565, -0.05696684867143631, -0.4904879331588745, -0.4387904703617096, 0.04237855225801468, 0.16893377900123596, -0.0514545738697052, 0.6090554594993591, -0.1903051882982254, -0.1816687434911728, -0.29479584097862244, 0.17175652086734772, 0.2123541533946991, -0.4006783962249756, 0.44827044010162354, 0.04811393469572067, -0.16221626102924347, 0.047132957726716995, 0.06709194928407669, 0.3194201588630676, 0.15431326627731323, 0.20333166420459747, 0.11220110207796097, 0.420803427696228, -0.05476658418774605, 0.40769484639167786, -0.21466444432735443, 0.16730250418186188, 0.0459582656621933, -0.02350403182208538, -0.7453900575637817, 0.8171026110649109, -0.10943040996789932, -0.14887216687202454, 0.27532416582107544, 0.3439682722091675, -0.48255112767219543, 0.43021461367607117, -0.24043726921081543, 0.018771089613437653, -0.03519498556852341, -0.16051019728183746, -0.09864740818738937, -0.0992259681224823, 0.1399606466293335, -0.054354626685380936, 0.21999002993106842, -0.14418433606624603, 0.15103742480278015, -0.09696344286203384, 0.5376699566841125, 0.037164803594350815, -0.13443593680858612, -0.14433257281780243, 0.7519462704658508, -0.1493636816740036, -0.5478220582008362, -0.23270125687122345, 0.027069153264164925, -0.26659661531448364, 0.2983725965023041, -0.3162587285041809, -0.31730639934539795, 0.10214711725711823, -0.5000548958778381, -0.23141658306121826, 0.14692550897598267, 0.49340230226516724, -0.1133490577340126, 0.5297561883926392, -0.38771235942840576, -0.5283174514770508, 0.11657792329788208, 0.3279821276664734, -0.5873027443885803, 0.10814570635557175, 0.2508964538574219, 0.44523191452026367, 0.024279983714222908, 0.08200790733098984, -0.18285194039344788, 0.4476773738861084, -0.5461146831512451, -0.32744747400283813, -0.08418922871351242, -0.41659075021743774, -0.5468599200248718, -0.04566583409905434, -0.07746868580579758, -0.09101638197898865, 0.39006489515304565, 0.010948613286018372, 0.23213019967079163, 0.0209119264036417, -0.06976065039634705, 0.3734130859375, -0.3855777680873871, -0.25262635946273804, -0.14747662842273712, 0.22570699453353882, 0.11123061180114746, 0.020740699023008347, 0.08059992641210556, -0.27518317103385925, 0.2230711579322815, 0.23347517848014832, -0.3486395478248596, 0.05922654643654823, 0.19585192203521729, 0.0015645348466932774, -0.07730770111083984, -0.6387045383453369, -0.3148276209831238, 0.1751158982515335, -0.4696808457374573, -0.15464907884597778, -0.27471670508384705, -0.010373295284807682, 0.13574829697608948, 1.0836052894592285, 0.2550171911716461, 0.2938501238822937, -0.14244601130485535, 0.3018011152744293, -0.2864629030227661, 0.32732662558555603, -0.026144681498408318, 0.2593260407447815, 0.03937876224517822, 0.3052806854248047, 0.5040748119354248, -0.29450517892837524, 0.5344458818435669, 0.2982552647590637, 0.6296747922897339, -0.474516898393631, -0.636066734790802, -0.3196626305580139, 0.21521665155887604, -0.07841452956199646, 0.1224943995475769, -0.029384879395365715, 0.06185381859540939, -0.15222854912281036, 0.04249439761042595, -0.3231213688850403, 0.4417498707771301, 0.3897179365158081, 0.12644918262958527, -0.019437730312347412, -0.43328657746315, 0.0971638485789299, -0.2146647423505783, -0.1769745945930481, 0.3045022785663605, -0.3338869512081146, 0.17225731909275055, 0.44244199991226196, -0.3283628225326538, -0.5130987167358398, -0.24502064287662506, -0.30403995513916016, -0.024285010993480682, 0.36344239115715027, 0.11644649505615234, -0.2888363003730774, 0.06389229744672775, -0.18206854164600372, 0.47115543484687805, 0.10820978879928589, 0.06226402521133423, 0.33028367161750793, 0.21136994659900665, 0.4468252658843994, 0.17276859283447266, -0.16660286486148834, -0.16377955675125122, -0.3040873408317566, 0.09539476782083511, -0.4876745939254761, 0.43475863337516785, -0.07151680439710617, 0.212008997797966, 0.0724620372056961, 0.4032243490219116, -0.6315826177597046, -0.06644630432128906, 0.20306093990802765, 0.6441085338592529, -0.34565025568008423, -0.18170392513275146, -0.15174464881420135, -0.007239488419145346, 0.12245863676071167, -0.16507035493850708, 0.12401800602674484, -0.27643465995788574, 0.24357368052005768, -0.5567861199378967, -0.24715232849121094, 0.1267366111278534, 0.34161579608917236, 0.4108350872993469, -0.013929326087236404, 0.14513525366783142, 0.08081653714179993, 0.32290953397750854, -0.20685119926929474, 0.019827058538794518, -0.359256386756897, -0.16797314584255219, 0.12756282091140747, -0.18065118789672852, -0.007332158740609884, 1.0213125944137573, -0.096136674284935, -0.34250253438949585, 0.3304276764392853, 0.6484975814819336, 0.12702931463718414, -0.32076728343963623, -0.22933244705200195, -0.23013408482074738, -0.23129020631313324, 0.29182684421539307, 0.4867658317089081, -0.13421055674552917, 0.27077412605285645, 0.15597428381443024, 0.4086257219314575, 0.04206031188368797, 0.21692734956741333, -0.2241612821817398, 0.1726844310760498, 0.0922827497124672, 0.18532344698905945, 0.15678563714027405, -0.3203226923942566, 0.2801142930984497, 0.540937602519989, -0.47464725375175476, 0.14019347727298737, -0.1771332174539566, -0.3016813099384308, 0.31508249044418335, 0.15641094744205475, -0.08758269250392914, -0.2885347306728363, -0.08399668335914612, 0.007191330660134554, -0.46469128131866455, 0.02066241391003132, -0.5327576994895935, -0.21960514783859253, -0.10284426808357239, 0.2909020483493805, 0.17386597394943237, -0.2234087437391281, 0.2741320729255676, -0.02210051752626896, 0.4393831491470337, 0.25588130950927734, -0.49046090245246887, -0.313914954662323, -0.3596264123916626, -0.004343213513493538, 0.07316973805427551, -0.24263451993465424, 0.39083588123321533, 0.49428948760032654, -0.17758691310882568, 0.4134265184402466, 0.07415471971035004, 0.24545104801654816, -0.08860843628644943, -0.3330548405647278, 0.12447827309370041, -0.0014057430671527982, 0.22755517065525055, 0.2565138339996338, 0.8972691893577576, 0.16822537779808044, -0.12157062441110611, -0.11363393813371658, 0.24855738878250122, -0.32747459411621094, -0.3047972321510315, 0.6287603974342346, 0.05514010041952133, -0.050078246742486954, 0.16498833894729614, -0.07912344485521317, 0.3822939097881317, 0.016019079834222794, -0.006932874675840139, 0.05009220913052559, -0.6294013261795044, -0.17574822902679443, -0.36139771342277527, -0.3048248291015625, 0.12357848882675171, 0.0963345319032669, -0.8708286285400391, -0.026427635923027992, 0.04507313668727875, 0.3862781524658203, 0.2475263923406601, -0.2899559736251831, 0.3606879711151123, 0.23703083395957947, 0.7988166809082031, 0.3580078184604645, 0.1241045743227005, 0.2556111514568329, 0.45833948254585266, -0.19459407031536102, -0.03181271627545357, 0.20747150480747223, 0.03483525291085243, 0.41651517152786255, 0.27875450253486633, 0.5993874669075012, -0.03803783282637596, 0.21206095814704895, 0.5014631152153015, 0.1796914041042328, 0.22693723440170288, -0.6840630769729614, 0.08292991667985916, -0.5763705372810364, 0.21808351576328278, 0.4103196859359741, 0.41727501153945923, -0.3770230710506439, -0.12595407664775848, -0.16423429548740387, 0.6247284412384033, -0.6027548909187317, 0.23852543532848358, -0.23422357439994812, 0.3698161840438843, -0.18842536211013794, -0.10103568434715271, 0.07987020909786224, 0.45600005984306335, -0.13866621255874634, -0.3963766396045685, -0.3690524101257324, -0.2804102599620819, 0.07353264838457108, 0.370362788438797, 0.05048416927456856, 0.6880925893783569, -0.11283129453659058, -0.47321799397468567, -0.09136206656694412, -0.04325316473841667, -0.029312584549188614, -0.2556493878364563, -0.28220251202583313, 0.2706228494644165, -0.31071317195892334, -0.09323456883430481, 0.15516521036624908, 0.03358501195907593, -0.1274869740009308, 0.09384232014417648, -0.18205048143863678, 0.08515152335166931, -0.16654618084430695, -0.09310627728700638, 0.33679306507110596, -0.1086416244506836, 0.08100179582834244, 0.4204784035682678, -0.2940492630004883, -0.4231741428375244, 0.18203380703926086, 0.48487362265586853, 0.08930369466543198, -0.5776880383491516, 0.39417797327041626, 0.04226911440491676, 0.08535824716091156, 0.07115479558706284, 0.10251419991254807, 0.33160480856895447, -0.20011408627033234, 0.41390520334243774, 0.12340664863586426, 0.1501612365245819, -0.2728440463542938, 0.17804092168807983, 0.09480390697717667, 0.25841617584228516, 0.18078909814357758, -0.2784625291824341, -0.2115827351808548, -0.16573373973369598, -0.173378586769104, 0.1957417130470276, 0.25740981101989746, 0.337911456823349, -0.1448013037443161, -8.81096076965332, -0.015163427218794823, -0.00990061741322279, -0.05028842017054558, -0.01929749734699726, -0.06510612368583679, 0.5950350761413574, -0.28026479482650757, 0.4059258997440338, 0.19170507788658142, -0.06497255712747574, 0.2587880790233612, -0.014925776049494743, -0.17486432194709778, -0.22655615210533142, 0.20489336550235748, 0.2880382537841797, 0.3557710647583008, -0.30475306510925293, -0.04814412072300911, 0.2069423943758011, 0.298607736825943, -0.3794441521167755, 0.21046531200408936, 0.15543311834335327, 0.24978426098823547, 0.3665432333946228, -0.12322931736707687, 0.10234971344470978, -0.42457982897758484, -0.007941479794681072, 0.19564524292945862, -0.1447525918483734, -0.3130761384963989, -0.2760150134563446, -0.4731631278991699, -0.030113983899354935, -0.6423385739326477, -0.1051994040608406, -0.10350117087364197, 0.22232449054718018, 0.16148759424686432, -0.03219714015722275, 0.10041604936122894, 0.40079841017723083, -0.40500402450561523, -0.06721536815166473, 0.5487853288650513, -0.3275947570800781, -0.1909044086933136, 0.4235037565231323, -0.15556161105632782, -0.1002146452665329, 0.13485004007816315, -0.32611122727394104, 0.2867007553577423, 0.23159590363502502, 0.2180715650320053, 0.2773306667804718, -0.11924144625663757, -0.17331714928150177, -0.1545913964509964, 0.09384306520223618, 0.09873316437005997, -0.1566775143146515, 0.20127536356449127, 0.8292793035507202, -0.23719139397144318, -0.5779052972793579, 0.1405782252550125, -0.5005360245704651, -0.542788028717041, 0.1564900279045105, -0.47276201844215393, 0.05091233178973198, -0.2923612594604492, 0.1518077552318573, -0.15615229308605194, -0.1865212470293045, 0.431395024061203, 0.03327532485127449, 0.1610507369041443, 0.5115796327590942, -0.21608255803585052, 0.06045122817158699, -0.1252162903547287, -0.31469854712486267, 0.15923984348773956, 0.03799959272146225, -0.16859033703804016, 0.40452271699905396, 0.3540809750556946, 0.10244274884462357, -0.03987185284495354, -0.17742961645126343, 0.28877896070480347, -0.04095524549484253, -0.6303473114967346, -0.14587721228599548, 0.098554827272892, -0.16247019171714783, 0.14140166342258453, 0.06855329126119614, -0.13301880657672882, 0.08961180597543716, -0.13996785879135132, -0.10589201003313065, -0.3565700650215149, -0.03281436860561371, 0.8944619297981262, 0.17438189685344696, -0.14204305410385132, -0.09544511139392853, 0.057748109102249146, 0.2620255649089813, 0.4393922984600067, 0.4569074809551239, -0.490790992975235, -0.007858783937990665, -0.19869248569011688, 0.31680700182914734, -0.3259504437446594, 0.2724835276603699, 0.12197946757078171, -0.20930726826190948, -0.042645882815122604, -0.37977346777915955, 0.20347383618354797, 0.2877940833568573, -0.42843112349510193, 0.2706172466278076, 0.21391665935516357, -0.33810827136039734, 0.36185696721076965, -0.34200337529182434, -0.0204616766422987, -0.3122499883174896, 0.4461064338684082, -0.040643613785505295, 0.018372071906924248, -1.073649287223816, 0.2379755675792694, 0.10598874092102051, -0.03127206861972809, 0.37077024579048157, -0.22557370364665985, -0.014622402377426624, -0.3659692704677582, -0.1934782713651657, -0.30526888370513916, -0.34839990735054016, 0.3199869990348816, 0.3949197828769684, 0.04876931756734848, 0.17324435710906982, -0.503237783908844, 0.009564648382365704, -0.43951740860939026, 0.07946450263261795, -0.2699469327926636, -0.09760338813066483, 0.05744266137480736, 0.10505396127700806, -0.5434684753417969, -0.09158547967672348, 0.2552982270717621, 0.026738332584500313, -0.21093310415744781, 0.17893464863300323, 0.32341209053993225, 0.3006719648838043, -0.29448869824409485, 0.2924622893333435, 0.12553097307682037, -0.03938700258731842, -0.06200611591339111, 0.15912358462810516, 0.3560129702091217, -0.05303031951189041, 0.5474527478218079, 0.20181351900100708, 0.04678913950920105, 0.4437117874622345, -0.004344374407082796, -0.4967305362224579, 0.10172803699970245, 0.4860594868659973, 0.050949349999427795, 0.2701319456100464, -0.0652632787823677, 0.5370259881019592, 0.022136393934488297, 0.360592246055603, 0.7501752972602844, 0.027988456189632416, 0.25422099232673645, -0.030286461114883423, 0.2285546511411667, 0.028567252680659294, -0.36341843008995056, -0.038827765733003616, 0.06201481819152832, -0.256961464881897, -0.021069342270493507, -0.46696627140045166, 0.14801906049251556, -0.5305474996566772, -0.13811513781547546, 0.20059548318386078, 0.26657557487487793, 0.28679460287094116]\n",
            "Token 11: [0.2671017348766327, -0.08829692751169205, -0.016895320266485214, 0.1900346279144287, 0.0035905763506889343, -0.2665891647338867, -0.12246385961771011, 0.06898154318332672, 0.13272970914840698, -0.25494515895843506, -0.32318148016929626, 0.11199460178613663, -0.7685898542404175, -0.1268042027950287, -0.735937774181366, -0.4421667158603668, 0.03828071057796478, -0.003833876922726631, 0.45089614391326904, -0.14120429754257202, -0.5289268493652344, -0.7514106631278992, -0.21168038249015808, -0.10478929430246353, -0.23722586035728455, -0.18931864202022552, 0.3163795471191406, 0.7095344066619873, 0.2639065980911255, 0.38266003131866455, 0.16069768369197845, -0.35839399695396423, 0.1814390867948532, 0.11971530318260193, -0.1177399605512619, 0.1460038274526596, -0.21738168597221375, 0.38742518424987793, -0.4182811975479126, 0.36793091893196106, 0.36872750520706177, -0.032659415155649185, 0.2258833795785904, -0.18867284059524536, 0.5316526293754578, -0.338674932718277, -0.07287028431892395, 0.34307003021240234, -0.5017299056053162, 0.1961982250213623, -0.1228904128074646, -0.34137335419654846, -0.2776866555213928, 0.7230587601661682, 0.06894761323928833, 0.0447935052216053, -0.1562601923942566, 0.004068664275109768, 0.18953761458396912, 0.060555167496204376, -0.6280634999275208, -0.1303342580795288, -0.1227172240614891, 0.7218692302703857, 0.19589067995548248, -0.17852899432182312, 0.26863422989845276, -0.16703535616397858, -0.026972221210598946, -0.029365025460720062, -0.36891570687294006, -0.45755794644355774, -0.24441608786582947, -0.2833106815814972, 0.08092022687196732, -0.049329973757267, 0.11393042653799057, -0.07293917238712311, 0.1971084326505661, 0.08040065318346024, 0.6795400381088257, 0.7964977622032166, 0.45574817061424255, 0.5892598628997803, 0.1720828264951706, 0.43210792541503906, -0.19425354897975922, 0.060498885810375214, 0.37482964992523193, 0.7177398204803467, -0.11275358498096466, -0.42968636751174927, 0.23307155072689056, -0.4186735153198242, 0.2457568198442459, -0.3388195335865021, -0.21352225542068481, -0.017277007922530174, -0.7173128724098206, -0.040181487798690796, 0.5549534559249878, -0.4663156270980835, 0.06886528432369232, 0.38108959794044495, 0.39431291818618774, -0.08753589540719986, -0.02917773276567459, -0.40976887941360474, -0.6459930539131165, -0.14179109036922455, 0.15375016629695892, -0.45660099387168884, 0.517816424369812, -0.08281394839286804, -0.12530407309532166, -0.2309359610080719, 0.1876508891582489, 0.02210957743227482, -0.12238361686468124, -0.042874809354543686, 0.6570515036582947, -0.3040526211261749, 0.21488139033317566, -0.02775506302714348, 0.3666209280490875, -0.17091359198093414, -0.3354879319667816, 0.17286913096904755, -0.4301603138446808, 0.46215125918388367, 0.04651860520243645, 0.349945068359375, -0.007625292055308819, 0.036184653639793396, 0.23267312347888947, -0.03439255431294441, -0.5690028071403503, -0.2264638990163803, -1.3960013389587402, -0.36786434054374695, -0.23154614865779877, 0.4863514006137848, 0.39509645104408264, -0.4098004400730133, 0.5126215219497681, 0.10155130922794342, 0.083735391497612, -0.07932046800851822, -0.2731480896472931, 0.7310289740562439, 0.226498544216156, 0.10406050086021423, 0.4532149136066437, -0.2732440233230591, -0.015678217634558678, -0.7608690857887268, -0.37500789761543274, 0.28985241055488586, 0.33026599884033203, -0.06749808043241501, 0.650234043598175, -0.08050861954689026, -0.03418587148189545, 0.008894665166735649, 0.18212482333183289, 0.22658808529376984, -0.050571259111166, 0.36737528443336487, -0.029507623985409737, 0.01815536990761757, 0.347504585981369, 0.04539833590388298, 0.024209046736359596, 0.45599767565727234, 0.10395926237106323, 0.3582454323768616, 0.23581993579864502, 0.006368374917656183, -0.12801134586334229, 0.00811789371073246, -0.04376543313264847, 0.29753491282463074, -0.10140255093574524, -0.35624462366104126, 0.8387393355369568, -0.036989279091358185, 0.018532969057559967, 0.18560859560966492, 0.1778491735458374, -0.4448804557323456, 0.0943852886557579, -0.3835802376270294, 0.35928913950920105, -0.031921904534101486, -0.12509337067604065, 0.17165063321590424, -0.24030917882919312, 0.0523533895611763, -0.19362249970436096, 0.44234198331832886, -0.256540983915329, -0.0579334981739521, -0.08632019907236099, 0.40552687644958496, 0.37677517533302307, -0.16263024508953094, 0.08086972683668137, 0.6671661734580994, 0.15180766582489014, 0.10575748980045319, 0.1372537910938263, -0.18050068616867065, -0.22263219952583313, 0.23723210394382477, 0.03309323638677597, -0.3888767957687378, -0.06308454275131226, -0.37941664457321167, -0.027570119127631187, -0.07364214211702347, 0.8471918106079102, 0.3729471266269684, 0.26191744208335876, 0.09761586785316467, -0.35040855407714844, 0.1258476972579956, 0.4918120503425598, -0.8677505850791931, 0.18411731719970703, -0.02462485432624817, 0.08784365653991699, -0.06416978687047958, -0.034252144396305084, -0.2541826069355011, 0.33895665407180786, -0.6492518782615662, -0.3389013111591339, -0.17575669288635254, -0.4815647304058075, -0.20993128418922424, -0.23597031831741333, -0.1229947879910469, -0.3455458879470825, 0.3204774260520935, -0.12286490201950073, 0.28570523858070374, 0.00990814995020628, 0.14590206742286682, 0.22288160026073456, -0.02819632925093174, -0.4920758008956909, 0.04866310581564903, 0.1235109195113182, 0.22383277118206024, 0.05876598134636879, 0.10361282527446747, -0.2646455764770508, 0.30375197529792786, -0.02446805126965046, 0.07180985808372498, 0.32918596267700195, 0.3592959940433502, 0.4300231337547302, -0.26463812589645386, -0.30881497263908386, -0.46977901458740234, -0.03735301271080971, -0.3458087742328644, 0.049068350344896317, -0.1489333063364029, 0.3904764950275421, -0.13761289417743683, 0.7991073727607727, 0.5153606534004211, 0.8556699156761169, -0.03297654539346695, 0.034392718225717545, -0.3026682734489441, 0.43230360746383667, -0.3944670557975769, -0.04132979363203049, 0.5912128686904907, -0.2262086570262909, 0.43577995896339417, -0.6549034118652344, 0.20725499093532562, 0.4975294768810272, 0.3122411370277405, -0.7019452452659607, -0.5788992047309875, -0.4405970871448517, 0.013233327306807041, -0.1191219910979271, 0.14233139157295227, 0.04054787755012512, -0.32683026790618896, -0.9484670758247375, 0.024487802758812904, -0.2485458105802536, 0.4379824697971344, 0.444012850522995, 0.28004372119903564, 0.07286613434553146, -0.05253099277615547, -0.10117308795452118, -0.24670514464378357, -0.051877085119485855, -0.0112580806016922, -0.42524299025535583, -0.3840898275375366, 0.5103806257247925, -0.46697577834129333, -0.35757920145988464, -0.15130901336669922, -0.17808902263641357, 0.3787115812301636, 0.14749068021774292, 0.11299950629472733, 0.01957032084465027, -0.5277730226516724, -0.1277337223291397, 0.1548287719488144, 0.0047270432114601135, 0.40569189190864563, 0.28304728865623474, 0.2635980248451233, 0.26696938276290894, -0.025299999862909317, -0.16504201292991638, -0.25903066992759705, -0.2696532905101776, -0.039297107607126236, 0.2791460454463959, 0.8014315366744995, -0.3425622284412384, 0.19306591153144836, 0.20427441596984863, 0.5301343202590942, -0.12777495384216309, 0.0733753964304924, 0.2279272973537445, 0.7344428300857544, -0.1774386316537857, -0.3681805729866028, -0.5083003640174866, -0.2320667803287506, 0.6803353428840637, -0.6950092911720276, 0.041756343096494675, -0.20174989104270935, 0.12666480243206024, -0.5248843431472778, -0.4236178398132324, -0.14581932127475739, 1.1136231422424316, 0.005509475711733103, 0.052991949021816254, -0.21517707407474518, 0.17212483286857605, 0.0765644833445549, -0.0769038051366806, -0.696129322052002, -0.41299521923065186, -0.41663140058517456, -0.007899737916886806, 0.26187431812286377, 0.21860544383525848, 0.5676848888397217, -0.021554328501224518, -0.23212924599647522, 0.47897791862487793, 0.04574153944849968, -0.09259204566478729, -0.2043292224407196, -0.054442331194877625, -0.3581858277320862, -0.32312044501304626, 0.2534782290458679, 0.23173944652080536, 0.056737322360277176, 0.30938223004341125, 0.23914062976837158, 0.18310485780239105, 0.011039855889976025, -0.023092830553650856, -0.28285595774650574, 0.011006922461092472, 0.35859420895576477, 0.17472070455551147, 0.15072688460350037, -0.37362104654312134, 0.25124138593673706, 0.5419266819953918, -0.08311536908149719, -0.019360708072781563, 0.08090870082378387, -0.494974285364151, 0.2635599374771118, 0.2599952518939972, 0.27575188875198364, -0.0464228130877018, -0.17527905106544495, -0.11816549301147461, -0.36436593532562256, 0.03021203726530075, -0.06908293813467026, -0.2283569574356079, -0.07335131615400314, 0.09507706761360168, 0.38432103395462036, -0.35942038893699646, 0.05427931621670723, -0.020288750529289246, -0.035196710377931595, 0.20553186535835266, -0.5829105973243713, -0.35085898637771606, -0.27518633008003235, 0.3268801271915436, -0.156284362077713, -0.4361291229724884, 0.8503596782684326, 0.5681573152542114, 0.09071888774633408, 0.16185975074768066, 0.351728230714798, 0.1367790251970291, 0.0625721886754036, -0.4016564190387726, 0.23450259864330292, -0.056638989597558975, 0.15817424654960632, 0.17229823768138885, 0.5425423383712769, 0.1289198100566864, -0.08499378710985184, 0.28044113516807556, 0.4297424256801605, -0.24360790848731995, -0.4464081823825836, 0.4629150629043579, 0.019708270207047462, 0.2860060930252075, -0.15911155939102173, -0.1793176680803299, 0.23666968941688538, -0.1318236142396927, 0.10306895524263382, -0.307373046875, -0.850537121295929, -0.18244105577468872, -0.27647507190704346, 0.25309082865715027, 0.0019235073123127222, 0.11279647052288055, -1.0147695541381836, -0.10646700859069824, 0.33671292662620544, 0.3797142803668976, 0.35062265396118164, -0.2612738609313965, 0.29164817929267883, 0.1390993893146515, 0.6361501812934875, 0.6904481649398804, -0.036670856177806854, 0.3865756690502167, 0.596439778804779, 0.1323079913854599, -0.11763094365596771, 0.00546686165034771, -0.38974595069885254, 0.7064026594161987, 0.35290271043777466, 0.385836660861969, -0.4186987578868866, -0.14602704346179962, 0.5227404832839966, 0.22464124858379364, -0.0726221427321434, -0.40215954184532166, 0.05009777843952179, -0.48596957325935364, 0.04780196771025658, 0.2542620599269867, 0.2544172406196594, -0.5469810962677002, -0.19755473732948303, -0.29378828406333923, 0.450351744890213, -0.3084786832332611, 0.26939260959625244, 0.1291743665933609, 0.41634392738342285, -0.531531572341919, -0.09916961193084717, -0.1684509813785553, 0.16022995114326477, -0.35404887795448303, -0.2844417691230774, -0.23724867403507233, -0.3203422427177429, -0.3275411128997803, 0.537689208984375, -0.2292952835559845, 0.576924204826355, -0.3824479281902313, -0.22033201158046722, -0.17887412011623383, -0.0609554760158062, -0.21563595533370972, -0.34320810437202454, -0.27485954761505127, -0.19693705439567566, -0.15352186560630798, 0.023369276896119118, -0.02568816766142845, 0.3095961809158325, -0.028788931667804718, -0.29076510667800903, 0.14663535356521606, 0.19792988896369934, -0.3447194993495941, -0.599108099937439, 0.06790858507156372, 0.17374460399150848, 0.06133636459708214, 0.37478941679000854, -0.3550518751144409, -0.3348202109336853, 0.13299795985221863, 0.04934193566441536, -0.05308758467435837, -0.44985121488571167, 0.7631391286849976, 0.07072165608406067, 0.11630674451589584, 0.03898128494620323, 0.25629284977912903, -0.23989182710647583, 0.022769292816519737, 0.0864110141992569, 0.12466441839933395, 0.26781895756721497, -0.3647102415561676, 0.4061676859855652, 0.04965030774474144, 0.19820478558540344, 0.25029200315475464, -0.23864705860614777, -0.4032006561756134, -0.18708808720111847, -1.0896340608596802, 0.21367333829402924, 0.2376498579978943, 0.20059490203857422, -0.21294574439525604, -8.746109008789062, 0.3302268087863922, -0.4223020374774933, -0.46320196986198425, 0.10730802267789841, 0.017107510939240456, 0.12606514990329742, -0.42405766248703003, 0.24273242056369781, 0.011613721959292889, 0.1503688395023346, -0.013929042965173721, 0.3864128291606903, 0.02806776762008667, -0.2410135418176651, 0.03776398301124573, 0.2975204288959503, -0.2330498844385147, -0.1860969364643097, 0.3826102912425995, -0.034559186547994614, 0.32058462500572205, -0.21970941126346588, 0.7045089602470398, 0.16137076914310455, -0.06407664716243744, 0.23102028667926788, -0.4916652739048004, 0.37962794303894043, -0.07767216116189957, -0.1604442149400711, 0.19182071089744568, -0.26764583587646484, -0.029348190873861313, -0.22998639941215515, -0.49247270822525024, -0.011292241513729095, -0.10057898610830307, 0.4926592707633972, -0.043876346200704575, 0.7371549606323242, -0.08961748331785202, 0.06806878745555878, 0.2303478717803955, 0.4003370404243469, -0.2060302346944809, -0.018878746777772903, 0.7148173451423645, 0.0008621576125733554, -0.03004341758787632, 0.4304150342941284, -0.12596328556537628, -0.7620542645454407, 0.15630003809928894, -0.17232437431812286, 0.08278025686740875, -0.3894866704940796, 0.2045849710702896, -0.0992070809006691, -0.16753391921520233, -0.4228252172470093, 0.08566801249980927, 0.18894550204277039, 0.152192160487175, -0.02236934006214142, 0.14730843901634216, -0.2368839979171753, -0.02282870188355446, -0.5015459656715393, 0.07582029700279236, -0.271306574344635, -0.31132733821868896, 0.22196176648139954, -0.24925518035888672, 0.06571516394615173, -0.32462021708488464, 0.08505692332983017, -0.17372985184192657, -0.19081221520900726, 0.4348485469818115, -0.5439545512199402, 0.06028474494814873, 0.4028613567352295, -0.11485613137483597, -0.16683651506900787, 0.4301789104938507, -0.061054475605487823, -0.08006245642900467, 0.023175345733761787, -0.4057512879371643, 0.14392180740833282, 0.12317454814910889, 0.1387767791748047, -0.0094743138179183, 0.03127897158265114, 0.08670543879270554, 0.0758923813700676, -0.7600187063217163, -0.02238205261528492, 0.11444493383169174, -0.0775383859872818, 0.19431623816490173, -0.14876718819141388, 0.02519356459379196, 0.3144547939300537, 0.0051754433661699295, -0.10748030990362167, -0.46954452991485596, -0.1656058132648468, 0.649732232093811, 0.15116441249847412, 0.30920857191085815, -0.11871584504842758, 0.08661703020334244, 0.12394377589225769, 0.401886522769928, 0.5702698230743408, -0.2825317680835724, 0.16440583765506744, -0.263913094997406, 0.1927436888217926, -0.23296871781349182, 0.44557985663414, -0.07131592184305191, -0.02285466343164444, -0.16092894971370697, -0.5132598876953125, 0.3992646336555481, 0.37456047534942627, -0.18533828854560852, 0.4195684790611267, 0.16736315190792084, -0.3043394982814789, 0.40677863359451294, -0.2833511531352997, 0.009967340156435966, -0.08232668042182922, -0.005884699057787657, -0.05598216503858566, -0.282736212015152, -0.271843284368515, 0.09754029661417007, 0.01148799154907465, 0.2650279402732849, 0.46371978521347046, 0.1456252634525299, -0.15842962265014648, -0.32592251896858215, -0.12457335740327835, -0.5342355370521545, -0.5125783085823059, 0.40306949615478516, 0.768820583820343, -0.04965934902429581, 0.5379423499107361, -0.6189089417457581, 0.05507051199674606, -0.1848020851612091, 0.16967929899692535, -0.3289351165294647, -0.2614372670650482, 0.2891550064086914, 0.2988361716270447, -0.4204772412776947, -0.22435888648033142, 0.0683947205543518, -0.06670986860990524, -0.2594401240348816, 0.20577459037303925, -0.07002972066402435, 0.1309615969657898, -0.1442927122116089, 0.20932833850383759, 0.11499938368797302, -0.13379989564418793, 0.2274077832698822, -0.007188128773123026, 0.40398603677749634, 0.3959968686103821, 0.37391093373298645, 0.11537516862154007, -0.19516126811504364, 0.32513120770454407, -0.5892356038093567, -0.24442510306835175, 0.16954953968524933, 0.15209037065505981, 0.2989112436771393, 0.17542371153831482, 0.1838887333869934, 0.37957969307899475, -0.04880334436893463, 0.21205024421215057, 0.5018793344497681, -0.014147142879664898, 0.2551678419113159, 0.0962105318903923, 0.03621571138501167, -0.2765279710292816, -0.33235427737236023, -0.12442255020141602, -0.3036110997200012, -0.221294566988945, 0.14717236161231995, -0.3168785870075226, -0.03460324555635452, -0.32556506991386414, -0.015543618239462376, 0.36289504170417786, -0.0034291609190404415, 0.31174221634864807]\n",
            "Token 12: [0.6560598015785217, -0.06470096111297607, 0.2865121364593506, 1.032738208770752, 0.7293173670768738, -0.2600289285182953, -0.2697264850139618, 0.5988522171974182, 0.5179480314254761, -0.7974753379821777, -0.41386014223098755, 0.32877859473228455, -1.8383290767669678, 0.18935462832450867, -0.7367542386054993, 0.11060727387666702, 0.25129422545433044, 0.6045066118240356, 0.778961718082428, -0.14879900217056274, -0.6722450256347656, 0.08847974240779877, -0.41621288657188416, 0.026233507320284843, 0.7937959432601929, -0.6549926400184631, 0.49493932723999023, 1.7462749481201172, 0.1100931391119957, 0.03400566428899765, -0.15160974860191345, 0.33008918166160583, -0.010092693381011486, 0.09890291094779968, 0.2476307898759842, -0.048332586884498596, 0.06504945456981659, 0.6811334490776062, -1.2697439193725586, 0.2562127709388733, 0.06118086352944374, 0.1768956482410431, 0.34821921586990356, -0.9993771314620972, 0.552756667137146, 0.13560247421264648, -0.8793134093284607, 0.9493674039840698, -0.6315616965293884, 0.794701874256134, -0.05648517981171608, -1.0962938070297241, -0.4473085105419159, 0.70818692445755, -0.40305593609809875, 0.01128576323390007, -0.45914560556411743, 0.36390116810798645, -0.056850701570510864, 0.4061039686203003, 0.2542038857936859, 0.02314542420208454, 0.526627779006958, 0.9418991804122925, 0.07211625576019287, -0.22718265652656555, 0.4588835835456848, -0.9781599044799805, -0.5421304106712341, -0.14421017467975616, 0.1008162796497345, -0.33551666140556335, 0.5456479787826538, -1.3231065273284912, 0.19854065775871277, 0.2747213840484619, 0.4911222755908966, 0.37190258502960205, -0.9786006808280945, -0.3386805057525635, 1.381840705871582, 1.27906334400177, 0.06672222912311554, 0.04410509020090103, 0.6756665110588074, 0.9338969588279724, -0.3056984543800354, 0.05291306599974632, 0.7281568050384521, 1.0726736783981323, -0.6379250884056091, 0.3348528742790222, 0.5315318703651428, -0.6080614328384399, 0.3183659613132477, -0.9731059074401855, -1.0595481395721436, 0.6032449007034302, -0.6727083325386047, -0.04633861035108566, 0.4100278317928314, 0.00024769167066551745, 0.28465887904167175, 0.5073410868644714, 0.72394198179245, -0.007579512428492308, -0.8907949924468994, -0.9758481979370117, -0.3559044301509857, 0.44414910674095154, -0.5550423860549927, -0.7016680240631104, 0.6085402965545654, -0.8003930449485779, -0.3293614983558655, 0.6543819308280945, -0.5312358736991882, 0.20917770266532898, 0.17650195956230164, -0.29865965247154236, 0.6764907240867615, -0.45009660720825195, -0.5328846573829651, -0.10905645787715912, 0.5140180587768555, 0.5303494930267334, -0.9515933394432068, 0.42563918232917786, 0.7293195724487305, 0.04258237034082413, -0.19534818828105927, -0.005672439932823181, 0.36435991525650024, 0.8097711205482483, -0.05794847384095192, -0.4824846088886261, -0.40670180320739746, 0.03621690347790718, -4.922880172729492, -0.6125733256340027, -0.5758822560310364, -0.05062977224588394, 1.0265049934387207, -1.7350859642028809, 0.7130250930786133, -0.1766214668750763, 0.36057448387145996, 0.39883556962013245, -0.5296607613563538, 1.510467767715454, -0.643563449382782, 0.30402591824531555, 0.525868833065033, -1.2498835325241089, 1.2221627235412598, -1.0620847940444946, -0.32018837332725525, -0.34213557839393616, 0.28355059027671814, -0.1342923939228058, 0.4597354531288147, -0.34886860847473145, -0.6287330985069275, -0.1953611522912979, 0.11085217446088791, 0.09011814743280411, 0.47850310802459717, 0.23664617538452148, -0.1525498479604721, 0.5753066539764404, 0.1858527809381485, -0.9940059781074524, -0.21762298047542572, -0.5754664540290833, 0.43746787309646606, 0.6127189993858337, 0.04728221893310547, 0.49243202805519104, 0.053140394389629364, -0.7530432939529419, 0.41376981139183044, -1.1416369676589966, -0.09657958894968033, -1.1322948932647705, 0.6967827677726746, 0.4006551206111908, 0.0975746139883995, 1.6360653638839722, 2.249347448348999, -0.717151939868927, 1.0605956315994263, -0.6211572289466858, -0.5979476571083069, -0.2817290425300598, -0.41711926460266113, -0.13812190294265747, -0.9796384572982788, 0.27933770418167114, 0.37154269218444824, 1.0910099744796753, -0.6001867651939392, 0.1274859756231308, -0.4169992506504059, 0.39019471406936646, -0.09128519147634506, -0.956691324710846, -0.5074770450592041, 0.04732311889529228, 0.09309114515781403, -1.6848959922790527, -0.607170820236206, 1.093108057975769, 0.0724564641714096, 0.20351938903331757, -0.9862802028656006, -0.2966279089450836, -0.7853392362594604, 0.26240015029907227, 0.5369241237640381, -0.14668594300746918, -0.07476198673248291, 0.0872126966714859, 0.6368774771690369, -0.6001078486442566, 0.4348141849040985, 0.6477277874946594, 1.3484190702438354, -0.3594711422920227, 0.7195993065834045, 0.5471766591072083, 0.40524110198020935, -0.1278887540102005, -0.7229881882667542, -0.6269596219062805, 0.21284964680671692, 0.02673977240920067, -1.4965089559555054, 0.4501008689403534, -0.5034700036048889, 0.5286949872970581, -0.35022032260894775, 0.19215142726898193, 0.9601966738700867, 0.07530004531145096, 0.27040642499923706, 0.10297486931085587, 0.2620311677455902, 0.6339108347892761, 0.6502851247787476, 0.40772756934165955, 0.1835174262523651, -0.40285253524780273, 0.27949172258377075, 0.35473695397377014, -0.15328723192214966, 0.38614678382873535, -0.4500350058078766, 0.31510859727859497, -0.14025922119617462, 0.18765130639076233, -0.405904084444046, 1.2447469234466553, 0.037642791867256165, -0.4681437313556671, -0.627126932144165, -0.39162740111351013, -0.37012457847595215, -0.12174291163682938, 0.8602520823478699, 0.8133790493011475, 0.5364848375320435, -0.7212080955505371, 0.8651949763298035, -0.29367637634277344, 0.006421409547328949, 0.6347823739051819, 0.8675493597984314, 0.14158056676387787, 0.48974794149398804, -1.0873162746429443, -0.1565895974636078, 0.7169981002807617, -0.39624831080436707, 1.1301544904708862, -0.7454977035522461, 0.09021658450365067, 0.0004962413804605603, 0.341648131608963, -0.7243877649307251, -0.1554049551486969, -0.7991335988044739, 0.08142609149217606, -1.4681661128997803, -0.28224608302116394, 0.5262984037399292, -0.724155843257904, -1.0910704135894775, 0.2576614320278168, -0.7339070439338684, 0.43520545959472656, 1.6228978633880615, -0.3043729364871979, -0.03926914185285568, -0.20977386832237244, -5.5885186195373535, -0.3972809910774231, 0.02618279494345188, 0.8944305181503296, 0.3179338276386261, -0.20160625874996185, 1.4895201921463013, 0.8641147017478943, -1.1067487001419067, 0.23539261519908905, 0.044683195650577545, 0.1638876348733902, -0.19719618558883667, 0.17661882936954498, -0.7416961193084717, -0.39358967542648315, -0.5948548316955566, 0.6730705499649048, -1.0196064710617065, 0.7122102975845337, -0.6302392482757568, 0.020701909437775612, -0.38376384973526, 1.3959171772003174, -0.4570557177066803, -1.0165581703186035, 0.24904681742191315, -0.7496173977851868, -0.7335635423660278, 0.5727524161338806, 0.2589140236377716, 0.6403447985649109, 0.2075604796409607, 0.37822768092155457, 0.4353976249694824, 0.23445837199687958, 1.254032850265503, 1.0927244424819946, -0.43692171573638916, -0.976371169090271, 0.05152140185236931, 0.1846017837524414, 0.04937735199928284, -0.6814911961555481, -0.8409736752510071, -0.06903340667486191, -0.09262406080961227, -0.6044561266899109, -1.2641682624816895, -0.7468307614326477, 0.5107426047325134, -0.15259206295013428, 0.5317990779876709, -0.5402295589447021, 0.2316422313451767, 0.599335253238678, -0.18603606522083282, -0.12512879073619843, 0.9205185174942017, -0.17201413214206696, -0.1266423761844635, -0.6852526664733887, -0.06021730601787567, 0.6343802213668823, 0.6348295211791992, 0.4741671085357666, 1.1633895635604858, -0.03049180842936039, 0.5739080905914307, 0.11112995445728302, -0.4497549533843994, 0.44766831398010254, 0.13846072554588318, -0.21985116600990295, -0.017965609207749367, -0.8802906274795532, 0.8179911375045776, 0.6948265433311462, -0.748650074005127, -0.38958415389060974, 0.6481813192367554, -0.7243082523345947, -0.24384178221225739, 1.1752208471298218, 0.7871409058570862, 1.1783788204193115, 0.6725627779960632, -0.4017680585384369, 0.929122269153595, -1.4786975383758545, -0.9331105947494507, 0.24195115268230438, -0.6871861219406128, 0.15779782831668854, -0.11928369104862213, 0.05382322520017624, -1.2018417119979858, -0.055404502898454666, 0.09579601138830185, -0.46898961067199707, -0.6340486407279968, 0.3337177634239197, -1.0245957374572754, 0.9362046718597412, 0.26604798436164856, 0.8358602523803711, -0.27761879563331604, -0.369111031293869, 0.5100066065788269, 0.7096815705299377, 0.7541811466217041, -1.24319326877594, 0.2391001582145691, -0.1744426190853119, 0.31651097536087036, 0.5246447324752808, 0.45838695764541626, 0.6796276569366455, 0.6583388447761536, 0.46742114424705505, 1.6910159587860107, 0.5175246596336365, 0.7194043397903442, -0.2815636396408081, 0.20932583510875702, 0.40421760082244873, 0.006044080015271902, 0.24279525876045227, -0.2564846873283386, 1.0381460189819336, -0.5551815032958984, -0.08436103165149689, -0.11726407706737518, 0.9632465243339539, -1.3035986423492432, -1.2338443994522095, 0.5608967542648315, -0.29121142625808716, -0.20183423161506653, -0.9818201065063477, 0.13266760110855103, -0.27544257044792175, 0.1365586817264557, -0.17627546191215515, -0.5365957617759705, -1.2991591691970825, 0.011982419528067112, -0.43862849473953247, 0.1812366098165512, -0.12313277274370193, -1.0084635019302368, -0.10431265830993652, 1.086844563484192, -0.11500389128923416, -0.705778181552887, 0.4327658712863922, -1.4800821542739868, 1.2085938453674316, -0.7268779277801514, 1.4923077821731567, 4.8818440437316895, 0.15948700904846191, 0.10190096497535706, 1.5170937776565552, -0.5161142945289612, -0.727341890335083, -0.10652294009923935, 0.13278144598007202, 1.617981195449829, 0.9304972887039185, -0.37697744369506836, -0.5569203495979309, -0.20146186649799347, 0.588041365146637, 0.822356641292572, 0.008146004751324654, 0.058002498000860214, 0.4035673141479492, -0.7203949093818665, 0.5181326866149902, 1.227352261543274, 0.8428761959075928, -0.011266088113188744, 0.03093191608786583, -0.36462876200675964, 1.0857685804367065, 0.7864160537719727, 0.027696166187524796, -0.7766412496566772, 0.042309295386075974, 0.006869382690638304, -0.2592650353908539, 0.03851383179426193, 0.14657874405384064, -0.44872966408729553, -0.7391475439071655, -0.02266574278473854, -0.6021695733070374, -0.2857075035572052, 0.6589009761810303, 0.23856417834758759, 1.0472474098205566, -0.2563035786151886, -1.420706868171692, -0.423784077167511, -1.2884732484817505, -0.2698095142841339, -0.7118510007858276, -0.8538764119148254, -0.32383492588996887, -0.1452854871749878, -0.6424455642700195, 0.7109577059745789, 0.24440178275108337, -0.5320192575454712, -0.23462507128715515, -1.0437068939208984, -0.044541679322719574, -0.9727707505226135, -1.317816138267517, 0.33979612588882446, 0.34325361251831055, -0.442117840051651, 1.0753082036972046, 0.9056654572486877, 0.3003653287887573, -0.7187468409538269, -0.23837099969387054, -0.3027198314666748, -0.7786480188369751, 1.1988213062286377, -0.5779750347137451, -0.4131479561328888, 0.6027222275733948, 0.16151303052902222, -0.022617194801568985, -0.3181176781654358, 0.2355537712574005, 0.5798704624176025, -0.958195686340332, -0.5733159780502319, -0.03959406912326813, -0.28339114785194397, 0.43704646825790405, -0.5956655740737915, -0.6597263216972351, -0.3427164852619171, -0.46702903509140015, -1.2518041133880615, -0.31665194034576416, 0.0585545115172863, 0.587715208530426, -0.9955269694328308, 1.2832998037338257, -0.3018414080142975, 1.0414103269577026, -0.33979105949401855, -0.023077314719557762, 0.44812342524528503, -0.589880645275116, -0.5162243843078613, 0.4879721403121948, -0.46275657415390015, -0.31257444620132446, 1.360965371131897, 0.4937421381473541, 0.3570651113986969, -0.6752334833145142, -0.013342859223484993, -0.11686239391565323, 0.4744289517402649, 0.23125073313713074, 0.4062027633190155, 0.6882516145706177, 0.46434715390205383, -0.5345476865768433, -0.01859833486378193, 0.9139227271080017, 0.2794991731643677, -0.754734992980957, 0.3767865002155304, 0.11731657385826111, -0.5583611130714417, -0.8800677061080933, 0.44229915738105774, -1.2131394147872925, -0.46312686800956726, -0.8885115385055542, -1.34859037399292, 0.5762647390365601, -0.09401722252368927, 0.012427832931280136, -0.5715097784996033, 0.2390775978565216, 0.19102410972118378, -0.8832916617393494, 1.1034340858459473, -0.021771742030978203, -1.0381138324737549, -0.946297287940979, 0.12188170850276947, 0.4068862199783325, -0.16932590305805206, 4.548789978027344, 0.08455361425876617, -0.7896311283111572, -0.9252055287361145, -1.155457615852356, 0.5923908352851868, -0.9316113591194153, -0.05189909785985947, 0.2142723947763443, -0.15130136907100677, -1.026893973350525, -0.514587938785553, 0.12656912207603455, -0.7156922817230225, -0.1759708672761917, 0.02421702817082405, -0.05029566213488579, -0.0930054783821106, 1.2895209789276123, 0.7515025734901428, 0.052140794694423676, -0.7048989534378052, 0.16308684647083282, -0.3903042674064636, 0.2269287407398224, -0.07429346442222595, -0.7696651220321655, 0.09742657095193863, -1.1274497509002686, 0.37774142622947693, -1.0253487825393677, 0.4519639313220978, 1.1550509929656982, -0.08655790239572525, 0.13331712782382965, -0.4544934928417206, -0.38988348841667175, 0.04967525601387024, 0.16986218094825745, -0.2537288963794708, 0.32995375990867615, -0.2457018792629242, -1.172152042388916, 0.5225790739059448, -1.3870867490768433, -0.4866907000541687, 0.05624604970216751, 0.27935558557510376, -0.374175101518631, 0.7879036068916321, -0.854368269443512, 0.31108132004737854, -0.9659824371337891, 0.04172591492533684, 0.49933090806007385, -0.2527513802051544, -0.2546892464160919, -0.8295270800590515, -0.08696062117815018, 1.2163681983947754, 0.33070069551467896, -0.25887829065322876, -0.7411945462226868, 0.5342235565185547, -0.38047170639038086, -0.22740362584590912, 1.2938891649246216, -0.8463898301124573, -0.45487433671951294, 0.005355727858841419, 0.31826648116111755, -0.6565582752227783, 0.8915759921073914, -0.023460786789655685, -0.44487684965133667, -0.043535634875297546, 0.5547773241996765, -0.08097122609615326, 0.40187519788742065, -0.9898768663406372, 0.6196908354759216, -0.3787321150302887, -0.052293308079242706, -0.3649716079235077, -0.48056888580322266, -0.3190179169178009, -0.4093206524848938, -0.43983006477355957, 0.0016202045371755958, -0.33216336369514465, -0.197531059384346, 0.3269796669483185, 1.051318883895874, 0.07492926716804504, -0.04613568261265755, -0.25418803095817566, -0.4413761794567108, -0.789451003074646, -0.31240200996398926, 0.4760688841342926, -0.9972840547561646, 0.09279142320156097, 0.6706404089927673, 0.16945914924144745, -0.4598029553890228, -0.3516550660133362, 0.139275461435318, 0.3131084740161896, 0.6301591396331787, -0.7765932679176331, -0.3156663477420807, -0.023164590820670128, 0.33246538043022156, -1.1924657821655273, -0.24395930767059326, 0.8571914434432983, -1.0328805446624756, -1.2209974527359009, 0.5547188520431519, 0.2998713254928589, 0.4157203733921051, -0.563339114189148, 1.0387824773788452, 0.48900556564331055, -0.3788417875766754, -0.6221965551376343, 0.6985691785812378, 0.4635275900363922, 0.5122408270835876, 0.47795596718788147, -0.26860931515693665, 0.4519977569580078, 0.16414514183998108, -0.6819105744361877, -0.3302087187767029, 0.6860780715942383, 0.24653464555740356, 0.21374700963497162, -0.26236259937286377, -0.0799395814538002, -0.2467149794101715, -0.4585047662258148, -0.25703850388526917, 1.3867075443267822, 0.8721505403518677, -0.10438772290945053, 0.46230608224868774, 0.10968583077192307, -0.8581432104110718, 0.2876051664352417, -0.21854157745838165, -0.17722585797309875, 0.602753758430481, -0.44306495785713196, -0.051508624106645584, 0.14994291961193085, -0.9509416818618774, -0.20491786301136017, 0.501793622970581, 0.2354956865310669, -0.49221405386924744]\n",
            "Token 13: [0.6848932504653931, -0.13319551944732666, 0.42084506154060364, 0.9731488823890686, 0.7537611722946167, -0.13637982308864594, -0.25584161281585693, 0.6106793284416199, 0.42842981219291687, -0.7403974533081055, -0.5717639327049255, 0.30330905318260193, -1.9107879400253296, 0.07849114388227463, -0.6054526567459106, 0.1397387683391571, 0.30762287974357605, 0.5882173776626587, 0.784745454788208, -0.14959965646266937, -0.6176278591156006, -0.055500272661447525, -0.4571818709373474, -0.04095371067523956, 0.8763015866279602, -0.5683762431144714, 0.5066159963607788, 1.5736477375030518, 0.10901350528001785, 0.09323979169130325, -0.2617751359939575, 0.22309328615665436, 0.04487808421254158, 0.049310870468616486, 0.16079849004745483, -0.021749842911958694, 0.18217569589614868, 0.5040193200111389, -1.1173738241195679, 0.2711542248725891, -0.03304580599069595, 0.10998757183551788, 0.4350748658180237, -1.0766404867172241, 0.5746609568595886, -0.028572892770171165, -0.7258704900741577, 1.0240905284881592, -0.6210026741027832, 0.9166679382324219, 0.02795039489865303, -1.1879159212112427, -0.3989560306072235, 0.9721888303756714, -0.49210456013679504, 0.01624859683215618, -0.4420095682144165, 0.3144077658653259, 0.003384856740012765, 0.35792797803878784, 0.23664338886737823, 0.07163713872432709, 0.39605650305747986, 0.9486461281776428, 0.03815999999642372, -0.27415087819099426, 0.4316767156124115, -0.876775860786438, -0.5129122138023376, -0.2562641501426697, 0.15998844802379608, -0.33829590678215027, 0.4226455092430115, -1.2408918142318726, 0.1826694905757904, 0.3180195391178131, 0.5527483820915222, 0.3666290044784546, -0.9062413573265076, -0.3001145124435425, 1.2544070482254028, 1.332470417022705, 0.10280902683734894, 0.13598516583442688, 0.7082889676094055, 0.8607755303382874, -0.40994688868522644, -0.07715300470590591, 0.5697482228279114, 1.1017204523086548, -0.6243144273757935, 0.19159062206745148, 0.5955934524536133, -0.6688370704650879, 0.36241450905799866, -0.9440192580223083, -0.9745917320251465, 0.6671944260597229, -0.5842762589454651, -0.07066255807876587, 0.43434804677963257, -0.026476673781871796, 0.23088710010051727, 0.5757625699043274, 0.7972763776779175, 0.021368030458688736, -0.8971964120864868, -1.0759894847869873, -0.20277100801467896, 0.45199155807495117, -0.4542835056781769, -0.7304934859275818, 0.6742693185806274, -0.8391134738922119, -0.37213507294654846, 0.6204126477241516, -0.5133832097053528, 0.24810907244682312, 0.0477483794093132, -0.3386381268501282, 0.6296097040176392, -0.5670808553695679, -0.4931664764881134, -0.03336022049188614, 0.390872985124588, 0.5066735148429871, -0.9587931632995605, 0.5091126561164856, 0.6728017926216125, -0.0315997414290905, -0.1677047461271286, -0.01610320247709751, 0.40934237837791443, 0.6982589364051819, 0.013044087216258049, -0.5344751477241516, -0.5149356722831726, 0.021115045994520187, -4.524232387542725, -0.6035996675491333, -0.6450818777084351, -0.05997675284743309, 1.055997610092163, -1.814403772354126, 0.6840053200721741, -0.06335785984992981, 0.19237087666988373, 0.44679829478263855, -0.5595242381095886, 1.4699033498764038, -0.5363616347312927, 0.4055849611759186, 0.46043673157691956, -1.3281745910644531, 1.0584595203399658, -1.023356556892395, -0.4299730956554413, -0.2378663718700409, 0.30338892340660095, -0.11558126658201218, 0.6155092120170593, -0.2758593261241913, -0.6100243330001831, -0.2912277281284332, 0.16505320370197296, 0.16692815721035004, 0.5334210991859436, 0.16133089363574982, -0.16619156301021576, 0.5745917558670044, 0.19619041681289673, -0.9765481352806091, -0.35190752148628235, -0.6018391847610474, 0.33305665850639343, 0.555675208568573, 0.161354199051857, 0.5393835306167603, 0.027930010110139847, -0.7107418775558472, 0.4196007251739502, -1.1204159259796143, -0.13754597306251526, -1.080443024635315, 0.7874526381492615, 0.48147255182266235, 0.17447786033153534, 1.5380041599273682, 2.0203988552093506, -0.7754532694816589, 0.9102599620819092, -0.640417218208313, -0.42775389552116394, -0.32647785544395447, -0.3373055160045624, -0.03840355575084686, -1.0420446395874023, 0.2804073691368103, 0.3230717182159424, 1.0587546825408936, -0.5314387083053589, -0.1063423901796341, -0.455140620470047, 0.43082407116889954, -0.06807730346918106, -1.037250280380249, -0.5400144457817078, -0.06414814293384552, 0.14618119597434998, -1.5824140310287476, -0.6614214181900024, 1.0958677530288696, 0.1485009491443634, 0.20114006102085114, -1.0486767292022705, -0.3458237051963806, -0.7551270723342896, 0.2623951733112335, 0.4900048077106476, -0.03854437172412872, -0.020435167476534843, 0.01405712403357029, 0.5567445755004883, -0.5364224910736084, 0.3578444719314575, 0.5338517427444458, 1.3430655002593994, -0.38853010535240173, 0.7641863226890564, 0.535487711429596, 0.32665809988975525, -0.20853327214717865, -0.6689848899841309, -0.5499985814094543, 0.12031671404838562, -0.2209540754556656, -1.5666583776474, 0.32123446464538574, -0.5608916878700256, 0.5637820959091187, -0.29862865805625916, 0.16934575140476227, 0.8606674075126648, -0.002359726233407855, 0.3763454854488373, 0.09882000833749771, 0.23852139711380005, 0.5715283751487732, 0.8024612665176392, 0.4107186496257782, 0.1982199102640152, -0.4102218747138977, 0.28292596340179443, 0.4217608869075775, -0.33507585525512695, 0.31153878569602966, -0.44612619280815125, 0.2340594083070755, -0.10761376470327377, 0.04292327165603638, -0.4884983003139496, 1.2144150733947754, -0.07551191747188568, -0.5459253191947937, -0.605987012386322, -0.25698310136795044, -0.38937094807624817, -0.09831783920526505, 0.8334743976593018, 0.7379208207130432, 0.4375118017196655, -0.7720341682434082, 0.6324027180671692, -0.2465367466211319, -0.05732042342424393, 0.7056909799575806, 0.9068387150764465, 0.209121972322464, 0.47164735198020935, -0.9617913961410522, -0.16074740886688232, 0.6960417032241821, -0.36216384172439575, 1.387645959854126, -0.7755789756774902, 0.12454023957252502, 0.033428292721509933, 0.4721220135688782, -0.7211683988571167, -0.07710123807191849, -0.8425929546356201, 0.062901072204113, -1.518155813217163, -0.12213276326656342, 0.5956991314888, -0.726720929145813, -1.209769606590271, 0.3963540494441986, -0.7578403353691101, 0.3233741819858551, 1.6042131185531616, -0.3120959401130676, -0.15945304930210114, -0.14835691452026367, -5.260660648345947, -0.4154379963874817, -0.0465303435921669, 0.8286592364311218, 0.30068516731262207, -0.2268344610929489, 1.329103708267212, 0.7422836422920227, -1.2421140670776367, 0.09044081717729568, 0.16139544546604156, 0.1842607855796814, -0.27725574374198914, 0.26875990629196167, -0.77104651927948, -0.4471472203731537, -0.569206178188324, 0.5804628133773804, -0.9746930599212646, 0.7524920105934143, -0.5683445930480957, 0.029324090108275414, -0.4100930988788605, 1.359334111213684, -0.4393186569213867, -0.955065131187439, 0.18729926645755768, -0.6705710291862488, -0.7641382217407227, 0.4512275159358978, 0.1761331409215927, 0.47289159893989563, 0.1850312501192093, 0.5095836520195007, 0.2328786998987198, 0.213826984167099, 1.2624139785766602, 1.1388300657272339, -0.4511418342590332, -1.0020508766174316, 0.13972274959087372, 0.23410870134830475, 0.031020475551486015, -0.5678398013114929, -0.7588410973548889, -0.135456383228302, -0.11569548398256302, -0.5453718304634094, -1.2885228395462036, -0.6313093304634094, 0.5042575597763062, -0.05169571563601494, 0.5851213335990906, -0.5596888065338135, 0.1890328973531723, 0.510157585144043, -0.20527507364749908, -0.28047797083854675, 0.8954935669898987, -0.13401955366134644, -0.047734081745147705, -0.7125192284584045, 0.03512664884328842, 0.7225177884101868, 0.5642547607421875, 0.3107432723045349, 1.138608455657959, 0.054647307842969894, 0.45660942792892456, 0.08759260177612305, -0.45801475644111633, 0.42222267389297485, 0.08275343477725983, -0.1610516607761383, -0.05114263296127319, -0.8196151852607727, 0.7886080145835876, 0.8206008672714233, -0.6930813193321228, -0.30056262016296387, 0.6563447713851929, -0.6532204747200012, -0.13761278986930847, 1.1346367597579956, 0.6845827102661133, 1.2681940793991089, 0.5887529850006104, -0.3746333718299866, 0.9204889535903931, -1.5604697465896606, -0.9215958714485168, 0.1406354010105133, -0.7241200804710388, 0.07679203152656555, -0.04930756986141205, 0.04045375436544418, -1.2210701704025269, -0.11297128349542618, 0.164805069565773, -0.5600282549858093, -0.5489725470542908, 0.4787038266658783, -0.9194235801696777, 0.9181892275810242, 0.2137107253074646, 0.8861820697784424, -0.23082195222377777, -0.23466213047504425, 0.479228138923645, 0.5674623250961304, 0.6783348321914673, -1.2488000392913818, 0.24735164642333984, -0.358559787273407, 0.33790841698646545, 0.6065186262130737, 0.6188099980354309, 0.6947048306465149, 0.7274457812309265, 0.37954357266426086, 1.6480300426483154, 0.5542029142379761, 0.6523227095603943, -0.21348929405212402, 0.2394997626543045, 0.346321165561676, 0.05191979557275772, 0.2719230651855469, -0.26853257417678833, 0.9202290177345276, -0.4989669620990753, 0.014113079756498337, -0.21346648037433624, 0.9791032671928406, -1.4186482429504395, -1.1381888389587402, 0.6032748818397522, -0.08632053434848785, -0.31450900435447693, -0.8936657905578613, 0.1229054406285286, -0.19713176786899567, 0.0819820687174797, -0.1644182652235031, -0.4722418785095215, -1.2667267322540283, 0.0531282015144825, -0.564486026763916, 0.0901031494140625, -0.048575304448604584, -0.7691588997840881, -0.08307106047868729, 1.0471056699752808, -0.14346608519554138, -0.7149779796600342, 0.5074120759963989, -1.3948311805725098, 1.1360772848129272, -0.7094842195510864, 1.4275538921356201, 4.7256646156311035, 0.15773406624794006, 0.1053837314248085, 1.4174429178237915, -0.5152168273925781, -0.7308767437934875, -0.1733231395483017, 0.21255327761173248, 1.615100622177124, 0.9242735505104065, -0.4407508075237274, -0.5438833236694336, -0.14095164835453033, 0.6884992122650146, 0.9039957523345947, -0.022661428898572922, -0.008780763484537601, 0.40215131640434265, -0.7862036228179932, 0.49817633628845215, 1.15533447265625, 0.8523297309875488, -0.16298869252204895, 0.02815999463200569, -0.46290233731269836, 0.9784419536590576, 0.681117057800293, -0.22940006852149963, -0.702806830406189, 0.18274539709091187, -0.050794728100299835, -0.21161513030529022, -0.032853491604328156, 0.06629646569490433, -0.41234126687049866, -0.6634788513183594, -0.03984322398900986, -0.5463043451309204, -0.37142547965049744, 0.648673951625824, 0.29672935605049133, 1.1201038360595703, -0.283835232257843, -1.5527557134628296, -0.38513219356536865, -1.3855355978012085, -0.30927568674087524, -0.6670243740081787, -0.9432355165481567, -0.2754720151424408, -0.07473655790090561, -0.735165536403656, 0.6145595908164978, 0.2777567207813263, -0.5141178965568542, -0.18877454102039337, -0.9431246519088745, -0.009925661608576775, -0.9694082736968994, -1.3875936269760132, 0.4915834367275238, 0.4042944312095642, -0.44561582803726196, 1.10720694065094, 0.8299253582954407, 0.21466797590255737, -0.6642749905586243, -0.2541286051273346, -0.24767352640628815, -0.8282809853553772, 1.1571521759033203, -0.5972738265991211, -0.40491148829460144, 0.6448730826377869, 0.2647480368614197, 0.07560862600803375, -0.3139265179634094, 0.32415539026260376, 0.47547730803489685, -0.9049577116966248, -0.6573025584220886, -0.1635265201330185, -0.27362874150276184, 0.40273064374923706, -0.5943311452865601, -0.6524138450622559, -0.3696218729019165, -0.4281374216079712, -1.3321702480316162, -0.4043673574924469, 0.03890381008386612, 0.6846024394035339, -0.961686909198761, 2.6688692569732666, -0.3198273479938507, 1.0202574729919434, -0.25454503297805786, -0.021057236939668655, 0.3453671932220459, -0.4591231346130371, -0.4349972605705261, 0.4632805287837982, -0.5415663719177246, -0.32843539118766785, 1.3537529706954956, 0.3736744523048401, 0.25816628336906433, -0.6368427276611328, 0.058128759264945984, -0.05650201067328453, 0.5645570755004883, 0.22036997973918915, 0.347227543592453, 0.6891252994537354, 0.4237334728240967, -0.43245792388916016, -0.015480520203709602, 0.770102858543396, 0.35146093368530273, -0.7387845516204834, 0.2929772734642029, 0.10500694811344147, -0.40326640009880066, -0.8461177349090576, 0.3808022737503052, -1.2899163961410522, -0.43772092461586, -0.9188362956047058, -1.4005343914031982, 0.5207344889640808, -0.151547372341156, 0.13222450017929077, -0.5948576331138611, 0.2583165764808655, 0.25953203439712524, -0.9898066520690918, 1.293131947517395, 0.0015923696337267756, -1.1534202098846436, -0.8837295174598694, 0.16536560654640198, 0.45982497930526733, -0.21544887125492096, 4.267678260803223, 0.08390361815690994, -0.807970404624939, -0.8859100341796875, -1.2202494144439697, 0.5598123073577881, -0.7598645687103271, -0.0830894410610199, 0.11981932818889618, -0.10642242431640625, -1.0884908437728882, -0.4683608114719391, 0.32639580965042114, -0.7948372960090637, -0.0687660500407219, 0.13970984518527985, -0.12542927265167236, -0.06107193976640701, 1.2514208555221558, 0.7460168600082397, 0.0867956206202507, -0.6580164432525635, 0.12996739149093628, -0.37259554862976074, 0.30789631605148315, -0.0790293961763382, -0.5725603103637695, 0.11337544023990631, -0.9937015771865845, 0.363944411277771, -1.0020760297775269, 0.36583516001701355, 1.3602005243301392, -0.07658452540636063, 0.1389879733324051, -0.4242088198661804, -0.4242556393146515, 0.15597273409366608, 0.14074578881263733, -0.3524194061756134, 0.3331453800201416, -0.13194940984249115, -1.151188850402832, 0.38259363174438477, -1.4075531959533691, -0.5697685480117798, 0.04513968154788017, 0.3603402078151703, -0.36049994826316833, 0.6856245398521423, -0.7963034510612488, 0.2921774685382843, -0.8528937697410583, -0.0494224950671196, 0.5559876561164856, -0.20436741411685944, -0.25595012307167053, -0.7093877792358398, 0.03596372529864311, 1.03889799118042, 0.3358534872531891, -0.28641462326049805, -0.7950537204742432, 0.4686311185359955, -0.19675947725772858, -0.3568473160266876, 1.1124988794326782, -0.8667945265769958, -0.4632136821746826, 0.03774411976337433, 0.4066914916038513, -0.6365336775779724, 0.8826411366462708, 0.005996427498757839, -0.45671969652175903, -0.047583259642124176, 0.4891585409641266, -0.06911181658506393, 0.2917715609073639, -1.0500612258911133, 0.6380289196968079, -0.3592057228088379, -0.025580480694770813, -0.4362527132034302, -0.43223896622657776, -0.3605325222015381, -0.39267319440841675, -0.40397587418556213, -0.07026061415672302, -0.36525198817253113, -0.07894084602594376, 0.26986873149871826, 1.0439367294311523, 0.06915426254272461, -0.18044327199459076, -0.2211562693119049, -0.5377527475357056, -0.8404721021652222, -0.3890400528907776, 0.4353419244289398, -1.0281239748001099, 0.2686978578567505, 0.701253354549408, 0.25018998980522156, -0.3685620427131653, -0.45327186584472656, 0.10128771513700485, 0.162733256816864, 0.553268551826477, -0.8248130083084106, -0.38741788268089294, 0.14212840795516968, 0.3632718324661255, -1.238460898399353, -0.31654298305511475, 0.7854135632514954, -1.058366298675537, -1.3016221523284912, 0.42785295844078064, 0.1433687061071396, 0.33921006321907043, -0.7277717590332031, 1.097402572631836, 0.3915330469608307, -0.4248511493206024, -0.575679361820221, 0.5907402634620667, 0.5135146975517273, 0.4444418251514435, 0.44969436526298523, -0.23914411664009094, 0.4861892759799957, 0.20063787698745728, -0.7787035703659058, -0.35823431611061096, 0.771044135093689, 0.30933678150177, 0.22264596819877625, -0.29228299856185913, -0.07840590178966522, -0.24782118201255798, -0.5706757307052612, -0.07191327959299088, 1.381083369255066, 0.8716291785240173, -0.12593288719654083, 0.38745933771133423, 0.16358231008052826, -0.8106319308280945, 0.2888699471950531, -0.19080118834972382, -0.27023613452911377, 0.5966299772262573, -0.3702791631221771, -0.040472302585840225, 0.18806126713752747, -0.9242276549339294, -0.21112747490406036, 0.5850304961204529, 0.24361641705036163, -0.4508519470691681]\n"
          ]
        },
        {
          "output_type": "stream",
          "name": "stderr",
          "text": [
            "/usr/local/lib/python3.10/dist-packages/transformers/tokenization_utils_base.py:1601: FutureWarning: `clean_up_tokenization_spaces` was not set. It will be set to `True` by default. This behavior will be depracted in transformers v4.45, and will be then set to `False` by default. For more details check this issue: https://github.com/huggingface/transformers/issues/31884\n",
            "  warnings.warn(\n"
          ]
        }
      ]
    },
    {
      "cell_type": "markdown",
      "source": [
        "Analisis pada Objek fungsi pipeline() sebagai berikut :\n",
        "1. Zero-shot-classification  \n",
        "dengan menggunakan  zero-shot-classification memungkinkan model untuk menebak kategori teks berdasarkan beberapa pilihan yang diberikan, tanpa perlu contoh spesifik dari setiap kategorinya. Jadi, tanpa pelatihan tambahan, model sudah bisa mengira-ngira hubungan antara teks dengan label kandidat. Seperti contoh code di atas, teks tentang literatur modern yang menggunakan teknologi digital, dan label kandidatnya adalah \"art\", \"technology\", \"education\", \"social\", dan \"literature\". Model ini bekerja dengan menilai seberapa besar kemungkinan teks ini berhubungan dengan masing-masing label kandidat. Tanpa dilatih lagi, model akan membandingkan isi teks dengan label-label tersebut dan memberikan skor untuk setiap label. Dari contoh kode, skor tertinggi pada label teknologi karena di dalam teks memuat kata teknologi\n",
        "Dapat disimpulkan dengan zero-shot classification, kita bisa langsung mendapat kategori yang paling pas untuk teks tanpa perlu melatih model tambahan.\n",
        "2. Text-generation\n",
        "Tugas text-generation ini memerintahkan model untuk meneruskan teks atau membuat kalimat-kalimat baru berdasarkan ide awal yang kita berikan. Seperti pada contoh kode di atas, \"In this cooking class, you will learn how to create delicious meals using\", model ini mungkin akan menambahkan kalimat tentang bahan masakan, teknik memasak, atau resep tertentu yang cocok berdasarkan ide awal yang telah diberikan.\n",
        "Jadi, pipeline dengan tugas text-generation ini sangat membantu jika kita ingin model melanjutkan atau membuat teks baru berdasarkan awal kalimat yang kita berikan. Fungsinya cocok untuk membuat tulisan otomatis, mengisi konten, atau sebagai inspirasi dalam menulis.\n",
        "3. Fill-mask\n",
        "pipeline fill-mask ini memberikan fleksibilitas dan akurasi dalam melengkapi teks. Penggunaannya cocok untuk tugas-tugas yang melibatkan analisis bahasa, melengkapi kalimat otomatis, atau memperbaiki teks. Keunggulan utamanya adalah kemampuannya dalam menangkap konteks kalimat secara luas, memberikan prediksi kata yang masuk akal dan relevan. Penggunaan pipeline(\"fill-mask\") ini intinya adalah bahwa fungsi ini sangat berguna untuk melengkapi kalimat dengan kata yang paling pas. Jadi, kalau kita punya kalimat yang kurang satu kata dan kita tidak yakin apa yang harus diisi, fungsi ini bisa membantu dengan memprediksi kata yang paling cocok. Fungsi ini mungkin cocok dipakai untuk melengkapi teks atau menulis sebuah artikel.\n",
        "4. Ner\n",
        "penggunaan pipeline(\"ner\") ini adalah bahwa fungsi ini sangat berguna untuk mengenali dan mengklasifikasikan berbagai entitas yang ada dalam sebuah teks. Saat menggunakan NER, kita bisa mengidentifikasi informasi penting seperti nama orang, tempat, organisasi, dan kategori lainnya secara otomatis, tanpa perlu melakukan proses manual yang memakan waktu. Secara keseluruhan, penggunaan pipeline(\"ner\") ini memberikan kita cara yang efisien untuk mendapatkan informasi penting dari teks. Dengan kemampuan untuk mengenali dan mengklasifikasikan entitas secara otomatis, NER sangat membantu dalam berbagai aplikasi seperti pengembangan sistem informasi, chatbot, dan analisis data. Jadi, alat ini sangat berharga bagi siapa saja yang bekerja dengan data teks dan membutuhkan pemahaman yang lebih dalam tentang kontennya.\n",
        "5. Question-answering\n",
        "dari code di atas kita dapat melihat bahwa penggunaan pipeline untuk question-answering dari pustaka transformers sangat efisien dan efektif. Prosesnya melibatkan pengaturan konteks, mengajukan pertanyaan, dan memanfaatkan model yang telah dilatih untuk memberikan jawaban. Ini menunjukkan bagaimana teknologi NLP dapat digunakan untuk membangun sistem interaktif yang membantu pengguna dalam mencari informasi dengan cepat dan tepat. Dengan sistem ini, pengguna dapat memperoleh jawaban dari pertanyaan spesifik tanpa perlu mencari secara manual, sehingga meningkatkan efisiensi dalam pengolahan informasi.\n",
        "Di sini, kita mengatur konteks yang akan digunakan oleh model untuk mencari jawaban. Konteks yang jelas dan informatif sangat penting karena model akan mencari informasi berdasarkan teks ini. Dalam contoh ini, konteks menjelaskan definisi sistem informasi secara komprehensif, yang akan membantu model dalam memberikan jawaban yang akurat.\n",
        "Pertanyaan yang diajukan adalah \"Apa itu sistem informasi?\" pada kode di atas. Pertanyaan ini dirancang untuk meminta penjelasan spesifik dari konteks yang telah diberikan. Mengajukan pertanyaan yang tepat adalah langkah krusial karena menentukan seberapa baik model dapat menangkap dan memberikan jawaban dari informasi yang ada. Jadi question-answering berguna untuk menjawab pertanyaan sesuai konten yang telah diberikan sebelumnya, sistem akan menelusuri atau mencari jawaban dari konten yang telah diberikan.\n",
        "6. Sentiment-analysis\n",
        "Pipeline yang menggunakan sentiment analysis adalah alat yang sangat berguna dalam menganalisis emosi dan sikap dalam teks dengan cara yang efisien dan mudah digunakan. Meskipun memiliki kelebihan yang signifikan, penting untuk mempertimbangkan keterbatasan dan konteks penggunaan untuk mendapatkan hasil yang optimal. Dengan pengembangan lebih lanjut dan penerapan yang tepat, sentiment analysis dapat memberikan nilai tambah yang besar dalam berbagai bidang, dari bisnis hingga penelitian sosial. Jadi, Sentiment analysis digunakan untuk menentukan sikap atau emosi yang terkandung dalam suatu teks. Ini bisa mencakup klasifikasi sentimen sebagai positif, negatif, atau netral. Fungsi ini berguna dalam berbagai konteks, seperti analisis opini, umpan balik pelanggan, pengawasan media sosial, dan analisis berita. Dengan adanya sentiment analysis, organisasi dapat memahami persepsi publik terhadap produk, layanan, atau isu tertentu secara lebih efektif.\n",
        "7. Summarization\n",
        "Fungsi pipeline dengan summarization sangat berguna dalam mengolah teks panjang dan menghasilkan versi ringkas yang tetap informatif. Dengan menggunakan model yang telah dilatih sebelumnya, pengguna dapat dengan mudah dan cepat mendapatkan ringkasan dari teks yang panjang, yang sangat berguna dalam situasi di mana waktu dan pemahaman informasi menjadi penting. Secara keseluruhan, pipeline untuk summarization meningkatkan efisiensi dalam pemrosesan informasi dan memungkinkan akses lebih baik terhadap data yang relevan di era informasi saat ini\n",
        "8. Translation\n",
        "Fungsi pipeline dengan translation memberikan kemudahan dalam menerjemahkan teks dari satu bahasa ke bahasa lain secara otomatis. Dengan menggunakan model yang telah dilatih sebelumnya, pengguna dapat dengan cepat mendapatkan terjemahan yang akurat tanpa harus memiliki keahlian khusus dalam bahasa tersebut.\n",
        "Pipeline untuk terjemahan meningkatkan aksesibilitas informasi di berbagai bahasa, memungkinkan komunikasi yang lebih baik di dunia yang semakin terhubung. Meskipun teknologi ini terus berkembang dan memiliki batasan tertentu, seperti dalam penerjemahan konteks yang kompleks atau idiomatik, penggunaannya dalam berbagai bidang menunjukkan potensi besar dalam memfasilitasi pemahaman antar budaya dan bahasa.\n",
        "9. Feature-extraction\n",
        "Feature extraction adalah langkah penting dalam pemrosesan bahasa alami yang memungkinkan kita untuk mengubah teks menjadi bentuk yang dapat dipahami oleh model machine learning. Dengan menggunakan pipeline dari transformers, proses ini menjadi lebih mudah dan efisien. Meskipun hasilnya bisa kompleks, representasi numerik yang dihasilkan memberikan informasi berharga yang dapat digunakan untuk berbagai aplikasi di dunia nyata, termasuk dalam klasifikasi, analisis, dan pengembangan sistem berbasis AI. Secara keseluruhan, penggunaan feature extraction meningkatkan kemampuan kita untuk bekerja dengan data teks dan membuka jalan bagi inovasi di bidang kecerdasan buatan dan pemrosesan bahasa.\n",
        "\n",
        "\n",
        "\n"
      ],
      "metadata": {
        "id": "FJ2DD_XpY6PC"
      }
    }
  ]
}